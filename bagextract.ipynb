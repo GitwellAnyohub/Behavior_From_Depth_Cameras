{
 "metadata": {
  "name": "",
  "signature": "sha256:8e4f9fe3d8c4540e7acac5dd79ae4ba0db4c6623b1fbefab3785c932b45dd199"
 },
 "nbformat": 3,
 "nbformat_minor": 0,
 "worksheets": [
  {
   "cells": [
    {
     "cell_type": "code",
     "collapsed": false,
     "input": [
      "cd /home/rockwell/CameraWork/"
     ],
     "language": "python",
     "metadata": {},
     "outputs": [
      {
       "output_type": "stream",
       "stream": "stdout",
       "text": [
        "/home/rockwell/CameraWork\n"
       ]
      }
     ],
     "prompt_number": 1
    },
    {
     "cell_type": "code",
     "collapsed": false,
     "input": [
      "ls"
     ],
     "language": "python",
     "metadata": {},
     "outputs": [
      {
       "output_type": "stream",
       "stream": "stdout",
       "text": [
        "\u001b[0m\u001b[01;35m180208-30.mp4\u001b[0m              180312-82.bag\r\n",
        "\u001b[01;35m180213-55.mp4\u001b[0m              180315-84.bag\r\n",
        "\u001b[01;35m180213-56.mp4\u001b[0m              \u001b[01;35m180315-84gaussfilt9px.mp4\u001b[0m\r\n",
        "180312-80.bag              \u001b[01;35m180315-84medfilt5px.mp4\u001b[0m\r\n",
        "\u001b[01;35m180312-80gaussfilt9px.mp4\u001b[0m  \u001b[01;35m180315-84.mp4\u001b[0m\r\n",
        "\u001b[01;35m180312-80medfilt5px.mp4\u001b[0m    180330_1.json\r\n",
        "\u001b[01;35m180312-80.mp4\u001b[0m              D415 parameter comparison.ods\r\n",
        "180312-81.bag              DefaultPreset_D415.json\r\n",
        "\u001b[01;35m180312-81gaussfilt9px.mp4\u001b[0m  ebagfilename\r\n",
        "\u001b[01;35m180312-81medfilt5px.mp4\u001b[0m    etmpfilename\r\n",
        "\u001b[01;35m180312-81.mp4\u001b[0m              extractedbag\r\n"
       ]
      }
     ],
     "prompt_number": 2
    },
    {
     "cell_type": "code",
     "collapsed": false,
     "input": [
      "# Here is where you need to actually enter stuff\n",
      "# the name of the file you want to process\n",
      "filename='180315-84.bag'\n",
      "# The background subtraction parameters (may change if the camera height (or other acquisition parameters) changes)\n",
      "backgroundmin=0\n",
      "backgroundmax=90\n",
      "# the framerate you used to record (fps)\n",
      "framerate=90\n",
      "# You may only want to extract a certain number of frames (especially for large files)\n",
      "# The default is set to 1000 because you may not have enough RAM to process more \n",
      "startframe=0\n",
      "endframe=10"
     ],
     "language": "python",
     "metadata": {},
     "outputs": [],
     "prompt_number": 3
    },
    {
     "cell_type": "code",
     "collapsed": false,
     "input": [
      "# imports. you may need to sudo apt-get install rosbag, rospy, cv-bridge (all ros packages) and some other stuff\n",
      "import rosbag, rospy, numpy as np\n",
      "import matplotlib.pyplot as plt\n",
      "import matplotlib.animation\n",
      "import IPython.display\n",
      "import cv2\n",
      "import cv_bridge\n",
      "import subprocess\n",
      "import itertools\n",
      "import pickle\n",
      "import jsonpickle\n",
      "import os\n",
      "from copy import copy,deepcopy"
     ],
     "language": "python",
     "metadata": {},
     "outputs": [],
     "prompt_number": 4
    },
    {
     "cell_type": "code",
     "collapsed": false,
     "input": [
      "# simple command to pipe frames to an ffv1 file\n",
      "def write_frame_preview(filename,frames=np.empty((0,)),threads=6,camera_fs=30,pixel_format='rgb24',codec='h264',\n",
      "               slices=24,slicecrc=1,frame_size=None,depth_min=0,depth_max=80,get_cmd=False):\n",
      "    \n",
      "    if not frame_size and type(frames) is np.ndarray:\n",
      "        frame_size='{0:d}x{1:d}'.format(frames.shape[2],frames.shape[1])\n",
      "    elif not frame_size and type(frames) is tuple:\n",
      "        frame_size='{0:d}x{1:d}'.format(frames[0],frames[1])\n",
      "        \n",
      "    command= [ 'ffmpeg',\n",
      "          '-y',\n",
      "          '-threads',str(threads),\n",
      "          '-framerate',str(camera_fs),\n",
      "          '-f','rawvideo',\n",
      "          '-s',frame_size,\n",
      "          '-pix_fmt',pixel_format,\n",
      "          '-i','-',\n",
      "          '-an',\n",
      "          '-vcodec',codec,\n",
      "          '-slices',str(slices),\n",
      "          '-slicecrc',str(slicecrc),\n",
      "          '-r',str(camera_fs),\n",
      "          '-pix_fmt','yuv420p',\n",
      "          filename ]\n",
      "    \n",
      "    if get_cmd:\n",
      "        return command\n",
      "\n",
      "    pipe=subprocess.Popen(command,stdin=subprocess.PIPE,stderr=subprocess.PIPE)\n",
      "    \n",
      "    # scale frames d00d\n",
      "\n",
      "    cmap=plt.get_cmap('jet')\n",
      "    \n",
      "    for i in range(frames.shape[0]):\n",
      "        disp_img=deepcopy(frames[i,:,:].astype('float32'))\n",
      "        disp_img=(disp_img-depth_min)/(depth_max-depth_min)\n",
      "        disp_img[disp_img<0]=0\n",
      "        disp_img[disp_img>1]=1\n",
      "        disp_img=np.delete(cmap(disp_img),3,2)*255\n",
      "        pipe.stdin.write(disp_img.astype('uint8').tostring())\n",
      "        \n",
      "    pipe.stdin.close()\n",
      "    pipe.wait()"
     ],
     "language": "python",
     "metadata": {},
     "outputs": [],
     "prompt_number": 5
    },
    {
     "cell_type": "code",
     "collapsed": false,
     "input": [
      "bag=rosbag.Bag(filename,'r')"
     ],
     "language": "python",
     "metadata": {},
     "outputs": [],
     "prompt_number": 6
    },
    {
     "cell_type": "code",
     "collapsed": false,
     "input": [
      "tmp=bag.get_type_and_topic_info()"
     ],
     "language": "python",
     "metadata": {},
     "outputs": [],
     "prompt_number": 7
    },
    {
     "cell_type": "code",
     "collapsed": false,
     "input": [
      "iterator=bag.read_messages(topics='/device_0/sensor_0/Depth_0/image/data')"
     ],
     "language": "python",
     "metadata": {},
     "outputs": [],
     "prompt_number": 8
    },
    {
     "cell_type": "code",
     "collapsed": false,
     "input": [
      "jsonbag=jsonpickle.encode(bag)\n",
      "ebagfilename=\"jsonebag\"\n",
      "jsonbagobj=open(\"ebagfilename\",'wb')\n",
      "pickle.dump(jsonbag,jsonbagobj)\n",
      "jsonbagobj.close()\n"
     ],
     "language": "python",
     "metadata": {},
     "outputs": [],
     "prompt_number": 9
    },
    {
     "cell_type": "code",
     "collapsed": false,
     "input": [
      "jsontmp=jsonpickle.encode(tmp)\n",
      "ebagfilename=\"jsonetmp\"\n",
      "jsontmpobj=open(\"etmpfilename\",'wb')\n",
      "pickle.dump(jsontmp,jsontmpobj)\n",
      "jsontmpobj.close()"
     ],
     "language": "python",
     "metadata": {},
     "outputs": [],
     "prompt_number": 10
    },
    {
     "cell_type": "code",
     "collapsed": false,
     "input": [],
     "language": "python",
     "metadata": {},
     "outputs": [],
     "prompt_number": 10
    },
    {
     "cell_type": "code",
     "collapsed": false,
     "input": [],
     "language": "python",
     "metadata": {},
     "outputs": [],
     "prompt_number": 10
    }
   ],
   "metadata": {}
  }
 ]
}