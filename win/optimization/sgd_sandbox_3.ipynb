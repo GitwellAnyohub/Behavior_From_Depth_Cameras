{
 "cells": [
  {
   "cell_type": "code",
   "execution_count": 1,
   "metadata": {},
   "outputs": [],
   "source": [
    "#For this demonstration I use a lab notebook measured to be 12.7mm thick "
   ]
  },
  {
   "cell_type": "code",
   "execution_count": 2,
   "metadata": {},
   "outputs": [],
   "source": [
    "import sys\n",
    "sys.path.append('/usr/local/lib')"
   ]
  },
  {
   "cell_type": "code",
   "execution_count": 3,
   "metadata": {},
   "outputs": [],
   "source": [
    "import matplotlib.pyplot as plt\n",
    "import numpy as np\n",
    "import random\n",
    "import matplotlib.colors as mcol\n",
    "import matplotlib.cm as cm\n",
    "import math\n",
    "import time\n",
    "import pandas as pd\n",
    "import json\n",
    "import pyrealsense2 as rs\n",
    "import cv2\n",
    "from scipy import stats\n",
    "from itertools import cycle\n",
    "cycol = cycle('bgrcmk') #here I'm generating a list of colors I can plot"
   ]
  },
  {
   "cell_type": "code",
   "execution_count": 4,
   "metadata": {},
   "outputs": [
    {
     "name": "stdout",
     "output_type": "stream",
     "text": [
      "Found device that supports advanced mode: Intel RealSense D415\n",
      "Advanced mode is enabled\n"
     ]
    }
   ],
   "source": [
    "# Enabling Advanced Mode\n",
    "\n",
    "DS5_product_ids = [\"0AD1\", \"0AD2\", \"0AD3\", \"0AD4\", \"0AD5\", \"0AF6\", \"0AFE\", \"0AFF\", \"0B00\", \"0B01\", \"0B03\", \"0B07\"]\n",
    "\n",
    "def find_device_that_supports_advanced_mode() :\n",
    "    ctx = rs.context()\n",
    "    ds5_dev = rs.device()\n",
    "    devices = ctx.query_devices();\n",
    "    for dev in devices:\n",
    "        if dev.supports(rs.camera_info.product_id) and str(dev.get_info(rs.camera_info.product_id)) in DS5_product_ids:\n",
    "            if dev.supports(rs.camera_info.name):\n",
    "                print(\"Found device that supports advanced mode:\", dev.get_info(rs.camera_info.name))\n",
    "            return dev\n",
    "    raise Exception(\"No device that supports advanced mode was found\")\n",
    "\n",
    "try:\n",
    "    dev = find_device_that_supports_advanced_mode()\n",
    "    advnc_mode = rs.rs400_advanced_mode(dev)\n",
    "    print(\"Advanced mode is\", \"enabled\" if advnc_mode.is_enabled() else \"disabled\")\n",
    "\n",
    "    # Loop until we successfully enable advanced mode\n",
    "    while not advnc_mode.is_enabled():\n",
    "        print(\"Trying to enable advanced mode...\")\n",
    "        advnc_mode.toggle_advanced_mode(True)\n",
    "        # At this point the device will disconnect and re-connect.\n",
    "        print(\"Sleeping for 5 seconds...\")\n",
    "        time.sleep(5)\n",
    "        # The 'dev' object will become invalid and we need to initialize it again\n",
    "        dev = find_device_that_supports_advanced_mode()\n",
    "        advnc_mode = rs.rs400_advanced_mode(dev)\n",
    "        print(\"Advanced mode is\", \"enabled\" if advnc_mode.is_enabled() else \"disabled\")\n",
    "\n",
    "    \n",
    "except Exception as e:\n",
    "    print(e)\n",
    "pass"
   ]
  },
  {
   "cell_type": "code",
   "execution_count": 5,
   "metadata": {},
   "outputs": [
    {
     "name": "stdout",
     "output_type": "stream",
     "text": [
      "{\"param-depthclampmax\": \"65536\", \"param-scanlinep1twodiscon\": \"70\", \"param-secondpeakdelta\": \"325\", \"aux-param-colorcorrection5\": \"-0.332031\", \"controls-color-saturation\": \"64\", \"controls-color-white-balance-manual\": \"4600\", \"aux-param-depthclampmax\": \"65536\", \"aux-param-colorcorrection1\": \"0.461914\", \"controls-laserstate\": \"on\", \"controls-color-contrast\": \"50\", \"param-scanlinep2onediscon\": \"190\", \"param-rauminwesum\": \"3\", \"controls-color-gamma\": \"300\", \"param-censusvsize\": \"9\", \"param-lambdacensus\": \"26\", \"controls-color-white-balance-auto\": \"True\", \"controls-color-hue\": \"0\", \"aux-param-colorcorrection4\": \"0.208008\", \"controls-laserpower\": \"150\", \"param-raumins\": \"1\", \"param-robbinsmonrodecrement\": \"10\", \"param-medianthreshold\": \"500\", \"controls-color-sharpness\": \"50\", \"param-disablesadnormalize\": \"0\", \"stream-ir-format\": \"Y8\", \"stream-width\": \"848\", \"stream-height\": \"480\", \"param-scanlinep2\": \"342\", \"param-disparityshift\": \"0\", \"param-disableslorightcolor\": \"0\", \"controls-autoexposure-manual\": \"33000\", \"param-censususize\": \"9\", \"param-scanlinep1\": \"60\", \"ignoreSAD\": \"0\", \"aux-param-colorcorrection9\": \"0.930664\", \"param-maxscorethreshb\": \"2047\", \"controls-color-autoexposure-auto\": \"True\", \"param-scanlinep2twodiscon\": \"130\", \"param-zunits\": \"1000\", \"aux-param-disparityshift\": \"0\", \"param-autoexposure-setpoint\": \"400\", \"param-censusenablereg-udiameter\": \"9\", \"controls-color-gain\": \"64\", \"param-scanlineedgetaur\": \"72\", \"controls-color-backlight-compensation\": \"0\", \"param-texturecountthresh\": \"0\", \"aux-param-colorcorrection7\": \"-0.212891\", \"controls-color-power-line-frequency\": \"3\", \"param-minscorethresha\": \"1\", \"param-regioncolorthresholdg\": \"0.0499022\", \"param-leftrightthreshold\": \"24\", \"controls-autoexposure-auto\": \"False\", \"aux-param-colorcorrection6\": \"-0.212891\", \"param-regioncolorthresholdr\": \"0.0499022\", \"aux-param-colorcorrection12\": \"0.0458984\", \"param-neighborthresh\": \"7\", \"param-robbinsmonroincrement\": \"10\", \"aux-param-colorcorrection8\": \"0.68457\", \"aux-param-depthclampmin\": \"0\", \"param-disparitymode\": \"0\", \"param-usersm\": \"1\", \"stream-depth-format\": \"Z16\", \"param-rauminw\": \"1\", \"param-raumine\": \"1\", \"param-lambdaad\": \"800\", \"param-regionshrinkv\": \"1\", \"param-regioncolorthresholdb\": \"0.0499022\", \"controls-depth-white-balance-auto\": \"False\", \"param-disablesadcolor\": \"0\", \"controls-color-brightness\": \"0\", \"stream-fps\": \"90\", \"param-censusenablereg-vdiameter\": \"9\", \"param-disableraucolor\": \"0\", \"param-scanlinep1onediscon\": \"105\", \"param-rauminn\": \"1\", \"param-regionshrinku\": \"3\", \"controls-depth-gain\": \"16\", \"param-depthclampmin\": \"0\", \"param-rauminnssum\": \"3\", \"aux-param-autoexposure-setpoint\": \"400\", \"param-depthunits\": \"1000\", \"param-texturedifferencethresh\": \"0\", \"param-disablesloleftcolor\": \"0\", \"param-scanlineedgetaub\": \"72\", \"param-rsmremovethreshold\": \"0.375\", \"aux-param-colorcorrection3\": \"0.540039\", \"param-rsmrauslodiffthreshold\": \"1\", \"param-rsmdiffthreshold\": \"4\", \"aux-param-colorcorrection11\": \"-0.553711\", \"controls-color-autoexposure-manual\": \"166\", \"aux-param-colorcorrection10\": \"-0.553711\", \"aux-param-colorcorrection2\": \"0.540039\", \"param-scanlineedgetaug\": \"72\"}\n"
     ]
    }
   ],
   "source": [
    "# Loading presaved parameters \n",
    "# If I have another set of parameters I'd like to use already in the json format, I can skip the previous three blocks of code\n",
    "    \n",
    "with open(\"d415_default.json\") as json_data: #Json file to be loaded #notice How I am NOT using D415_params.json that I just created\n",
    "    starting_params = json.load(json_data)\n",
    "    starting_params=str(starting_params).replace(\"'\", '\\\"') #IF YOU DON't DO THIS IT WILL NOT WORK with the librealsense sdk\n",
    "    print(starting_params)"
   ]
  },
  {
   "cell_type": "code",
   "execution_count": 6,
   "metadata": {},
   "outputs": [],
   "source": [
    "#Here I am getting the current values of all of the camera controls\n",
    "current_ae_control=advnc_mode.get_ae_control()\n",
    "current_census=advnc_mode.get_census()\n",
    "current_color_control=advnc_mode.get_color_control()\n",
    "current_color_correction=advnc_mode.get_color_correction()\n",
    "current_depth_control=advnc_mode.get_depth_control()\n",
    "current_depth_table=advnc_mode.get_depth_table()\n",
    "current_hdad=advnc_mode.get_hdad()\n",
    "current_rau_support_vector_control=advnc_mode.get_rau_support_vector_control()\n",
    "current_rau_thresholds_control=advnc_mode.get_rau_thresholds_control()\n",
    "current_rsm=advnc_mode.get_rsm()\n",
    "current_slo_color_thresholds_control=advnc_mode.get_slo_color_thresholds_control()\n",
    "current_slo_penalty_control=advnc_mode.get_slo_penalty_control()\n"
   ]
  },
  {
   "cell_type": "code",
   "execution_count": 7,
   "metadata": {},
   "outputs": [],
   "source": [
    "#Here are some important parameters values\n",
    "\n",
    "#Decent Defaults\n",
    "paramvector=[400,9,9,0,0,0,0,0,.461914,.540039,.540039,.208008,-.332031,-.212891,-.212891,.68457,.930664,-.553711,-.553711,.458984,500,7,325,2,10,1,2047,0,0,65536,0,1000,0,0,0,800,26,1,1,3,1,1,3,0,0,51,51,51,4,63,0,1,72,72,72,60,105,70]\n",
    "#Min Values\n",
    "minparams=[400,1,1,0,0,0,0,0,-2,-2,-2,-2,-2,-2,-2,-2,-2,-2,-2,-2,0,0,0,0,0,0,0,0,0,0,0,100,0,0,0,800,26,0,0,0,0,0,0,0,0,1,1,1,0,0,0,0,1,1,1,1,1,1]\n",
    "#Max Values\n",
    "maxparams=[400,9,9,1,1,1,1,1,-1.99902,-1.99902,-1.99902,-1.99902,-1.99902,-1.99902,-1.99902,-1.99902,-1.99902,-1.99902,-1.99902,-1.99902,1023,1023,1023,2047,255,1023,4095,1023,4095,65536,65536,10000,1,512,0,800,26,7,3,7,3,7,15,4,4,1022,1022,1022,7.96875,168,1,3.96875,1022,1022,1022,511,511,511]"
   ]
  },
  {
   "cell_type": "code",
   "execution_count": 8,
   "metadata": {},
   "outputs": [],
   "source": [
    "#I can set the value of any of the parametes by first changing a value within the advnc_mode.get object\n",
    "current_ae_control.meanIntensitySetPoint=paramvector[0]\n",
    "\n",
    "current_census.uDiameter=paramvector[1]\n",
    "current_census.vDiameter=paramvector[2]\n",
    "\n",
    "current_color_control.disableRAUColor=paramvector[3]\n",
    "current_color_control.disableSADColor=paramvector[4]\n",
    "current_color_control.disableSADNormalize=paramvector[5]\n",
    "current_color_control.disableSLOLeftColor=paramvector[6]\n",
    "current_color_control.disableSLORightColor=paramvector[7]\n",
    "\n",
    "current_color_correction.colorCorrection1=paramvector[8]\n",
    "current_color_correction.colorCorrection2=paramvector[9]\n",
    "current_color_correction.colorCorrection3=paramvector[10]\n",
    "current_color_correction.colorCorrection4=paramvector[11]\n",
    "current_color_correction.colorCorrection5=paramvector[12]\n",
    "current_color_correction.colorCorrection6=paramvector[13]\n",
    "current_color_correction.colorCorrection7=paramvector[14]\n",
    "current_color_correction.colorCorrection8=paramvector[15]\n",
    "current_color_correction.colorCorrection9=paramvector[16]\n",
    "current_color_correction.colorCorrection10=paramvector[17]\n",
    "current_color_correction.colorCorrection11=paramvector[18]\n",
    "current_color_correction.colorCorrection12=paramvector[19]\n",
    "\n",
    "current_depth_control.deepSeaMedianThreshold=paramvector[20]\n",
    "current_depth_control.deepSeaNeighborThreshold=paramvector[21]\n",
    "current_depth_control.deepSeaSecondPeakThreshold=paramvector[22]\n",
    "current_depth_control.lrAgreeThreshold=paramvector[23]\n",
    "current_depth_control.minusDecrement=paramvector[24]\n",
    "#current_depth_control.plusIncrement\n",
    "current_depth_control.scoreThreshA=paramvector[25]\n",
    "current_depth_control.scoreThreshB=paramvector[26]\n",
    "current_depth_control.textureCountThreshold=paramvector[27]\n",
    "current_depth_control.textureDifferenceThreshold=paramvector[28]\n",
    "\n",
    "current_depth_table.depthClampMax=paramvector[29]\n",
    "current_depth_table.depthClampMin=paramvector[30]\n",
    "current_depth_table.depthUnits=paramvector[31]\n",
    "current_depth_table.disparityMode=paramvector[32]\n",
    "current_depth_table.disparityShift=paramvector[33]\n",
    "\n",
    "current_hdad.ignoreSAD=paramvector[34]\n",
    "current_hdad.lambdaAD=paramvector[35]\n",
    "current_hdad.lambdaCensus=paramvector[36]\n",
    "\n",
    "current_rau_support_vector_control.minEast=paramvector[37]\n",
    "current_rau_support_vector_control.minNorth=paramvector[38]\n",
    "current_rau_support_vector_control.minNSsum=paramvector[39]\n",
    "current_rau_support_vector_control.minSouth=paramvector[40]\n",
    "current_rau_support_vector_control.minWest=paramvector[41]\n",
    "current_rau_support_vector_control.minWEsum=paramvector[42]\n",
    "current_rau_support_vector_control.uShrink=paramvector[43]\n",
    "current_rau_support_vector_control.vShrink=paramvector[44]\n",
    "\n",
    "current_rau_thresholds_control.rauDiffThresholdBlue=paramvector[45]\n",
    "current_rau_thresholds_control.rauDiffThresholdGreen=paramvector[46]\n",
    "current_rau_thresholds_control.rauDiffThresholdRed=paramvector[47]\n",
    "\n",
    "current_rsm.diffThresh=paramvector[48]\n",
    "current_rsm.removeThresh=paramvector[49]\n",
    "current_rsm.rsmBypass=paramvector[50]\n",
    "current_rsm.sloRauDiffThresh=paramvector[51]\n",
    "\n",
    "current_slo_color_thresholds_control.diffThresholdBlue=paramvector[52]\n",
    "current_slo_color_thresholds_control.diffThresholdGreen=paramvector[53]\n",
    "current_slo_color_thresholds_control.diffThresholdRed=paramvector[54]\n",
    "\n",
    "current_slo_penalty_control.sloK1Penalty=paramvector[55]\n",
    "current_slo_penalty_control.sloK1PenaltyMod1=paramvector[56]\n",
    "current_slo_penalty_control.sloK1PenaltyMod2=paramvector[57]\n"
   ]
  },
  {
   "cell_type": "code",
   "execution_count": 9,
   "metadata": {},
   "outputs": [
    {
     "name": "stdout",
     "output_type": "stream",
     "text": [
      "[500, 7, 325, 2, 10, 1, 2047, 0, 0]\n",
      "[0, 0, 0, 0, 0, 0, 0, 0, 0]\n",
      "[1023, 1023, 1023, 2047, 255, 1023, 4095, 1023, 4095]\n"
     ]
    }
   ],
   "source": [
    "#depth specific parameters\n",
    "print(paramvector[20:29])\n",
    "print(minparams[20:29])\n",
    "print(maxparams[20:29])"
   ]
  },
  {
   "cell_type": "code",
   "execution_count": 10,
   "metadata": {},
   "outputs": [],
   "source": [
    "#constraining the parameter search around the default values yields greater percentage (several maginitudes) of reasonable images\n",
    "def randomize_depth_control():\n",
    "    current_depth_control.deepSeaMedianThreshold=random.randint(450,550)\n",
    "    current_depth_control.deepSeaNeighborThreshold=random.randint(0,20)\n",
    "    current_depth_control.deepSeaSecondPeakThreshold=random.randint(300,350)\n",
    "    current_depth_control.lrAgreeThreshold=random.randint(0,5)\n",
    "    current_depth_control.minusDecrement=random.randint(0,20)\n",
    "    current_depth_control.scoreThreshA=random.randint(0,5)\n",
    "    current_depth_control.scoreThreshB=random.randint(1500,2500)\n",
    "    current_depth_control.textureCountThreshold=random.randint(0,5)\n",
    "    current_depth_control.textureDifferenceThreshold=random.randint(0,5)\n",
    "    advnc_mode.set_depth_control(current_depth_control)"
   ]
  },
  {
   "cell_type": "code",
   "execution_count": 11,
   "metadata": {},
   "outputs": [],
   "source": [
    "# Function for Saving Parameters into a JSON file\n",
    "def writeD415Json(path,filename,values):\n",
    "    filepathname= './' + path + filename + '.json'\n",
    "    parameters={}\n",
    "    parameters[\"aux-param-autoexposure-setpoint\"]=str(values[0])\n",
    "    parameters[\"aux-param-colorcorrection1\"]=str(values[1])\n",
    "    parameters[\"aux-param-colorcorrection10\"]=str(values[2])\n",
    "    parameters[\"aux-param-colorcorrection11\"]=str(values[3])\n",
    "    parameters[\"aux-param-colorcorrection12\"]=str(values[4]) \n",
    "    parameters[\"aux-param-colorcorrection2\"]=str(values[5])\n",
    "    parameters[\"aux-param-colorcorrection3\"]=str(values[6])\n",
    "    parameters[\"aux-param-colorcorrection4\"]=str(values[7]) \n",
    "    parameters[\"aux-param-colorcorrection5\"]=str(values[8])\n",
    "    parameters[\"aux-param-colorcorrection6\"]=str(values[9])\n",
    "    parameters[\"aux-param-colorcorrection7\"]=str(values[10])\n",
    "    parameters[\"aux-param-colorcorrection8\"]=str(values[11])\n",
    "    parameters[\"aux-param-colorcorrection9\"]=str(values[12])\n",
    "    parameters[\"aux-param-depthclampmax\"]=str(values[13])\n",
    "    parameters[\"aux-param-depthclampmin\"]=str(values[14])\n",
    "    parameters[\"aux-param-disparityshift\"]=str(values[15])\n",
    "    parameters[\"controls-autoexposure-auto\"]=str(values[16])\n",
    "    parameters[\"controls-autoexposure-manual\"]=str(values[17])\n",
    "    parameters[\"controls-color-autoexposure-auto\"]=str(values[18])\n",
    "    parameters[\"controls-color-autoexposure-manual\"]=str(values[19])\n",
    "    parameters[\"controls-color-backlight-compensation\"]=str(values[20])\n",
    "    parameters[\"controls-color-brightness\"]=str(values[21])\n",
    "    parameters[\"controls-color-contrast\"]=str(values[22])\n",
    "    parameters[\"controls-color-gain\"]=str(values[23])\n",
    "    parameters[\"controls-color-gamma\"]=str(values[24])\n",
    "    parameters[\"controls-color-hue\"]=str(values[25])\n",
    "    parameters[\"controls-color-power-line-frequency\"]=str(values[26])\n",
    "    parameters[\"controls-color-saturation\"]=str(values[27])\n",
    "    parameters[\"controls-color-sharpness\"]=str(values[28])\n",
    "    parameters[\"controls-color-white-balance-auto\"]=str(values[29])\n",
    "    parameters[\"controls-color-white-balance-manual\"]=str(values[30])\n",
    "    parameters[\"controls-depth-gain\"]=str(values[31])\n",
    "    parameters[\"controls-depth-white-balance-auto\"]=str(values[32])\n",
    "    parameters[\"controls-laserpower\"]=str(values[33])\n",
    "    parameters[\"controls-laserstate\"]=str(values[34])\n",
    "    parameters[\"ignoreSAD\"]=str(values[35])\n",
    "    parameters[\"param-autoexposure-setpoint\"]=str(values[36])\n",
    "    parameters[\"param-censusenablereg-udiameter\"]=str(values[37])\n",
    "    parameters[\"param-censusenablereg-vdiameter\"]=str(values[38])\n",
    "    parameters[\"param-censususize\"]=str(values[39])\n",
    "    parameters[\"param-censusvsize\"]=str(values[40])\n",
    "    parameters[\"param-depthclampmax\"]=str(values[41]) \n",
    "    parameters[\"param-depthclampmin\"]=str(values[42]) \n",
    "    parameters[\"param-depthunits\"]=str(values[43])\n",
    "    parameters[\"param-disableraucolor\"]=str(values[44])\n",
    "    parameters[\"param-disablesadcolor\"]=str(values[45])\n",
    "    parameters[\"param-disablesadnormalize\"]=str(values[46])\n",
    "    parameters[\"param-disablesloleftcolor\"]=str(values[47])\n",
    "    parameters[\"param-disableslorightcolor\"]=str(values[48]) \n",
    "    parameters[\"param-disparitymode\"]=str(values[49])\n",
    "    parameters[\"param-disparityshift\"]=str(values[50])\n",
    "    parameters[\"param-lambdaad\"]=str(values[51])\n",
    "    parameters[\"param-lambdacensus\"]=str(values[52])\n",
    "    parameters[\"param-leftrightthreshold\"]=str(values[53]) \n",
    "    parameters[\"param-maxscorethreshb\"]=str(values[54])\n",
    "    parameters[\"param-medianthreshold\"]=str(values[55])\n",
    "    parameters[\"param-minscorethresha\"]=str(values[56])\n",
    "    parameters[\"param-neighborthresh\"]=str(values[57])\n",
    "    parameters[\"param-raumine\"]=str(values[58])\n",
    "    parameters[\"param-rauminn\"]=str(values[59])\n",
    "    parameters[\"param-rauminnssum\"]=str(values[60])\n",
    "    parameters[\"param-raumins\"]=str(values[61])\n",
    "    parameters[\"param-rauminw\"]=str(values[62])\n",
    "    parameters[\"param-rauminwesum\"]=str(values[63])\n",
    "    parameters[\"param-regioncolorthresholdb\"]=str(values[64])\n",
    "    parameters[\"param-regioncolorthresholdg\"]=str(values[65])\n",
    "    parameters[\"param-regioncolorthresholdr\"]=str(values[66]) \n",
    "    parameters[\"param-regionshrinku\"]=str(values[67])\n",
    "    parameters[\"param-regionshrinkv\"]=str(values[68])\n",
    "    parameters[\"param-robbinsmonrodecrement\"]=str(values[69])\n",
    "    parameters[\"param-robbinsmonroincrement\"]=str(values[70])\n",
    "    parameters[\"param-rsmdiffthreshold\"]=str(values[71])\n",
    "    parameters[\"param-rsmrauslodiffthreshold\"]=str(values[72]) \n",
    "    parameters[\"param-rsmremovethreshold\"]=str(values[73]) \n",
    "    parameters[\"param-scanlineedgetaub\"]=str(values[74])\n",
    "    parameters[\"param-scanlineedgetaug\"]=str(values[75]) \n",
    "    parameters[\"param-scanlineedgetaur\"]=str(values[76]) \n",
    "    parameters[\"param-scanlinep1\"]=str(values[77]) \n",
    "    parameters[\"param-scanlinep1onediscon\"]=str(values[78]) \n",
    "    parameters[\"param-scanlinep1twodiscon\"]=str(values[79])\n",
    "    parameters[\"param-scanlinep2\"]=str(values[80])\n",
    "    parameters[\"param-scanlinep2onediscon\"]=str(values[81])\n",
    "    parameters[\"param-scanlinep2twodiscon\"]=str(values[82])\n",
    "    parameters[\"param-secondpeakdelta\"]=str(values[83])\n",
    "    parameters[\"param-texturecountthresh\"]=str(values[84])\n",
    "    parameters[\"param-texturedifferencethresh\"]=str(values[85])\n",
    "    parameters[\"param-usersm\"]=str(values[86]) \n",
    "    parameters[\"param-zunits\"]=str(values[87])\n",
    "    \n",
    "    with open(filepathname, 'w') as fp: #open file to write parameters\n",
    "        json.dump(parameters, fp) # dump parameters into json\n"
   ]
  },
  {
   "cell_type": "code",
   "execution_count": 12,
   "metadata": {},
   "outputs": [],
   "source": [
    "#values of some preset parameters.\n",
    "values= [400, 0.461914, -0.553711, -0.553711, 0.0458984, 0.540039, 0.540039, 0.208008, -0.332031, -0.212891, -0.212891, 0.68457, 0.930664, 65536, 624, 53, \"True\", 33000, \"True\", 166, 0, 0 , 50, 64, 300, 0, 3, 64, 50, \"True\", 4600, 16, \"False\", 150, \"on\", 0, 400, 9, 9, 9, 9, 65536, 624, 901, 0, 0, 0, 0, 0, 0, 53, 800, 26, 24, 2047, 500, 1, 7, 1, 1, 3, 1, 1, 3, 0.0499022, 0.0499022, 0.0499022, 3, 1, 10, 10, 4, 1, 0.375, 72, 72, 72, 60, 105, 70, 342, 190, 130, 325, 0, 0, 1, 901] "
   ]
  },
  {
   "cell_type": "code",
   "execution_count": 13,
   "metadata": {},
   "outputs": [],
   "source": [
    "# Create file named D415_params.json and write the parameter values into that json file (Saved in the current path) \n",
    "filename='D415_params' \n",
    "path='./'\n",
    "writeD415Json(path,filename,values)"
   ]
  },
  {
   "cell_type": "code",
   "execution_count": 14,
   "metadata": {},
   "outputs": [],
   "source": [
    "#Recording Loop Initializations \n",
    "\n",
    "#camera specications\n",
    "frame_width=848\n",
    "frame_height=480\n",
    "fps=90\n",
    "\n",
    "#optimization specifications\n",
    "number_of_frames_to_record=1000\n",
    "background_chunk=int(number_of_frames_to_record/2) #I want to use 500 frames for recording the background\n",
    "\n",
    "#open a file for apending binary data\n",
    "file = open('pythondepthdata.bin', 'a+b')\n",
    "\n",
    "# Configure depth stream\n",
    "pipeline = rs.pipeline()\n",
    "config = rs.config()\n",
    "config.enable_stream(rs.stream.depth, frame_width, frame_height, rs.format.z16, fps)\n",
    "#config.enable_stream(rs.stream.color, frame_width, frame_height, rs.format.bgr8, fps)\n",
    "advnc_mode.load_json(starting_params) #this is where I start with the Defualt Json\n",
    "\n",
    "# Start streaming\n",
    "cfg = pipeline.start(config)\n",
    "dev = cfg.get_device()\n",
    "depth_sensor = dev.first_depth_sensor()"
   ]
  },
  {
   "cell_type": "code",
   "execution_count": 15,
   "metadata": {},
   "outputs": [
    {
     "name": "stdout",
     "output_type": "stream",
     "text": [
      "randomized background 100\n",
      "randomized background 200\n",
      "randomized background 300\n",
      "randomized background 400\n",
      "Insert calibration object and enter data followed by the name of the object (format: YYMMDD_object)  180618_labnotebook\n",
      "Changed object recording parameters to that of background-1\n",
      "Changed object recording parameters to that of background-2\n",
      "Changed object recording parameters to that of background-3\n",
      "Changed object recording parameters to that of background-4\n",
      "Changed object recording parameters to that of background-5\n",
      "Time Elapsed =  59.684465408325195\n"
     ]
    }
   ],
   "source": [
    "start_of_loop=time.time()\n",
    "saveddepthparams=[]\n",
    "saveddepthparams.append(advnc_mode.get_depth_control())\n",
    "objectparamindex=0 #used to index the background parameters used in saveddepthparams list\n",
    "tick=0; #keeping track of the number of loops the experiment has gone through \n",
    "\n",
    "#Main Recording Loop \n",
    "\n",
    "with open('pythondepthdata.bin','ab') as binarydata: #While the file called \"pythonedpthdata.bin\" is open for appending binary, \n",
    "    try:\n",
    "        while tick<number_of_frames_to_record: \n",
    "            \n",
    "            # Wait for a coherent pair of frames: depth and color\n",
    "            frames=pipeline.wait_for_frames()\n",
    "            depth_frame = frames.get_depth_frame()\n",
    "        \n",
    "            #First I want to record just the background with random params\n",
    "            if (tick != 0) and tick<background_chunk: #avoid division by zero\n",
    "                if tick%100==0: #every 100 frames I want to randomize the current depth control\n",
    "                    randomize_depth_control()\n",
    "                    saveddepthparams.append(advnc_mode.get_depth_control())\n",
    "                    print(\"randomized background \" + str(tick))\n",
    "            \n",
    "            # This is where I prompt the user to insert a calibration object\n",
    "            if tick==background_chunk:\n",
    "                object_id=input(\"Insert calibration object and enter data followed by the name of the object (format: YYMMDD_object)  \")\n",
    "                \n",
    "                \n",
    "            #Next, I want to record an object in the same set of background parameters (that were randomly generated)        \n",
    "            if background_chunk<=tick<=number_of_frames_to_record and tick%100==0:\n",
    "                    advnc_mode.set_depth_control(saveddepthparams[objectparamindex])\n",
    "                    saveddepthparams.append(advnc_mode.get_depth_control())\n",
    "                    objectparamindex=objectparamindex+1\n",
    "                    print(\"Changed object recording parameters to that of background-\" + str(objectparamindex))             \n",
    "            \n",
    "            # Convert images to numpy arrays\n",
    "            depth_image = np.asanyarray(depth_frame.get_data())\n",
    "            #color_image = np.asanyarray(color_frame.get_data())\n",
    "            depth_image.tofile(binarydata) #save data as binarydata (specified by the with open as line)\n",
    "            \n",
    "                \n",
    "            tick=tick+1 \n",
    "\n",
    "    finally:\n",
    "\n",
    "        # Stop streaming\n",
    "        pipeline.stop()\n",
    "        end_of_loop=time.time() #end timer\n",
    "        print(\"Time Elapsed = \", end_of_loop - start_of_loop)\n",
    "        #serialized_string = advnc_mode.serialize_json() #getting the current parameters as a serialized string\n",
    "        #as_json_object = json.loads(serialized_string) #loading the json object from the serialized string\n",
    "        #json_used_in_experiment = str(as_json_object).replace(\"'\", '\\\"') #converting object into string that can be printed\n",
    "        #print(\"Final Parameters = \", json_used_in_experiment)"
   ]
  },
  {
   "cell_type": "code",
   "execution_count": 16,
   "metadata": {},
   "outputs": [],
   "source": [
    "#notice how the lrAgreeThreshold is now equal to 2!"
   ]
  },
  {
   "cell_type": "code",
   "execution_count": 17,
   "metadata": {},
   "outputs": [],
   "source": [
    "#This is where I load the raw data and convert it into a numpy array\n",
    "rawframes = np.fromfile('pythondepthdata.bin', dtype=np.uint16) #A highly efficient way of reading binary data with a known data-type, as well as parsing simply formatted text files. Data written using the tofile method can be read using this function.\n",
    "frames = rawframes.reshape(-1, frame_height, frame_width) #.reshape simply restructures data into dimensions of your choosing. -1 means find the number of segments that structures the data into the dimnesions shown afterwards"
   ]
  },
  {
   "cell_type": "code",
   "execution_count": 18,
   "metadata": {},
   "outputs": [
    {
     "name": "stdout",
     "output_type": "stream",
     "text": [
      "The shape of the video is 480 by 848 and it has 1000 frames\n"
     ]
    }
   ],
   "source": [
    "number_of_frames,video_height,video_width=frames.shape[0],frames.shape[1],frames.shape[2];\n",
    "#set number of frames equal to the first element in reshaped.shape\n",
    "#set video height to the second element in reshaped.shape\n",
    "#set video width to the third element in reshaped.shape\n",
    "print('The shape of the video is {0} by {1} and it has {2} frames'.format(video_height,video_width,number_of_frames))\n",
    "#note that the nubmers below are one greater than the actual indices that exist\n",
    "#there is no reshaped[number_of_frames,height,width], the last frame is reshaped[number_of_frames-1,height-1,width-1]"
   ]
  },
  {
   "cell_type": "code",
   "execution_count": 30,
   "metadata": {},
   "outputs": [
    {
     "name": "stdout",
     "output_type": "stream",
     "text": [
      "mean is 12.761008\n",
      "median is 13.000000\n",
      "variance is 169.912177\n"
     ]
    },
    {
     "data": {
      "image/png": "[encoded data removed]",
      "text/plain": [
       "<Figure size 720x720 with 1 Axes>"
      ]
     },
     "metadata": {},
     "output_type": "display_data"
    },
    {
     "data": {
      "image/png": "[encoded data removed]",
      "text/plain": [
       "<Figure size 576x576 with 2 Axes>"
      ]
     },
     "metadata": {},
     "output_type": "display_data"
    }
   ],
   "source": [
    "#Testing Analysis Pipeline on One Frame\n",
    "#Frame must be higher than the background chunk\n",
    "\n",
    "picked_frame=random.randint(background_chunk,number_of_frames) #Picked frames greater than the background chunk should show image of object,every 100 frames use different parameters\n",
    "frame_of_interest=frames[picked_frame]\n",
    "#know your background \n",
    "background_low_bounds=int(((picked_frame-(picked_frame%100))-background_chunk))\n",
    "background_high_bounds=int(((picked_frame-(picked_frame%100))-background_chunk)+99)\n",
    "backgroundmean=np.median(frames[background_low_bounds:background_high_bounds], axis=0) #probably safer to do median since the noise is known to mean gaussian\n",
    "backgroundvariance=np.var(frames[background_low_bounds:background_high_bounds], axis=0)\n",
    "\n",
    "#if the difference between the background and the frame is greater than expected, it's probably our object! \n",
    "#note that I arbitrarily pick 5 stdeviations away, it's worth knowing if the noise is actually gaussian\n",
    "backgroundmultiplier=np.abs(frame_of_interest - backgroundmean) - (10*np.sqrt(backgroundvariance)) #if its 5 standard its NOISE\n",
    "#we expect positive values for high differences. make them stay by multiplying by 1\n",
    "backgroundmultiplier[backgroundmultiplier>0]=1\n",
    "#we expect negative values or no change for small differences. probably just noise, get rid of them by multiplying by 0\n",
    "backgroundmultiplier[backgroundmultiplier<=0]=0\n",
    "#apply our expectations to the matrix\n",
    "\n",
    "frame_of_interest_backgroundsubtracted=np.multiply(np.subtract(frame_of_interest,backgroundmean),-1) #subtract the background mean and then multiply result by negative 1 since the camera counts distance away \n",
    "frame_of_interest_backgroundsubtracted=np.multiply(frame_of_interest_backgroundsubtracted,backgroundmultiplier) #pixels that arent significantly different are considered background \n",
    "frame_of_interest_backgroundsubtracted[frame_of_interest_backgroundsubtracted<0]=0 #everything less than 0 IS zero\n",
    "#frame_of_interest_backgroundsubtracted=np.multiply(frame_of_interest_backgroundsubtracted,1) #go from mm to something else by mlitplying by something other than 1\n",
    "frame_of_interest_backgroundsubtracted=np.rint(frame_of_interest_backgroundsubtracted) #makes everything an integer\n",
    "\n",
    "#basic stats\n",
    "object_median=np.median(frame_of_interest_backgroundsubtracted[frame_of_interest_backgroundsubtracted>0])\n",
    "object_mean=np.mean(frame_of_interest_backgroundsubtracted[frame_of_interest_backgroundsubtracted != 0])\n",
    "object_variance=np.var(frame_of_interest_backgroundsubtracted[frame_of_interest_backgroundsubtracted != 0])\n",
    "#objectsigma=np.sqrt(objectvariance)\n",
    "\n",
    "i=0 #this will means something when actually looping through all images \n",
    "\n",
    "#Plotting background-subtracted image\n",
    "fig=plt.figure(figsize=(10,10))\n",
    "plt.imshow(frame_of_interest_backgroundsubtracted)\n",
    "plt.clim(object_median-100,object_median+100)\n",
    "fig.savefig(object_id + '_%d.png'%i)\n",
    "\n",
    "#same image with jet color bar\n",
    "fig2=plt.figure(figsize=(8,8))\n",
    "plt.colorbar(plt.imshow(frame_of_interest_backgroundsubtracted,cmap='jet'))\n",
    "plt.clim(0,object_median+100) #starting at 0 instead of -100\n",
    "fig2.savefig(object_id + '_jet_%d.png'%i)\n",
    "\n",
    "#show the stats\n",
    "print('mean is %f' %object_mean)\n",
    "print('median is %f' %object_median)\n",
    "print('variance is %f' %object_variance)\n"
   ]
  },
  {
   "cell_type": "code",
   "execution_count": 31,
   "metadata": {},
   "outputs": [
    {
     "data": {
      "image/png": "[encoded data removed]",
      "text/plain": [
       "<Figure size 432x288 with 1 Axes>"
      ]
     },
     "metadata": {},
     "output_type": "display_data"
    },
    {
     "name": "stdout",
     "output_type": "stream",
     "text": [
      "minusDecrement: 10, deepSeaMedianThreshold: 500, scoreThreshA: 1, scoreThreshB: 2047, textureDifferenceThreshold: 0, textureCountThreshold: 0, deepSeaSecondPeakThreshold: 325, deepSeaNeighborThreshold: 7, lrAgreeThreshold: 24\n"
     ]
    }
   ],
   "source": [
    "plt.hist(frame_of_interest_backgroundsubtracted[frame_of_interest_backgroundsubtracted != 0],bins=range(1,100))\n",
    "plt.show()\n",
    "print(saveddepthparams[int((background_low_bounds/100))]) #print the depth parameters that led to this histogram"
   ]
  },
  {
   "cell_type": "code",
   "execution_count": 32,
   "metadata": {},
   "outputs": [
    {
     "name": "stdout",
     "output_type": "stream",
     "text": [
      "[minusDecrement: 10, deepSeaMedianThreshold: 500, scoreThreshA: 1, scoreThreshB: 2047, textureDifferenceThreshold: 0, textureCountThreshold: 0, deepSeaSecondPeakThreshold: 325, deepSeaNeighborThreshold: 7, lrAgreeThreshold: 24, minusDecrement: 10, deepSeaMedianThreshold: 548, scoreThreshA: 0, scoreThreshB: 2189, textureDifferenceThreshold: 4, textureCountThreshold: 0, deepSeaSecondPeakThreshold: 316, deepSeaNeighborThreshold: 6, lrAgreeThreshold: 1, minusDecrement: 20, deepSeaMedianThreshold: 530, scoreThreshA: 3, scoreThreshB: 2317, textureDifferenceThreshold: 0, textureCountThreshold: 2, deepSeaSecondPeakThreshold: 339, deepSeaNeighborThreshold: 14, lrAgreeThreshold: 5, minusDecrement: 12, deepSeaMedianThreshold: 451, scoreThreshA: 3, scoreThreshB: 1924, textureDifferenceThreshold: 4, textureCountThreshold: 5, deepSeaSecondPeakThreshold: 328, deepSeaNeighborThreshold: 20, lrAgreeThreshold: 4]\n",
      "[minusDecrement: 10, deepSeaMedianThreshold: 500, scoreThreshA: 1, scoreThreshB: 2047, textureDifferenceThreshold: 0, textureCountThreshold: 0, deepSeaSecondPeakThreshold: 325, deepSeaNeighborThreshold: 7, lrAgreeThreshold: 24, minusDecrement: 10, deepSeaMedianThreshold: 548, scoreThreshA: 0, scoreThreshB: 2189, textureDifferenceThreshold: 4, textureCountThreshold: 0, deepSeaSecondPeakThreshold: 316, deepSeaNeighborThreshold: 6, lrAgreeThreshold: 1, minusDecrement: 20, deepSeaMedianThreshold: 530, scoreThreshA: 3, scoreThreshB: 2317, textureDifferenceThreshold: 0, textureCountThreshold: 2, deepSeaSecondPeakThreshold: 339, deepSeaNeighborThreshold: 14, lrAgreeThreshold: 5, minusDecrement: 12, deepSeaMedianThreshold: 451, scoreThreshA: 3, scoreThreshB: 1924, textureDifferenceThreshold: 4, textureCountThreshold: 5, deepSeaSecondPeakThreshold: 328, deepSeaNeighborThreshold: 20, lrAgreeThreshold: 4]\n"
     ]
    }
   ],
   "source": [
    "#params used for the backgroud should equal the params used for the object\n",
    "print(saveddepthparams[0:4])\n",
    "print(saveddepthparams[5:9])"
   ]
  },
  {
   "cell_type": "code",
   "execution_count": 33,
   "metadata": {},
   "outputs": [
    {
     "name": "stdout",
     "output_type": "stream",
     "text": [
      "rm: cannot remove 'pythondepthdata.bin': No such file or directory\r\n"
     ]
    }
   ],
   "source": [
    "#remove data and make it more convenient to rerun pipeline for testing (other wise you need to do this manually)\n",
    "!rm pythondepthdata.bin"
   ]
  }
 ],
 "metadata": {
  "kernelspec": {
   "display_name": "Python 3",
   "language": "python",
   "name": "python3"
  },
  "language_info": {
   "codemirror_mode": {
    "name": "ipython",
    "version": 3
   },
   "file_extension": ".py",
   "mimetype": "text/x-python",
   "name": "python",
   "nbconvert_exporter": "python",
   "pygments_lexer": "ipython3",
   "version": "3.5.2"
  }
 },
 "nbformat": 4,
 "nbformat_minor": 2
}
