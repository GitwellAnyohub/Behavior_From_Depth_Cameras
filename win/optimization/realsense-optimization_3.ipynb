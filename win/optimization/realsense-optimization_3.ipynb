{
 "cells": [
  {
   "cell_type": "markdown",
   "metadata": {},
   "source": [
    "# Optimizing realsense parameters for data acquisition\n",
    "\n",
    "The Intel Realsense D415 comes supplied with many parameters that affect the quality of the depth acquisition. This can be a huge pain to tune by hand.\n",
    "\n",
    "The goal of this notebook is to use python bindings to the realsense library and optimize parameters to improve the quality of our mouse recordings."
   ]
  },
  {
   "cell_type": "code",
   "execution_count": 1,
   "metadata": {},
   "outputs": [],
   "source": [
    "# first make sure the realsense python bindings are importable by python\n",
    "# download libreasense sdk using the following instructions (For Linux):\n",
    "\n",
    "# 1. open terminal\n",
    "# 2. $ git clone https://github.com/IntelRealSense/librealsense\n",
    "# 3. $ cd librealsense\n",
    "# 4. $ mkdir build\n",
    "# 5. $ cd build\n",
    "\n",
    "# in order to get import pyrealsense2 to work you need to cmake with bindings that specify the full path of the python executable\n",
    "# in order to find the full path, open python3 in the terminal:\n",
    "\n",
    "# 6. $ python3  #this opens the python environment\n",
    "# 7. >>>import sys\n",
    "# 8. >>>print(sys.executable)\n",
    "#       /usr/bin/python\n",
    "# 9. >>>quit()\n",
    "\n",
    "# if you are working in ipython notebook, you can do the above commands right in the notebook"
   ]
  },
  {
   "cell_type": "code",
   "execution_count": 2,
   "metadata": {},
   "outputs": [
    {
     "name": "stdout",
     "output_type": "stream",
     "text": [
      "/usr/bin/python3\n"
     ]
    }
   ],
   "source": [
    "import sys\n",
    "print(sys.executable)"
   ]
  },
  {
   "cell_type": "code",
   "execution_count": 3,
   "metadata": {},
   "outputs": [],
   "source": [
    "# now, when you use cmake (remember you're still in the build directory), copy the full path after -DBUILD_PYTHON_EXECUTABLE=[full path] as follows:\n",
    "\n",
    "# 10. $ cmake ../ -DBUILD_PYTHON_BINDINGS=TRUE -DBUILD_PYTHON_EXECUTABLE=/home/rockwell/miniconda3/bin/python\n",
    "# 11. $ make -j4\n",
    "# 12. $ sudo make install #Optional if you want the library to be installed in your system"
   ]
  },
  {
   "cell_type": "code",
   "execution_count": 4,
   "metadata": {},
   "outputs": [],
   "source": [
    "sys.path.append('/usr/local/lib')"
   ]
  },
  {
   "cell_type": "code",
   "execution_count": 5,
   "metadata": {},
   "outputs": [],
   "source": [
    "import pyrealsense2 as rs"
   ]
  },
  {
   "cell_type": "code",
   "execution_count": 6,
   "metadata": {},
   "outputs": [],
   "source": [
    "import numpy as np\n",
    "import cv2\n",
    "import json\n",
    "import time"
   ]
  },
  {
   "cell_type": "code",
   "execution_count": 7,
   "metadata": {},
   "outputs": [],
   "source": [
    "#values of some preset parameters. This is the list that will change in very loop of the SGD\n",
    "values= [400, 0.461914, -0.553711, -0.553711, 0.0458984, 0.540039, 0.540039, 0.208008, -0.332031, -0.212891, -0.212891, 0.68457, 0.930664, 65536, 624, 53, \"True\", 33000, \"True\", 166, 0, 0 , 50, 64, 300, 0, 3, 64, 50, \"True\", 4600, 16, \"False\", 150, \"on\", 0, 400, 9, 9, 9, 9, 65536, 624, 901, 0, 0, 0, 0, 0, 0, 53, 800, 26, 24, 2047, 500, 1, 7, 1, 1, 3, 1, 1, 3, 0.0499022, 0.0499022, 0.0499022, 3, 1, 10, 10, 4, 1, 0.375, 72, 72, 72, 60, 105, 70, 342, 190, 130, 325, 0, 0, 1, 901] "
   ]
  },
  {
   "cell_type": "code",
   "execution_count": 8,
   "metadata": {},
   "outputs": [],
   "source": [
    "# KEY FUNCTION FOR SETTING THE D415\n",
    "def writeD415Json(path,filename,values):\n",
    "    filepathname= './' + path + filename + '.json'\n",
    "    parameters={}\n",
    "    parameters[\"aux-param-autoexposure-setpoint\"]=str(values[0])\n",
    "    parameters[\"aux-param-colorcorrection1\"]=str(values[1])\n",
    "    parameters[\"aux-param-colorcorrection10\"]=str(values[2])\n",
    "    parameters[\"aux-param-colorcorrection11\"]=str(values[3])\n",
    "    parameters[\"aux-param-colorcorrection12\"]=str(values[4]) \n",
    "    parameters[\"aux-param-colorcorrection2\"]=str(values[5])\n",
    "    parameters[\"aux-param-colorcorrection3\"]=str(values[6])\n",
    "    parameters[\"aux-param-colorcorrection4\"]=str(values[7]) \n",
    "    parameters[\"aux-param-colorcorrection5\"]=str(values[8])\n",
    "    parameters[\"aux-param-colorcorrection6\"]=str(values[9])\n",
    "    parameters[\"aux-param-colorcorrection7\"]=str(values[10])\n",
    "    parameters[\"aux-param-colorcorrection8\"]=str(values[11])\n",
    "    parameters[\"aux-param-colorcorrection9\"]=str(values[12])\n",
    "    parameters[\"aux-param-depthclampmax\"]=str(values[13])\n",
    "    parameters[\"aux-param-depthclampmin\"]=str(values[14])\n",
    "    parameters[\"aux-param-disparityshift\"]=str(values[15])\n",
    "    parameters[\"controls-autoexposure-auto\"]=str(values[16])\n",
    "    parameters[\"controls-autoexposure-manual\"]=str(values[17])\n",
    "    parameters[\"controls-color-autoexposure-auto\"]=str(values[18])\n",
    "    parameters[\"controls-color-autoexposure-manual\"]=str(values[19])\n",
    "    parameters[\"controls-color-backlight-compensation\"]=str(values[20])\n",
    "    parameters[\"controls-color-brightness\"]=str(values[21])\n",
    "    parameters[\"controls-color-contrast\"]=str(values[22])\n",
    "    parameters[\"controls-color-gain\"]=str(values[23])\n",
    "    parameters[\"controls-color-gamma\"]=str(values[24])\n",
    "    parameters[\"controls-color-hue\"]=str(values[25])\n",
    "    parameters[\"controls-color-power-line-frequency\"]=str(values[26])\n",
    "    parameters[\"controls-color-saturation\"]=str(values[27])\n",
    "    parameters[\"controls-color-sharpness\"]=str(values[28])\n",
    "    parameters[\"controls-color-white-balance-auto\"]=str(values[29])\n",
    "    parameters[\"controls-color-white-balance-manual\"]=str(values[30])\n",
    "    parameters[\"controls-depth-gain\"]=str(values[31])\n",
    "    parameters[\"controls-depth-white-balance-auto\"]=str(values[32])\n",
    "    parameters[\"controls-laserpower\"]=str(values[33])\n",
    "    parameters[\"controls-laserstate\"]=str(values[34])\n",
    "    parameters[\"ignoreSAD\"]=str(values[35])\n",
    "    parameters[\"param-autoexposure-setpoint\"]=str(values[36])\n",
    "    parameters[\"param-censusenablereg-udiameter\"]=str(values[37])\n",
    "    parameters[\"param-censusenablereg-vdiameter\"]=str(values[38])\n",
    "    parameters[\"param-censususize\"]=str(values[39])\n",
    "    parameters[\"param-censusvsize\"]=str(values[40])\n",
    "    parameters[\"param-depthclampmax\"]=str(values[41]) \n",
    "    parameters[\"param-depthclampmin\"]=str(values[42]) \n",
    "    parameters[\"param-depthunits\"]=str(values[43])\n",
    "    parameters[\"param-disableraucolor\"]=str(values[44])\n",
    "    parameters[\"param-disablesadcolor\"]=str(values[45])\n",
    "    parameters[\"param-disablesadnormalize\"]=str(values[46])\n",
    "    parameters[\"param-disablesloleftcolor\"]=str(values[47])\n",
    "    parameters[\"param-disableslorightcolor\"]=str(values[48]) \n",
    "    parameters[\"param-disparitymode\"]=str(values[49])\n",
    "    parameters[\"param-disparityshift\"]=str(values[50])\n",
    "    parameters[\"param-lambdaad\"]=str(values[51])\n",
    "    parameters[\"param-lambdacensus\"]=str(values[52])\n",
    "    parameters[\"param-leftrightthreshold\"]=str(values[53])\n",
    "    parameters[\"param-maxscorethreshb\"]=str(values[54])\n",
    "    parameters[\"param-medianthreshold\"]=str(values[55])\n",
    "    parameters[\"param-minscorethresha\"]=str(values[56])\n",
    "    parameters[\"param-neighborthresh\"]=str(values[57])\n",
    "    parameters[\"param-raumine\"]=str(values[58])\n",
    "    parameters[\"param-rauminn\"]=str(values[59])\n",
    "    parameters[\"param-rauminnssum\"]=str(values[60])\n",
    "    parameters[\"param-raumins\"]=str(values[61])\n",
    "    parameters[\"param-rauminw\"]=str(values[62])\n",
    "    parameters[\"param-rauminwesum\"]=str(values[63])\n",
    "    parameters[\"param-regioncolorthresholdb\"]=str(values[64])\n",
    "    parameters[\"param-regioncolorthresholdg\"]=str(values[65])\n",
    "    parameters[\"param-regioncolorthresholdr\"]=str(values[66]) \n",
    "    parameters[\"param-regionshrinku\"]=str(values[67])\n",
    "    parameters[\"param-regionshrinkv\"]=str(values[68])\n",
    "    parameters[\"param-robbinsmonrodecrement\"]=str(values[69])\n",
    "    parameters[\"param-robbinsmonroincrement\"]=str(values[70])\n",
    "    parameters[\"param-rsmdiffthreshold\"]=str(values[71])\n",
    "    parameters[\"param-rsmrauslodiffthreshold\"]=str(values[72]) \n",
    "    parameters[\"param-rsmremovethreshold\"]=str(values[73]) \n",
    "    parameters[\"param-scanlineedgetaub\"]=str(values[74])\n",
    "    parameters[\"param-scanlineedgetaug\"]=str(values[75]) \n",
    "    parameters[\"param-scanlineedgetaur\"]=str(values[76]) \n",
    "    parameters[\"param-scanlinep1\"]=str(values[77]) \n",
    "    parameters[\"param-scanlinep1onediscon\"]=str(values[78]) \n",
    "    parameters[\"param-scanlinep1twodiscon\"]=str(values[79])\n",
    "    parameters[\"param-scanlinep2\"]=str(values[80])\n",
    "    parameters[\"param-scanlinep2onediscon\"]=str(values[81])\n",
    "    parameters[\"param-scanlinep2twodiscon\"]=str(values[82])\n",
    "    parameters[\"param-secondpeakdelta\"]=str(values[83])\n",
    "    parameters[\"param-texturecountthresh\"]=str(values[84])\n",
    "    parameters[\"param-texturedifferencethresh\"]=str(values[85])\n",
    "    parameters[\"param-usersm\"]=str(values[86]) \n",
    "    parameters[\"param-zunits\"]=str(values[87])\n",
    "\n",
    "    with open(filepathname, 'w') as fp:\n",
    "        json.dump(parameters, fp)\n",
    "\n",
    "filename='practice_writing_file'\n",
    "path='./'\n",
    "writeD415Json(path,filename,values)"
   ]
  },
  {
   "cell_type": "code",
   "execution_count": 9,
   "metadata": {},
   "outputs": [
    {
     "data": {
      "text/plain": [
       "65536"
      ]
     },
     "execution_count": 9,
     "metadata": {},
     "output_type": "execute_result"
    }
   ],
   "source": [
    "values[41]"
   ]
  },
  {
   "cell_type": "code",
   "execution_count": 10,
   "metadata": {},
   "outputs": [
    {
     "name": "stdout",
     "output_type": "stream",
     "text": [
      "Found device that supports advanced mode: Intel RealSense D415\n",
      "Advanced mode is enabled\n"
     ]
    }
   ],
   "source": [
    "# Enabling Advanced Mode\n",
    "\n",
    "DS5_product_ids = [\"0AD1\", \"0AD2\", \"0AD3\", \"0AD4\", \"0AD5\", \"0AF6\", \"0AFE\", \"0AFF\", \"0B00\", \"0B01\", \"0B03\", \"0B07\"]\n",
    "\n",
    "def find_device_that_supports_advanced_mode() :\n",
    "    ctx = rs.context()\n",
    "    ds5_dev = rs.device()\n",
    "    devices = ctx.query_devices();\n",
    "    for dev in devices:\n",
    "        if dev.supports(rs.camera_info.product_id) and str(dev.get_info(rs.camera_info.product_id)) in DS5_product_ids:\n",
    "            if dev.supports(rs.camera_info.name):\n",
    "                print(\"Found device that supports advanced mode:\", dev.get_info(rs.camera_info.name))\n",
    "            return dev\n",
    "    raise Exception(\"No device that supports advanced mode was found\")\n",
    "\n",
    "try:\n",
    "    dev = find_device_that_supports_advanced_mode()\n",
    "    advnc_mode = rs.rs400_advanced_mode(dev)\n",
    "    print(\"Advanced mode is\", \"enabled\" if advnc_mode.is_enabled() else \"disabled\")\n",
    "\n",
    "    # Loop until we successfully enable advanced mode\n",
    "    while not advnc_mode.is_enabled():\n",
    "        print(\"Trying to enable advanced mode...\")\n",
    "        advnc_mode.toggle_advanced_mode(True)\n",
    "        # At this point the device will disconnect and re-connect.\n",
    "        print(\"Sleeping for 5 seconds...\")\n",
    "        time.sleep(5)\n",
    "        # The 'dev' object will become invalid and we need to initialize it again\n",
    "        dev = find_device_that_supports_advanced_mode()\n",
    "        advnc_mode = rs.rs400_advanced_mode(dev)\n",
    "        print(\"Advanced mode is\", \"enabled\" if advnc_mode.is_enabled() else \"disabled\")\n",
    "\n",
    "    \n",
    "except Exception as e:\n",
    "    print(e)\n",
    "pass"
   ]
  },
  {
   "cell_type": "code",
   "execution_count": 11,
   "metadata": {
    "scrolled": true
   },
   "outputs": [
    {
     "name": "stdout",
     "output_type": "stream",
     "text": [
      "{\"param-rauminn\": \"1\", \"controls-laserstate\": \"on\", \"param-censususize\": \"9\", \"controls-color-autoexposure-manual\": \"166\", \"param-depthclampmin\": \"624\", \"aux-param-colorcorrection1\": \"0.461914\", \"controls-depth-white-balance-auto\": \"False\", \"controls-color-backlight-compensation\": \"0\", \"param-scanlinep1\": \"60\", \"controls-color-contrast\": \"50\", \"aux-param-colorcorrection11\": \"-0.553711\", \"controls-depth-gain\": \"16\", \"ignoreSAD\": \"0\", \"param-lambdaad\": \"800\", \"param-scanlineedgetaub\": \"72\", \"param-disparitymode\": \"0\", \"param-censusenablereg-udiameter\": \"9\", \"aux-param-autoexposure-setpoint\": \"400\", \"controls-color-power-line-frequency\": \"3\", \"param-autoexposure-setpoint\": \"400\", \"aux-param-colorcorrection3\": \"0.540039\", \"param-scanlinep2twodiscon\": \"130\", \"param-texturecountthresh\": \"0\", \"param-rsmrauslodiffthreshold\": \"1\", \"param-depthunits\": \"901\", \"controls-color-gain\": \"64\", \"param-raumins\": \"1\", \"param-rauminnssum\": \"3\", \"param-scanlinep2\": \"342\", \"param-rsmremovethreshold\": \"0.375\", \"param-lambdacensus\": \"26\", \"controls-autoexposure-manual\": \"33000\", \"aux-param-colorcorrection6\": \"-0.212891\", \"param-zunits\": \"901\", \"controls-autoexposure-auto\": \"True\", \"aux-param-colorcorrection12\": \"0.0458984\", \"aux-param-colorcorrection4\": \"0.208008\", \"controls-color-hue\": \"0\", \"controls-color-white-balance-manual\": \"4600\", \"param-regionshrinkv\": \"1\", \"aux-param-colorcorrection8\": \"0.68457\", \"param-disablesadcolor\": \"0\", \"param-disablesloleftcolor\": \"0\", \"param-robbinsmonrodecrement\": \"10\", \"param-regioncolorthresholdg\": \"0.0499022\", \"controls-color-brightness\": \"0\", \"param-scanlinep2onediscon\": \"190\", \"aux-param-colorcorrection2\": \"0.540039\", \"param-medianthreshold\": \"500\", \"param-disableslorightcolor\": \"0\", \"aux-param-depthclampmin\": \"624\", \"param-scanlinep1onediscon\": \"105\", \"aux-param-depthclampmax\": \"65536\", \"aux-param-colorcorrection9\": \"0.930664\", \"controls-color-saturation\": \"64\", \"param-maxscorethreshb\": \"2047\", \"param-rauminwesum\": \"3\", \"param-raumine\": \"1\", \"aux-param-colorcorrection7\": \"-0.212891\", \"param-disableraucolor\": \"0\", \"aux-param-disparityshift\": \"53\", \"param-censusvsize\": \"9\", \"param-regionshrinku\": \"3\", \"param-regioncolorthresholdb\": \"0.0499022\", \"param-scanlineedgetaug\": \"72\", \"controls-color-sharpness\": \"50\", \"param-rauminw\": \"1\", \"param-scanlinep1twodiscon\": \"70\", \"param-depthclampmax\": \"65536\", \"param-texturedifferencethresh\": \"0\", \"param-robbinsmonroincrement\": \"10\", \"controls-color-autoexposure-auto\": \"True\", \"aux-param-colorcorrection10\": \"-0.553711\", \"param-disablesadnormalize\": \"0\", \"param-minscorethresha\": \"1\", \"param-regioncolorthresholdr\": \"0.0499022\", \"param-censusenablereg-vdiameter\": \"9\", \"param-rsmdiffthreshold\": \"4\", \"controls-color-gamma\": \"300\", \"param-scanlineedgetaur\": \"72\", \"param-neighborthresh\": \"7\", \"param-usersm\": \"1\", \"controls-laserpower\": \"150\", \"controls-color-white-balance-auto\": \"True\", \"aux-param-colorcorrection5\": \"-0.332031\", \"param-secondpeakdelta\": \"325\", \"param-disparityshift\": \"53\", \"param-leftrightthreshold\": \"24\"}\n"
     ]
    }
   ],
   "source": [
    "# Loading presaved parameters \n",
    "    \n",
    "with open(\"practice_writing_file.json\") as json_data: #Json file to be loaded\n",
    "    J = json.load(json_data)\n",
    "    J=str(J).replace(\"'\", '\\\"') #IF YOU DON't DO THIS IT WILL NOT WORK with the librealsense sdk\n",
    "    print(J)"
   ]
  },
  {
   "cell_type": "code",
   "execution_count": 12,
   "metadata": {},
   "outputs": [
    {
     "name": "stdout",
     "output_type": "stream",
     "text": [
      "{\"param-rauminn\": \"1\", \"controls-laserstate\": \"on\", \"param-censususize\": \"9\", \"controls-color-autoexposure-manual\": \"166\", \"param-depthclampmin\": \"624\", \"aux-param-colorcorrection1\": \"0.461914\", \"controls-depth-white-balance-auto\": \"False\", \"controls-color-backlight-compensation\": \"0\", \"param-scanlinep1\": \"60\", \"controls-color-contrast\": \"50\", \"aux-param-colorcorrection11\": \"-0.553711\", \"controls-depth-gain\": \"16\", \"ignoreSAD\": \"0\", \"param-lambdaad\": \"800\", \"param-scanlineedgetaub\": \"72\", \"param-disparitymode\": \"0\", \"param-censusenablereg-udiameter\": \"9\", \"aux-param-autoexposure-setpoint\": \"400\", \"controls-color-power-line-frequency\": \"3\", \"param-autoexposure-setpoint\": \"400\", \"aux-param-colorcorrection3\": \"0.540039\", \"param-scanlinep2twodiscon\": \"130\", \"param-texturecountthresh\": \"0\", \"param-rsmrauslodiffthreshold\": \"1\", \"param-depthunits\": \"901\", \"controls-color-gain\": \"64\", \"param-raumins\": \"1\", \"param-rauminnssum\": \"3\", \"param-scanlinep2\": \"342\", \"param-rsmremovethreshold\": \"0.375\", \"param-lambdacensus\": \"26\", \"controls-autoexposure-manual\": \"33000\", \"aux-param-colorcorrection6\": \"-0.212891\", \"param-zunits\": \"901\", \"controls-autoexposure-auto\": \"True\", \"aux-param-colorcorrection12\": \"0.0458984\", \"aux-param-colorcorrection4\": \"0.208008\", \"controls-color-hue\": \"0\", \"controls-color-white-balance-manual\": \"4600\", \"param-regionshrinkv\": \"1\", \"aux-param-colorcorrection8\": \"0.68457\", \"param-disablesadcolor\": \"0\", \"param-disablesloleftcolor\": \"0\", \"param-robbinsmonrodecrement\": \"10\", \"param-regioncolorthresholdg\": \"0.0499022\", \"controls-color-brightness\": \"0\", \"param-scanlinep2onediscon\": \"190\", \"aux-param-colorcorrection2\": \"0.540039\", \"param-medianthreshold\": \"500\", \"param-disableslorightcolor\": \"0\", \"aux-param-depthclampmin\": \"624\", \"param-scanlinep1onediscon\": \"105\", \"aux-param-depthclampmax\": \"65536\", \"aux-param-colorcorrection9\": \"0.930664\", \"controls-color-saturation\": \"64\", \"param-maxscorethreshb\": \"2047\", \"param-rauminwesum\": \"3\", \"param-raumine\": \"1\", \"aux-param-colorcorrection7\": \"-0.212891\", \"param-disableraucolor\": \"0\", \"aux-param-disparityshift\": \"53\", \"param-censusvsize\": \"9\", \"param-regionshrinku\": \"3\", \"param-regioncolorthresholdb\": \"0.0499022\", \"param-scanlineedgetaug\": \"72\", \"controls-color-sharpness\": \"50\", \"param-rauminw\": \"1\", \"param-scanlinep1twodiscon\": \"70\", \"param-depthclampmax\": \"65536\", \"param-texturedifferencethresh\": \"0\", \"param-robbinsmonroincrement\": \"10\", \"controls-color-autoexposure-auto\": \"True\", \"aux-param-colorcorrection10\": \"-0.553711\", \"param-disablesadnormalize\": \"0\", \"param-minscorethresha\": \"1\", \"param-regioncolorthresholdr\": \"0.0499022\", \"param-censusenablereg-vdiameter\": \"9\", \"param-rsmdiffthreshold\": \"4\", \"controls-color-gamma\": \"300\", \"param-scanlineedgetaur\": \"72\", \"param-neighborthresh\": \"7\", \"param-usersm\": \"1\", \"controls-laserpower\": \"150\", \"controls-color-white-balance-auto\": \"True\", \"aux-param-colorcorrection5\": \"-0.332031\", \"param-secondpeakdelta\": \"325\", \"param-disparityshift\": \"53\", \"param-leftrightthreshold\": \"24\"}\n"
     ]
    }
   ],
   "source": [
    "print(J)"
   ]
  },
  {
   "cell_type": "code",
   "execution_count": 13,
   "metadata": {},
   "outputs": [
    {
     "name": "stdout",
     "output_type": "stream",
     "text": [
      "Number of Experimental Loops =  180\n",
      "\n",
      "Time Elapsed =  3.234884738922119\n",
      "\n",
      "Parameters Used =  {\"param-rauminn\": \"1\", \"controls-laserstate\": \"on\", \"param-censususize\": \"9\", \"controls-color-autoexposure-manual\": \"166\", \"param-depthclampmin\": \"624\", \"aux-param-colorcorrection1\": \"0.461914\", \"param-robbinsmonrodecrement\": \"10\", \"controls-color-backlight-compensation\": \"0\", \"param-scanlinep1\": \"60\", \"controls-color-contrast\": \"50\", \"aux-param-colorcorrection11\": \"-0.553711\", \"controls-depth-gain\": \"16\", \"ignoreSAD\": \"0\", \"param-lambdaad\": \"800\", \"param-disparitymode\": \"0\", \"param-censusenablereg-udiameter\": \"9\", \"aux-param-autoexposure-setpoint\": \"400\", \"controls-color-power-line-frequency\": \"3\", \"param-autoexposure-setpoint\": \"400\", \"aux-param-colorcorrection3\": \"0.540039\", \"param-scanlinep2twodiscon\": \"130\", \"param-texturecountthresh\": \"0\", \"param-depthunits\": \"901\", \"controls-color-gain\": \"64\", \"param-disablesadcolor\": \"0\", \"param-raumins\": \"1\", \"param-rauminnssum\": \"3\", \"param-rsmremovethreshold\": \"0.375\", \"param-scanlineedgetaur\": \"72\", \"param-rsmrauslodiffthreshold\": \"1\", \"aux-param-colorcorrection6\": \"-0.212891\", \"param-zunits\": \"901\", \"controls-autoexposure-auto\": \"True\", \"param-disableslorightcolor\": \"0\", \"aux-param-colorcorrection4\": \"0.208008\", \"controls-color-hue\": \"0\", \"controls-color-white-balance-manual\": \"4600\", \"param-regionshrinkv\": \"1\", \"aux-param-colorcorrection8\": \"0.68457\", \"param-neighborthresh\": \"7\", \"param-disablesloleftcolor\": \"0\", \"controls-depth-white-balance-auto\": \"False\", \"param-regioncolorthresholdg\": \"0.0499022\", \"controls-color-brightness\": \"0\", \"param-scanlinep2onediscon\": \"190\", \"aux-param-colorcorrection2\": \"0.540039\", \"param-medianthreshold\": \"500\", \"aux-param-colorcorrection12\": \"0.0458984\", \"aux-param-depthclampmin\": \"624\", \"param-scanlinep1onediscon\": \"105\", \"aux-param-depthclampmax\": \"65536\", \"aux-param-colorcorrection9\": \"0.930664\", \"controls-color-saturation\": \"64\", \"param-maxscorethreshb\": \"2047\", \"param-rauminwesum\": \"3\", \"param-raumine\": \"1\", \"aux-param-colorcorrection7\": \"-0.212891\", \"param-disableraucolor\": \"0\", \"controls-laserpower\": \"150\", \"aux-param-disparityshift\": \"53\", \"param-censusvsize\": \"9\", \"param-regionshrinku\": \"3\", \"param-regioncolorthresholdb\": \"0.0499022\", \"param-scanlineedgetaug\": \"72\", \"controls-color-sharpness\": \"50\", \"param-rauminw\": \"1\", \"param-scanlinep1twodiscon\": \"70\", \"param-depthclampmax\": \"65536\", \"param-texturedifferencethresh\": \"0\", \"param-secondpeakdelta\": \"325\", \"param-robbinsmonroincrement\": \"10\", \"controls-color-autoexposure-auto\": \"True\", \"aux-param-colorcorrection10\": \"-0.553711\", \"param-disablesadnormalize\": \"0\", \"param-minscorethresha\": \"1\", \"param-regioncolorthresholdr\": \"0.0499022\", \"param-censusenablereg-vdiameter\": \"9\", \"param-rsmdiffthreshold\": \"4\", \"controls-color-gamma\": \"300\", \"param-lambdacensus\": \"26\", \"param-disparityshift\": \"53\", \"param-usersm\": \"1\", \"controls-autoexposure-manual\": \"33000\", \"controls-color-white-balance-auto\": \"True\", \"aux-param-colorcorrection5\": \"-0.332031\", \"param-scanlineedgetaub\": \"72\", \"param-scanlinep2\": \"342\", \"param-leftrightthreshold\": \"24\"}\n"
     ]
    }
   ],
   "source": [
    "#Experimental Loop\n",
    "\n",
    "frame_width=848\n",
    "frame_height=480\n",
    "fps=90\n",
    "number_of_frames_to_record=180\n",
    "file = open('pythondepthdata.bin', 'a+b') #open a file for apending binary data\n",
    "# Configure depth and color streams\n",
    "pipeline = rs.pipeline()\n",
    "config = rs.config()\n",
    "config.enable_stream(rs.stream.depth, frame_width, frame_height, rs.format.z16, fps)\n",
    "#config.enable_stream(rs.stream.color, frame_width, frame_height, rs.format.bgr8, fps)\n",
    "advnc_mode.load_json(J)\n",
    "# Start streaming\n",
    "cfg = pipeline.start(config)\n",
    "dev = cfg.get_device()\n",
    "depth_sensor = dev.first_depth_sensor()\n",
    "#depth_sensor.set_option(rs.option.visual_preset, 2)\n",
    "\n",
    "\n",
    "iteration = 0;\n",
    "preset = 0;\n",
    "preset_name = '';\n",
    "tick=0; #keeping track of the number of loops the experiment has gone through\n",
    "\n",
    "start_of_loop = time.time()\n",
    "advnc_mode.load_json(J) #LOADING ADVANCED MORE WITH OUR PRESET JSON J\n",
    "with open('pythondepthdata.bin','ab') as binarydata: #While the file called \"pythonedpthdata.bin\" is open for appending binary, \n",
    "    try:\n",
    "        while tick<number_of_frames_to_record: #aiming for 200 frames\n",
    "            tick=tick+1 \n",
    "            \n",
    "            # Wait for a coherent pair of frames: depth and color\n",
    "            frames = pipeline.wait_for_frames()\n",
    "            depth_frame = frames.get_depth_frame()\n",
    "            color_frame = frames.get_color_frame()\n",
    "        \n",
    "            #iteration = iteration + 1\n",
    "            #if iteration > 100:\n",
    "               #preset = preset + 1\n",
    "               #iteration = 0\n",
    "               #range = depth_sensor.get_option_range(rs.option.visual_preset)\n",
    "               #preset = preset % range.max\n",
    "               #depth_sensor.set_option(rs.option.visual_preset, preset)\n",
    "               #preset_name = depth_sensor.get_option_value_description(rs.option.visual_preset, preset)\n",
    "        \n",
    "            # Convert images to numpy arrays\n",
    "            depth_image = np.asanyarray(depth_frame.get_data())\n",
    "            #color_image = np.asanyarray(color_frame.get_data())\n",
    "            depth_image.tofile(binarydata) #save data as binarydata (specified by the with open as line)\n",
    "        \n",
    "            # Apply colormap on depth image (image must be converted to 8-bit per pixel first)\n",
    "            #depth_colormap = cv2.applyColorMap(cv2.convertScaleAbs(depth_image, None, 0.5, 0), cv2.COLORMAP_JET)\n",
    "\n",
    "            # Stack both images horizontally\n",
    "            #images = np.hstack((color_image, depth_colormap))\n",
    "        \n",
    "            #font = cv2.FONT_HERSHEY_SIMPLEX\n",
    "            #cv2.putText(images, preset_name,(60,80), font, 4,(255,255,255),2,cv2.LINE_AA) \n",
    "\n",
    "            # Show images\n",
    "            #cv2.namedWindow('RealSense', cv2.WINDOW_AUTOSIZE)\n",
    "            #cv2.imshow('RealSense', images)\n",
    "            #cv2.waitKey(1)\n",
    "\n",
    "    finally:\n",
    "\n",
    "        # Stop streaming\n",
    "        pipeline.stop()\n",
    "        end_of_loop=time.time() #end timer\n",
    "        print(\"Number of Experimental Loops = \", tick)\n",
    "        print()\n",
    "        print(\"Time Elapsed = \", end_of_loop - start_of_loop)\n",
    "        serialized_string_2 = advnc_mode.serialize_json()\n",
    "        as_json_object = json.loads(serialized_string_2)\n",
    "        json_used_in_experiment = str(as_json_object).replace(\"'\", '\\\"')\n",
    "        print()\n",
    "        print(\"Parameters Used = \", json_used_in_experiment)\n",
    "       \n",
    "      "
   ]
  },
  {
   "cell_type": "code",
   "execution_count": 14,
   "metadata": {},
   "outputs": [
    {
     "name": "stdout",
     "output_type": "stream",
     "text": [
      "146534400 pythondepthdata.bin\r\n"
     ]
    }
   ],
   "source": [
    "!wc -c pythondepthdata.bin #count number of bytes in the file we just created. each pixel is a uint16 so divide bytes/framedimensions/2"
   ]
  },
  {
   "cell_type": "code",
   "execution_count": 15,
   "metadata": {},
   "outputs": [
    {
     "data": {
      "text/plain": [
       "180.0"
      ]
     },
     "execution_count": 15,
     "metadata": {},
     "output_type": "execute_result"
    }
   ],
   "source": [
    "146534400/848/480/2 #should equal number of frames to record AND tick"
   ]
  },
  {
   "cell_type": "code",
   "execution_count": 16,
   "metadata": {},
   "outputs": [],
   "source": [
    "#NOICE"
   ]
  },
  {
   "cell_type": "code",
   "execution_count": null,
   "metadata": {},
   "outputs": [],
   "source": []
  }
 ],
 "metadata": {
  "kernelspec": {
   "display_name": "Python 3",
   "language": "python",
   "name": "python3"
  },
  "language_info": {
   "codemirror_mode": {
    "name": "ipython",
    "version": 3
   },
   "file_extension": ".py",
   "mimetype": "text/x-python",
   "name": "python",
   "nbconvert_exporter": "python",
   "pygments_lexer": "ipython3",
   "version": "3.5.2"
  },
  "toc": {
   "colors": {
    "hover_highlight": "#DAA520",
    "running_highlight": "#FF0000",
    "selected_highlight": "#FFD700"
   },
   "moveMenuLeft": true,
   "nav_menu": {
    "height": "30px",
    "width": "252px"
   },
   "navigate_menu": true,
   "number_sections": true,
   "sideBar": true,
   "threshold": 4,
   "toc_cell": false,
   "toc_section_display": "block",
   "toc_window_display": false,
   "widenNotebook": false
  }
 },
 "nbformat": 4,
 "nbformat_minor": 1
}
