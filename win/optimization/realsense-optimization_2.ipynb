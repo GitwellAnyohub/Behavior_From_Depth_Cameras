{
 "cells": [
  {
   "cell_type": "markdown",
   "metadata": {},
   "source": [
    "# Optimizing realsense parameters for data acquisition\n",
    "\n",
    "The Intel Realsense D415 comes supplied with many parameters that affect the quality of the depth acquisition. This can be a huge pain to tune by hand.\n",
    "\n",
    "The goal of this notebook is to use python bindings to the realsense library and optimize parameters to improve the quality of our mouse recordings."
   ]
  },
  {
   "cell_type": "code",
   "execution_count": 6,
   "metadata": {},
   "outputs": [],
   "source": [
    "# first make sure the realsense python bindings are importable by python\n",
    "# download libreasense sdk using the following instructions (For Linux):\n",
    "\n",
    "# 1. open terminal\n",
    "# 2. $ git clone https://github.com/IntelRealSense/librealsense\n",
    "# 3. $ cd librealsense\n",
    "# 4. $ mkdir build\n",
    "# 5. $ cd build\n",
    "\n",
    "# in order to get import pyrealsense2 to work you need to cmake with bindings that specify the full path of the python executable\n",
    "# in order to find the full path, open python3 in the terminal:\n",
    "\n",
    "# 6. $ python3  #this opens the python environment\n",
    "# 7. >>>import sys\n",
    "# 8. >>>print(sys.executable)\n",
    "#       /usr/bin/python\n",
    "# 9. >>>quit()\n",
    "\n",
    "# if you are working in ipython notebook, you can do the above commands right in the notebook"
   ]
  },
  {
   "cell_type": "code",
   "execution_count": 15,
   "metadata": {},
   "outputs": [
    {
     "name": "stdout",
     "output_type": "stream",
     "text": [
      "/Users/ranyoha/anaconda3/bin/python\n"
     ]
    }
   ],
   "source": [
    "import sys\n",
    "print(sys.executable)"
   ]
  },
  {
   "cell_type": "code",
   "execution_count": 16,
   "metadata": {},
   "outputs": [],
   "source": [
    "# now, when you use cmake (remember you're still in the build directory), copy the full path after -DBUILD_PYTHON_EXECUTABLE=[full path] as follows:\n",
    "\n",
    "# 10. $ cmake ../ -DBUILD_PYTHON_BINDINGS=TRUE -DBUILD_PYTHON_EXECUTABLE=/home/rockwell/miniconda3/bin/python\n",
    "# 11. $ make -j4\n",
    "# 12. $ sudo make install #Optional if you want the library to be installed in your system"
   ]
  },
  {
   "cell_type": "code",
   "execution_count": 14,
   "metadata": {},
   "outputs": [],
   "source": [
    "sys.path.append('/usr/local/lib')"
   ]
  },
  {
   "cell_type": "code",
   "execution_count": 13,
   "metadata": {},
   "outputs": [
    {
     "ename": "ModuleNotFoundError",
     "evalue": "No module named 'pyrealsense2'",
     "output_type": "error",
     "traceback": [
      "\u001b[0;31m---------------------------------------------------------------------------\u001b[0m",
      "\u001b[0;31mModuleNotFoundError\u001b[0m                       Traceback (most recent call last)",
      "\u001b[0;32m<ipython-input-13-90154d08c00a>\u001b[0m in \u001b[0;36m<module>\u001b[0;34m()\u001b[0m\n\u001b[0;32m----> 1\u001b[0;31m \u001b[0;32mimport\u001b[0m \u001b[0mpyrealsense2\u001b[0m \u001b[0;32mas\u001b[0m \u001b[0mrs\u001b[0m\u001b[0;34m\u001b[0m\u001b[0m\n\u001b[0m",
      "\u001b[0;31mModuleNotFoundError\u001b[0m: No module named 'pyrealsense2'"
     ]
    }
   ],
   "source": [
    "import pyrealsense2 as rs"
   ]
  },
  {
   "cell_type": "code",
   "execution_count": 11,
   "metadata": {},
   "outputs": [],
   "source": [
    "import numpy as np\n",
    "import cv2\n",
    "import json\n",
    "import time"
   ]
  },
  {
   "cell_type": "code",
   "execution_count": 7,
   "metadata": {},
   "outputs": [
    {
     "name": "stdout",
     "output_type": "stream",
     "text": [
      "Found device that supports advanced mode: Intel RealSense D415\n",
      "Advanced mode is enabled\n",
      "name 'J' is not defined\n"
     ]
    }
   ],
   "source": [
    "# Enabling Advanced Mode\n",
    "\n",
    "DS5_product_ids = [\"0AD1\", \"0AD2\", \"0AD3\", \"0AD4\", \"0AD5\", \"0AF6\", \"0AFE\", \"0AFF\", \"0B00\", \"0B01\", \"0B03\", \"0B07\"]\n",
    "\n",
    "def find_device_that_supports_advanced_mode() :\n",
    "    ctx = rs.context()\n",
    "    ds5_dev = rs.device()\n",
    "    devices = ctx.query_devices();\n",
    "    for dev in devices:\n",
    "        if dev.supports(rs.camera_info.product_id) and str(dev.get_info(rs.camera_info.product_id)) in DS5_product_ids:\n",
    "            if dev.supports(rs.camera_info.name):\n",
    "                print(\"Found device that supports advanced mode:\", dev.get_info(rs.camera_info.name))\n",
    "            return dev\n",
    "    raise Exception(\"No device that supports advanced mode was found\")\n",
    "\n",
    "try:\n",
    "    dev = find_device_that_supports_advanced_mode()\n",
    "    advnc_mode = rs.rs400_advanced_mode(dev)\n",
    "    print(\"Advanced mode is\", \"enabled\" if advnc_mode.is_enabled() else \"disabled\")\n",
    "\n",
    "    # Loop until we successfully enable advanced mode\n",
    "    while not advnc_mode.is_enabled():\n",
    "        print(\"Trying to enable advanced mode...\")\n",
    "        advnc_mode.toggle_advanced_mode(True)\n",
    "        # At this point the device will disconnect and re-connect.\n",
    "        print(\"Sleeping for 5 seconds...\")\n",
    "        time.sleep(5)\n",
    "        # The 'dev' object will become invalid and we need to initialize it again\n",
    "        dev = find_device_that_supports_advanced_mode()\n",
    "        advnc_mode = rs.rs400_advanced_mode(dev)\n",
    "        print(\"Advanced mode is\", \"enabled\" if advnc_mode.is_enabled() else \"disabled\")\n",
    "\n",
    "    advnc_mode.load_json(J) #this line is actually not necessary\n",
    "\n",
    "except Exception as e:\n",
    "    print(e)\n",
    "pass"
   ]
  },
  {
   "cell_type": "code",
   "execution_count": 4,
   "metadata": {
    "scrolled": true
   },
   "outputs": [],
   "source": [
    "# Loading presaved parameters \n",
    "with open(\"d415paramset_1.json\") as json_data: #Json file to be loaded\n",
    "    J = json.load(json_data)\n",
    "    J=str(J).replace(\"'\", '\\\"') #IF YOU DON't DO THIS IT WILL NOT WORK"
   ]
  },
  {
   "cell_type": "code",
   "execution_count": 5,
   "metadata": {},
   "outputs": [
    {
     "name": "stdout",
     "output_type": "stream",
     "text": [
      "{\"param-disableraucolor\": \"0\", \"param-disablesadcolor\": \"0\", \"param-disablesadnormalize\": \"0\", \"param-disablesloleftcolor\": \"0\", \"param-disableslorightcolor\": \"0\", \"param-lambdaad\": \"800\", \"param-lambdacensus\": \"26\", \"param-leftrightthreshold\": \"24\", \"param-maxscorethreshb\": \"2047\", \"param-medianthreshold\": \"500\", \"param-minscorethresha\": \"1\", \"param-neighborthresh\": \"7\", \"param-robbinsmonrodecrement\": \"10\", \"param-robbinsmonroincrement\": \"10\", \"param-secondpeakdelta\": \"325\", \"param-texturecountthresh\": \"0\", \"param-texturedifferencethresh\": \"0\", \"param-raumine\": \"1\", \"param-rauminn\": \"1\", \"param-rauminnssum\": \"3\", \"param-raumins\": \"1\", \"param-rauminw\": \"1\", \"param-rauminwesum\": \"3\", \"param-regionshrinku\": \"3\", \"param-regionshrinkv\": \"1\", \"param-regioncolorthresholdr\": \"0.05\", \"param-regioncolorthresholdg\": \"0.05\", \"param-regioncolorthresholdb\": \"0.05\", \"param-rsmdiffthreshold\": \"4\", \"param-rsmrauslodiffthreshold\": \"1\", \"param-rsmremovethreshold\": \"0.375\", \"param-usersm\": \"1\", \"param-scanlineedgetaub\": \"72\", \"param-scanlineedgetaug\": \"72\", \"param-scanlineedgetaur\": \"72\", \"param-scanlinep1\": \"60\", \"param-scanlinep1onediscon\": \"105\", \"param-scanlinep1twodiscon\": \"70\", \"param-scanlinep2\": \"342\", \"param-scanlinep2onediscon\": \"190\", \"param-scanlinep2twodiscon\": \"130\", \"param-censususize\": \"9\", \"param-censusvsize\": \"9\", \"param-zunits\": \"1000\", \"aux-param-depthclampmin\": \"0\", \"aux-param-depthclampmax\": \"65536\", \"param-disparitymode\": \"0\", \"aux-param-disparityshift\": \"0\", \"aux-param-autoexposure-setpoint\": \"400\", \"aux-param-colorcorrection1\": \"0.462\", \"aux-param-colorcorrection2\": \"0.540\", \"aux-param-colorcorrection3\": \"0.540\", \"aux-param-colorcorrection4\": \"0.208\", \"aux-param-colorcorrection5\": \"-0.332\", \"aux-param-colorcorrection6\": \"-0.213\", \"aux-param-colorcorrection7\": \"-0.213\", \"aux-param-colorcorrection8\": \"0.685\", \"aux-param-colorcorrection9\": \"0.931\", \"aux-param-colorcorrection10\": \"-0.554\", \"aux-param-colorcorrection11\": \"-0.554\", \"aux-param-colorcorrection12\": \"0.046\", \"controls-laserstate\": \"on\", \"controls-laserpower\": \"150\", \"controls-autoexposure-auto\": \"True\", \"controls-autoexposure-manual\": \"33000\", \"controls-depth-gain\": \"16\"}\n"
     ]
    }
   ],
   "source": [
    "print(J)"
   ]
  },
  {
   "cell_type": "code",
   "execution_count": 9,
   "metadata": {},
   "outputs": [
    {
     "name": "stdout",
     "output_type": "stream",
     "text": [
      "Number of Experimental Loops =  180\n",
      "\n",
      "Time Elapsed =  6.243042469024658\n",
      "\n",
      "Parameters Used =  {\"aux-param-autoexposure-setpoint\": \"400\", \"aux-param-colorcorrection1\": \"0.461914\", \"aux-param-colorcorrection10\": \"-0.553711\", \"aux-param-colorcorrection11\": \"-0.553711\", \"aux-param-colorcorrection12\": \"0.0458984\", \"aux-param-colorcorrection2\": \"0.540039\", \"aux-param-colorcorrection3\": \"0.540039\", \"aux-param-colorcorrection4\": \"0.208008\", \"aux-param-colorcorrection5\": \"-0.332031\", \"aux-param-colorcorrection6\": \"-0.212891\", \"aux-param-colorcorrection7\": \"-0.212891\", \"aux-param-colorcorrection8\": \"0.68457\", \"aux-param-colorcorrection9\": \"0.930664\", \"aux-param-depthclampmax\": \"65536\", \"aux-param-depthclampmin\": \"624\", \"aux-param-disparityshift\": \"53\", \"controls-autoexposure-auto\": \"True\", \"controls-autoexposure-manual\": \"33000\", \"controls-color-autoexposure-auto\": \"True\", \"controls-color-autoexposure-manual\": \"166\", \"controls-color-backlight-compensation\": \"0\", \"controls-color-brightness\": \"0\", \"controls-color-contrast\": \"50\", \"controls-color-gain\": \"64\", \"controls-color-gamma\": \"300\", \"controls-color-hue\": \"0\", \"controls-color-power-line-frequency\": \"3\", \"controls-color-saturation\": \"64\", \"controls-color-sharpness\": \"50\", \"controls-color-white-balance-auto\": \"True\", \"controls-color-white-balance-manual\": \"4600\", \"controls-depth-gain\": \"16\", \"controls-depth-white-balance-auto\": \"False\", \"controls-laserpower\": \"150\", \"controls-laserstate\": \"on\", \"ignoreSAD\": \"0\", \"param-autoexposure-setpoint\": \"400\", \"param-censusenablereg-udiameter\": \"9\", \"param-censusenablereg-vdiameter\": \"9\", \"param-censususize\": \"9\", \"param-censusvsize\": \"9\", \"param-depthclampmax\": \"65536\", \"param-depthclampmin\": \"624\", \"param-depthunits\": \"901\", \"param-disableraucolor\": \"0\", \"param-disablesadcolor\": \"0\", \"param-disablesadnormalize\": \"0\", \"param-disablesloleftcolor\": \"0\", \"param-disableslorightcolor\": \"0\", \"param-disparitymode\": \"0\", \"param-disparityshift\": \"53\", \"param-lambdaad\": \"800\", \"param-lambdacensus\": \"26\", \"param-leftrightthreshold\": \"24\", \"param-maxscorethreshb\": \"2047\", \"param-medianthreshold\": \"500\", \"param-minscorethresha\": \"1\", \"param-neighborthresh\": \"7\", \"param-raumine\": \"1\", \"param-rauminn\": \"1\", \"param-rauminnssum\": \"3\", \"param-raumins\": \"1\", \"param-rauminw\": \"1\", \"param-rauminwesum\": \"3\", \"param-regioncolorthresholdb\": \"0.0499022\", \"param-regioncolorthresholdg\": \"0.0499022\", \"param-regioncolorthresholdr\": \"0.0499022\", \"param-regionshrinku\": \"3\", \"param-regionshrinkv\": \"1\", \"param-robbinsmonrodecrement\": \"10\", \"param-robbinsmonroincrement\": \"10\", \"param-rsmdiffthreshold\": \"4\", \"param-rsmrauslodiffthreshold\": \"1\", \"param-rsmremovethreshold\": \"0.375\", \"param-scanlineedgetaub\": \"72\", \"param-scanlineedgetaug\": \"72\", \"param-scanlineedgetaur\": \"72\", \"param-scanlinep1\": \"60\", \"param-scanlinep1onediscon\": \"105\", \"param-scanlinep1twodiscon\": \"70\", \"param-scanlinep2\": \"342\", \"param-scanlinep2onediscon\": \"190\", \"param-scanlinep2twodiscon\": \"130\", \"param-secondpeakdelta\": \"325\", \"param-texturecountthresh\": \"0\", \"param-texturedifferencethresh\": \"0\", \"param-usersm\": \"1\", \"param-zunits\": \"901\"}\n"
     ]
    }
   ],
   "source": [
    "#Experimental Loop\n",
    "\n",
    "frame_width=640\n",
    "frame_height=480\n",
    "fps=30\n",
    "number_of_frames_to_record=180\n",
    "file = open('pythondepthdata.bin', 'a+b') #open a file for apending binary data\n",
    "# Configure depth and color streams\n",
    "pipeline = rs.pipeline()\n",
    "config = rs.config()\n",
    "config.enable_stream(rs.stream.depth, frame_width, frame_height, rs.format.z16, fps)\n",
    "config.enable_stream(rs.stream.color, frame_width, frame_height, rs.format.bgr8, fps)\n",
    "\n",
    "# Start streaming\n",
    "cfg = pipeline.start(config)\n",
    "dev = cfg.get_device()\n",
    "depth_sensor = dev.first_depth_sensor()\n",
    "#depth_sensor.set_option(rs.option.visual_preset, 2)\n",
    "\n",
    "\n",
    "iteration = 0;\n",
    "preset = 0;\n",
    "preset_name = '';\n",
    "tick=0; #keeping track of the number of loops the experiment has gone through\n",
    "\n",
    "start_of_loop = time.time()\n",
    "with open('pythondepthdata.bin','ab') as binarydata: #While the file called \"pythonedpthdata.bin\" is open for appending binary, \n",
    "    try:\n",
    "        while tick<number_of_frames_to_record: #aiming for 200 frames\n",
    "            tick=tick+1 \n",
    "            \n",
    "            # Wait for a coherent pair of frames: depth and color\n",
    "            frames = pipeline.wait_for_frames()\n",
    "            depth_frame = frames.get_depth_frame()\n",
    "            color_frame = frames.get_color_frame()\n",
    "        \n",
    "            #iteration = iteration + 1\n",
    "            #if iteration > 100:\n",
    "               #preset = preset + 1\n",
    "               #iteration = 0\n",
    "               #range = depth_sensor.get_option_range(rs.option.visual_preset)\n",
    "               #preset = preset % range.max\n",
    "               #depth_sensor.set_option(rs.option.visual_preset, preset)\n",
    "               #preset_name = depth_sensor.get_option_value_description(rs.option.visual_preset, preset)\n",
    "        \n",
    "            # Convert images to numpy arrays\n",
    "            depth_image = np.asanyarray(depth_frame.get_data())\n",
    "            color_image = np.asanyarray(color_frame.get_data())\n",
    "            depth_image.tofile(binarydata) #save data as binarydata (specified by the with open as line)\n",
    "        \n",
    "            # Apply colormap on depth image (image must be converted to 8-bit per pixel first)\n",
    "            depth_colormap = cv2.applyColorMap(cv2.convertScaleAbs(depth_image, None, 0.5, 0), cv2.COLORMAP_JET)\n",
    "\n",
    "            # Stack both images horizontally\n",
    "            images = np.hstack((color_image, depth_colormap))\n",
    "        \n",
    "            font = cv2.FONT_HERSHEY_SIMPLEX\n",
    "            cv2.putText(images, preset_name,(60,80), font, 4,(255,255,255),2,cv2.LINE_AA) \n",
    "\n",
    "            # Show images\n",
    "            cv2.namedWindow('RealSense', cv2.WINDOW_AUTOSIZE)\n",
    "            cv2.imshow('RealSense', images)\n",
    "            cv2.waitKey(1)\n",
    "\n",
    "    finally:\n",
    "\n",
    "        # Stop streaming\n",
    "        pipeline.stop()\n",
    "        end_of_loop=time.time() #end timer\n",
    "        print(\"Number of Experimental Loops = \", tick)\n",
    "        print()\n",
    "        print(\"Time Elapsed = \", end_of_loop - start_of_loop)\n",
    "        serialized_string_2 = advnc_mode.serialize_json()\n",
    "        as_json_object = json.loads(serialized_string_2)\n",
    "        json_used_in_experiment = str(as_json_object).replace(\"'\", '\\\"')\n",
    "        print()\n",
    "        print(\"Parameters Used = \", json_used_in_experiment)\n",
    "       \n",
    "      "
   ]
  },
  {
   "cell_type": "code",
   "execution_count": 10,
   "metadata": {},
   "outputs": [
    {
     "name": "stdout",
     "output_type": "stream",
     "text": [
      "110592000 pythondepthdata.bin\r\n"
     ]
    }
   ],
   "source": [
    "!wc -c pythondepthdata.bin #count number of bytes in the file we just created. each pixel is a uint16 so divide bytes/framedimensions/2"
   ]
  },
  {
   "cell_type": "code",
   "execution_count": 11,
   "metadata": {},
   "outputs": [
    {
     "data": {
      "text/plain": [
       "200.0"
      ]
     },
     "execution_count": 11,
     "metadata": {},
     "output_type": "execute_result"
    }
   ],
   "source": [
    "110592000/640/480/2 #should equal number of frames to record AND tick"
   ]
  },
  {
   "cell_type": "code",
   "execution_count": 12,
   "metadata": {},
   "outputs": [],
   "source": [
    "#NOICE"
   ]
  }
 ],
 "metadata": {
  "kernelspec": {
   "display_name": "Python 3",
   "language": "python",
   "name": "python3"
  },
  "language_info": {
   "codemirror_mode": {
    "name": "ipython",
    "version": 3
   },
   "file_extension": ".py",
   "mimetype": "text/x-python",
   "name": "python",
   "nbconvert_exporter": "python",
   "pygments_lexer": "ipython3",
   "version": "3.6.4"
  },
  "toc": {
   "colors": {
    "hover_highlight": "#DAA520",
    "running_highlight": "#FF0000",
    "selected_highlight": "#FFD700"
   },
   "moveMenuLeft": true,
   "nav_menu": {
    "height": "30px",
    "width": "252px"
   },
   "navigate_menu": true,
   "number_sections": true,
   "sideBar": true,
   "threshold": 4,
   "toc_cell": false,
   "toc_section_display": "block",
   "toc_window_display": false,
   "widenNotebook": false
  }
 },
 "nbformat": 4,
 "nbformat_minor": 1
}
