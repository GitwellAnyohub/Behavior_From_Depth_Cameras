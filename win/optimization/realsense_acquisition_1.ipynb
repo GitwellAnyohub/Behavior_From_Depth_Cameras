{
 "cells": [
  {
   "cell_type": "code",
   "execution_count": 1,
   "metadata": {},
   "outputs": [],
   "source": [
    "import sys\n",
    "sys.path.append('/usr/local/lib')"
   ]
  },
  {
   "cell_type": "code",
   "execution_count": 2,
   "metadata": {},
   "outputs": [],
   "source": [
    "import matplotlib.pyplot as plt\n",
    "import numpy as np\n",
    "import random\n",
    "import matplotlib.colors as mcol\n",
    "import matplotlib.cm as cm\n",
    "import math\n",
    "import time\n",
    "import pandas as pd\n",
    "import json\n",
    "import pyrealsense2 as rs\n",
    "import cv2\n",
    "from scipy import stats\n",
    "from itertools import cycle\n",
    "cycol = cycle('bgrcmk') #here I'm generating a list of colors I can plot"
   ]
  },
  {
   "cell_type": "code",
   "execution_count": 3,
   "metadata": {},
   "outputs": [
    {
     "name": "stdout",
     "output_type": "stream",
     "text": [
      "Found device that supports advanced mode: Intel RealSense D415\n",
      "Advanced mode is enabled\n"
     ]
    }
   ],
   "source": [
    "# Enabling Advanced Mode\n",
    "\n",
    "DS5_product_ids = [\"0AD1\", \"0AD2\", \"0AD3\", \"0AD4\", \"0AD5\", \"0AF6\", \"0AFE\", \"0AFF\", \"0B00\", \"0B01\", \"0B03\", \"0B07\"]\n",
    "\n",
    "def find_device_that_supports_advanced_mode() :\n",
    "    ctx = rs.context()\n",
    "    ds5_dev = rs.device()\n",
    "    devices = ctx.query_devices();\n",
    "    for dev in devices:\n",
    "        if dev.supports(rs.camera_info.product_id) and str(dev.get_info(rs.camera_info.product_id)) in DS5_product_ids:\n",
    "            if dev.supports(rs.camera_info.name):\n",
    "                print(\"Found device that supports advanced mode:\", dev.get_info(rs.camera_info.name))\n",
    "            return dev\n",
    "    raise Exception(\"No device that supports advanced mode was found\")\n",
    "\n",
    "try:\n",
    "    dev = find_device_that_supports_advanced_mode()\n",
    "    advnc_mode = rs.rs400_advanced_mode(dev)\n",
    "    print(\"Advanced mode is\", \"enabled\" if advnc_mode.is_enabled() else \"disabled\")\n",
    "\n",
    "    # Loop until we successfully enable advanced mode\n",
    "    while not advnc_mode.is_enabled():\n",
    "        print(\"Trying to enable advanced mode...\")\n",
    "        advnc_mode.toggle_advanced_mode(True)\n",
    "        # At this point the device will disconnect and re-connect.\n",
    "        print(\"Sleeping for 5 seconds...\")\n",
    "        time.sleep(5)\n",
    "        # The 'dev' object will become invalid and we need to initialize it again\n",
    "        dev = find_device_that_supports_advanced_mode()\n",
    "        advnc_mode = rs.rs400_advanced_mode(dev)\n",
    "        print(\"Advanced mode is\", \"enabled\" if advnc_mode.is_enabled() else \"disabled\")\n",
    "\n",
    "    \n",
    "except Exception as e:\n",
    "    print(e)\n",
    "pass"
   ]
  },
  {
   "cell_type": "code",
   "execution_count": 4,
   "metadata": {},
   "outputs": [
    {
     "name": "stdout",
     "output_type": "stream",
     "text": [
      "{\"param-disableraucolor\": \"0\", \"param-disablesadcolor\": \"0\", \"param-disablesadnormalize\": \"0\", \"param-disablesloleftcolor\": \"0\", \"param-disableslorightcolor\": \"0\", \"param-lambdaad\": \"800\", \"param-lambdacensus\": \"26\", \"param-leftrightthreshold\": \"50\", \"param-maxscorethreshb\": \"2610\", \"param-medianthreshold\": \"500\", \"param-minscorethresha\": \"1\", \"param-neighborthresh\": \"7\", \"param-robbinsmonrodecrement\": \"10\", \"param-robbinsmonroincrement\": \"10\", \"param-secondpeakdelta\": \"325\", \"param-texturecountthresh\": \"0\", \"param-texturedifferencethresh\": \"0\", \"param-raumine\": \"1\", \"param-rauminn\": \"1\", \"param-rauminnssum\": \"3\", \"param-raumins\": \"1\", \"param-rauminw\": \"1\", \"param-rauminwesum\": \"3\", \"param-regionshrinku\": \"3\", \"param-regionshrinkv\": \"1\", \"param-regioncolorthresholdr\": \"0.05\", \"param-regioncolorthresholdg\": \"0.05\", \"param-regioncolorthresholdb\": \"0.05\", \"param-rsmdiffthreshold\": \"4\", \"param-rsmrauslodiffthreshold\": \"1\", \"param-rsmremovethreshold\": \"0.375\", \"param-usersm\": \"1\", \"param-scanlineedgetaub\": \"72\", \"param-scanlineedgetaug\": \"72\", \"param-scanlineedgetaur\": \"72\", \"param-scanlinep1\": \"60\", \"param-scanlinep1onediscon\": \"105\", \"param-scanlinep1twodiscon\": \"70\", \"param-scanlinep2\": \"342\", \"param-scanlinep2onediscon\": \"190\", \"param-scanlinep2twodiscon\": \"130\", \"param-censususize\": \"9\", \"param-censusvsize\": \"9\", \"param-zunits\": \"250\", \"aux-param-depthclampmin\": \"0\", \"aux-param-depthclampmax\": \"65536\", \"param-disparitymode\": \"0\", \"aux-param-disparityshift\": \"14\", \"aux-param-autoexposure-setpoint\": \"400\", \"aux-param-colorcorrection1\": \"0.462\", \"aux-param-colorcorrection2\": \"0.540\", \"aux-param-colorcorrection3\": \"0.540\", \"aux-param-colorcorrection4\": \"0.208\", \"aux-param-colorcorrection5\": \"-0.332\", \"aux-param-colorcorrection6\": \"-0.213\", \"aux-param-colorcorrection7\": \"-0.213\", \"aux-param-colorcorrection8\": \"0.685\", \"aux-param-colorcorrection9\": \"0.931\", \"aux-param-colorcorrection10\": \"-0.554\", \"aux-param-colorcorrection11\": \"-0.554\", \"aux-param-colorcorrection12\": \"0.046\", \"controls-laserstate\": \"on\", \"controls-laserpower\": \"210\", \"controls-autoexposure-auto\": \"True\", \"controls-autoexposure-manual\": \"33000\", \"controls-depth-gain\": \"16\"}\n"
     ]
    }
   ],
   "source": [
    "# Loading presaved parameters \n",
    "# If I have another set of parameters I'd like to use already in the json format, I can skip the previous three blocks of code\n",
    "    \n",
    "with open(\"canonical-params.json\") as json_data: #Json file to be loaded #NOTE im using default NOT the json that I just created above\n",
    "    starting_params = json.load(json_data)\n",
    "    starting_params=str(starting_params).replace(\"'\", '\\\"') #IF YOU DON't DO THIS IT WILL NOT WORK with the librealsense sdk\n",
    "    print(starting_params)"
   ]
  },
  {
   "cell_type": "code",
   "execution_count": 5,
   "metadata": {},
   "outputs": [],
   "source": [
    "#Experimental Loop\n",
    "\n",
    "frame_width=640\n",
    "frame_height=480\n",
    "fps=90\n",
    "number_of_frames_to_record=10000\n",
    "file = open('pythondepthdata.bin', 'a+b') #open a file for apending binary data\n",
    "# Configure depth and color streams\n",
    "pipeline = rs.pipeline()\n",
    "config = rs.config()\n",
    "config.enable_stream(rs.stream.depth, frame_width, frame_height, rs.format.z16, fps)\n",
    "#config.enable_stream(rs.stream.color, frame_width, frame_height, rs.format.bgr8, fps)\n",
    "advnc_mode.load_json(starting_params) #this is where I start with the Defualt Json\n",
    "# Start streaming\n",
    "cfg = pipeline.start(config)\n",
    "dev = cfg.get_device()\n",
    "depth_sensor = dev.first_depth_sensor()\n",
    "#depth_sensor.set_option(rs.option.visual_preset, 2)\n",
    "\n",
    "\n",
    "iteration = 0;\n",
    "#preset = 0;\n",
    "#preset_name = '';\n",
    "tick=0; #keeping track of the number of loops the experiment has gone through \n",
    "background_chunk=500 #I want to use 500 frames for recording the background"
   ]
  },
  {
   "cell_type": "code",
   "execution_count": 6,
   "metadata": {},
   "outputs": [
    {
     "name": "stdout",
     "output_type": "stream",
     "text": [
      "Time Elapsed =  118.36107850074768\n",
      "Final Parameters =  {\"aux-param-autoexposure-setpoint\": \"400\", \"aux-param-colorcorrection1\": \"0.461914\", \"aux-param-colorcorrection10\": \"-0.553711\", \"aux-param-colorcorrection11\": \"-0.553711\", \"aux-param-colorcorrection12\": \"0.0458984\", \"aux-param-colorcorrection2\": \"0.540039\", \"aux-param-colorcorrection3\": \"0.540039\", \"aux-param-colorcorrection4\": \"0.208008\", \"aux-param-colorcorrection5\": \"-0.332031\", \"aux-param-colorcorrection6\": \"-0.212891\", \"aux-param-colorcorrection7\": \"-0.212891\", \"aux-param-colorcorrection8\": \"0.68457\", \"aux-param-colorcorrection9\": \"0.930664\", \"aux-param-depthclampmax\": \"65536\", \"aux-param-depthclampmin\": \"0\", \"aux-param-disparityshift\": \"14\", \"controls-autoexposure-auto\": \"True\", \"controls-autoexposure-manual\": \"33000\", \"controls-color-autoexposure-auto\": \"True\", \"controls-color-autoexposure-manual\": \"166\", \"controls-color-backlight-compensation\": \"0\", \"controls-color-brightness\": \"0\", \"controls-color-contrast\": \"50\", \"controls-color-gain\": \"64\", \"controls-color-gamma\": \"300\", \"controls-color-hue\": \"0\", \"controls-color-power-line-frequency\": \"3\", \"controls-color-saturation\": \"64\", \"controls-color-sharpness\": \"50\", \"controls-color-white-balance-auto\": \"True\", \"controls-color-white-balance-manual\": \"4600\", \"controls-depth-gain\": \"16\", \"controls-depth-white-balance-auto\": \"False\", \"controls-laserpower\": \"210\", \"controls-laserstate\": \"on\", \"ignoreSAD\": \"0\", \"param-autoexposure-setpoint\": \"400\", \"param-censusenablereg-udiameter\": \"9\", \"param-censusenablereg-vdiameter\": \"9\", \"param-censususize\": \"9\", \"param-censusvsize\": \"9\", \"param-depthclampmax\": \"65536\", \"param-depthclampmin\": \"0\", \"param-depthunits\": \"250\", \"param-disableraucolor\": \"0\", \"param-disablesadcolor\": \"0\", \"param-disablesadnormalize\": \"0\", \"param-disablesloleftcolor\": \"0\", \"param-disableslorightcolor\": \"0\", \"param-disparitymode\": \"0\", \"param-disparityshift\": \"14\", \"param-lambdaad\": \"800\", \"param-lambdacensus\": \"26\", \"param-leftrightthreshold\": \"50\", \"param-maxscorethreshb\": \"2610\", \"param-medianthreshold\": \"500\", \"param-minscorethresha\": \"1\", \"param-neighborthresh\": \"7\", \"param-raumine\": \"1\", \"param-rauminn\": \"1\", \"param-rauminnssum\": \"3\", \"param-raumins\": \"1\", \"param-rauminw\": \"1\", \"param-rauminwesum\": \"3\", \"param-regioncolorthresholdb\": \"0.0499022\", \"param-regioncolorthresholdg\": \"0.0499022\", \"param-regioncolorthresholdr\": \"0.0499022\", \"param-regionshrinku\": \"3\", \"param-regionshrinkv\": \"1\", \"param-robbinsmonrodecrement\": \"10\", \"param-robbinsmonroincrement\": \"10\", \"param-rsmdiffthreshold\": \"4\", \"param-rsmrauslodiffthreshold\": \"1\", \"param-rsmremovethreshold\": \"0.375\", \"param-scanlineedgetaub\": \"72\", \"param-scanlineedgetaug\": \"72\", \"param-scanlineedgetaur\": \"72\", \"param-scanlinep1\": \"60\", \"param-scanlinep1onediscon\": \"105\", \"param-scanlinep1twodiscon\": \"70\", \"param-scanlinep2\": \"342\", \"param-scanlinep2onediscon\": \"190\", \"param-scanlinep2twodiscon\": \"130\", \"param-secondpeakdelta\": \"325\", \"param-texturecountthresh\": \"0\", \"param-texturedifferencethresh\": \"0\", \"param-usersm\": \"1\", \"param-zunits\": \"250\"}\n"
     ]
    }
   ],
   "source": [
    "start_of_loop=time.time()\n",
    "with open('pythondepthdata.bin','ab') as binarydata: #While the file called \"pythonedpthdata.bin\" is open for appending binary, \n",
    "    try:\n",
    "        while tick<number_of_frames_to_record: #aiming for 2000 frames\n",
    "            tick=tick+1 \n",
    "            \n",
    "            # Wait for a coherent pair of frames: depth and color\n",
    "            frames = pipeline.wait_for_frames()\n",
    "            depth_frame = frames.get_depth_frame()\n",
    "            #color_frame = frames.get_color_frame()\n",
    "        \n",
    "            #iteration = iteration + 1\n",
    "            #if iteration > 100:\n",
    "               #preset = preset + 1\n",
    "               #iteration = 0\n",
    "               #range = depth_sensor.get_option_range(rs.option.visual_preset)\n",
    "               #preset = preset % range.max\n",
    "               #depth_sensor.set_option(rs.option.visual_preset, preset)\n",
    "               #preset_name = depth_sensor.get_option_value_description(rs.option.visual_preset, preset)\n",
    "        \n",
    "            # Convert images to numpy arrays\n",
    "            depth_image = np.asanyarray(depth_frame.get_data())\n",
    "            #color_image = np.asanyarray(color_frame.get_data())\n",
    "            depth_image.tofile(binarydata) #save data as binarydata (specified by the with open as line)\n",
    "            \n",
    "            #if tick==background_chunk:\n",
    "                #output=input(\"please insert calibration object  \")\n",
    "        \n",
    "            # Apply colormap on depth image (image must be converted to 8-bit per pixel first)\n",
    "            #depth_colormap = cv2.applyColorMap(cv2.convertScaleAbs(depth_image, None, 0.5, 0), cv2.COLORMAP_JET)\n",
    "\n",
    "            # Stack both images horizontally\n",
    "            #images = np.hstack((color_image, depth_colormap))\n",
    "        \n",
    "            #font = cv2.FONT_HERSHEY_SIMPLEX\n",
    "            #cv2.putText(images, preset_name,(60,80), font, 4,(255,255,255),2,cv2.LINE_AA) \n",
    "\n",
    "            # Show images\n",
    "            #cv2.namedWindow('RealSense', cv2.WINDOW_AUTOSIZE)\n",
    "            #cv2.imshow('RealSense', images)\n",
    "            #cv2.waitKey(1)\n",
    "            with open('depth_ts.txt', 'a') as ts:\n",
    "                ts.write('%s\\n' %rs.frame.get_timestamp(frames)) #write time stamp float as a string to a new line\n",
    "\n",
    "    finally:\n",
    "\n",
    "        # Stop streaming\n",
    "        pipeline.stop()\n",
    "        end_of_loop=time.time() #end timer\n",
    "        print(\"Time Elapsed = \", end_of_loop - start_of_loop)\n",
    "        serialized_string = advnc_mode.serialize_json() #getting the current parameters as a serialized string\n",
    "        as_json_object = json.loads(serialized_string) #loading the json object from the serialized string\n",
    "        json_used_in_experiment = str(as_json_object).replace(\"'\", '\\\"') #converting object into string that can be printed\n",
    "        print(\"Final Parameters = \", json_used_in_experiment)"
   ]
  },
  {
   "cell_type": "code",
   "execution_count": 7,
   "metadata": {},
   "outputs": [],
   "source": [
    "#delete all variables\n",
    "for name in dir():\n",
    "    if not name.startswith('_'):\n",
    "        del globals()[name]"
   ]
  },
  {
   "cell_type": "code",
   "execution_count": 8,
   "metadata": {},
   "outputs": [],
   "source": [
    "frame_width=640\n",
    "frame_height=480\n",
    "fps=90\n",
    "number_of_frames_to_record=2000\n",
    "background_chunk=500"
   ]
  },
  {
   "cell_type": "code",
   "execution_count": 9,
   "metadata": {},
   "outputs": [],
   "source": [
    "#redo the imports\n",
    "import matplotlib.pyplot as plt\n",
    "import numpy as np\n",
    "import random\n",
    "import matplotlib.colors as mcol\n",
    "import matplotlib.cm as cm\n",
    "import math\n",
    "import time\n",
    "import pandas as pd\n",
    "import json\n",
    "import pyrealsense2 as rs\n",
    "import cv2\n",
    "from scipy import stats\n",
    "from itertools import cycle\n",
    "cycol = cycle('bgrcmk') #here I'm generating a list of colors I can plot"
   ]
  },
  {
   "cell_type": "code",
   "execution_count": 10,
   "metadata": {},
   "outputs": [],
   "source": [
    "rawframes = np.fromfile('pythondepthdata.bin', dtype=np.uint16) #A highly efficient way of reading binary data with a known data-type, as well as parsing simply formatted text files. Data written using the tofile method can be read using this function.\n",
    "frames = rawframes.reshape(-1, frame_height, frame_width) #.reshape simply restructures data into dimensions of your choosing. -1 means find the number of segments that structures the data into the dimnesions shown afterwards"
   ]
  },
  {
   "cell_type": "code",
   "execution_count": 20,
   "metadata": {},
   "outputs": [],
   "source": [
    "del rawframes"
   ]
  },
  {
   "cell_type": "code",
   "execution_count": 11,
   "metadata": {},
   "outputs": [
    {
     "name": "stdout",
     "output_type": "stream",
     "text": [
      "The shape of the video is 480 by 640 and it has 10000 frames\n"
     ]
    }
   ],
   "source": [
    "number_of_frames,video_height,video_width=frames.shape[0],frames.shape[1],frames.shape[2];\n",
    "#set number of frames equal to the first element in reshaped.shape\n",
    "#set video height to the second element in reshaped.shape\n",
    "#set video width to the third element in reshaped.shape\n",
    "print('The shape of the video is {0} by {1} and it has {2} frames'.format(video_height,video_width,number_of_frames))\n",
    "#note that the nubmers below are one greater than the actual indices that exist\n",
    "#there is no reshaped[number_of_frames,height,width], the last frame is reshaped[number_of_frames-1,height-1,width-1]"
   ]
  },
  {
   "cell_type": "code",
   "execution_count": 12,
   "metadata": {},
   "outputs": [
    {
     "data": {
      "image/png": "[encoded data removed]",
      "text/plain": [
       "<Figure size 720x720 with 1 Axes>"
      ]
     },
     "metadata": {},
     "output_type": "display_data"
    }
   ],
   "source": [
    "#Now let's try to put this all together but in another random frame\n",
    "#pick a frame\n",
    "picked_frame=1500\n",
    "frame_of_interest=frames[picked_frame] \n",
    "#know your background (I happen to know background is between frame 5250 and 5350)\n",
    "backgroundmean=np.mean(frames[0:background_chunk], axis=0) #may be better to use median\n",
    "backgroundvariance=np.var(frames[0:background_chunk], axis=0)\n",
    "#if the difference between the background and the frame is greater than expected, it's probably our object! \n",
    "#note that I arbitrarily pick 5 stdeviations away, it's worth knowing if the noise is actually gaussian\n",
    "backgroundmultiplier=np.abs(frame_of_interest - backgroundmean) - (9*np.sqrt(backgroundvariance)) #if its 5 standard its NOISE\n",
    "#we expect positive values for high differences. make them stay by multiplying by 1\n",
    "backgroundmultiplier[backgroundmultiplier>0]=1\n",
    "#we expect negative values or no change for small differences. probably just noise, get rid of them by multiplying by 0\n",
    "backgroundmultiplier[backgroundmultiplier<=0]=0\n",
    "#apply our expectations to the matrix\n",
    "frame_of_interest_backgroundsubtracted=np.multiply(frame_of_interest,backgroundmultiplier)\n",
    "\n",
    "#I can plot the background subtracted image\n",
    "fig=plt.figure(figsize=(10,10))\n",
    "plt.imshow(frame_of_interest_backgroundsubtracted)\n",
    "object_median=np.median(frame_of_interest_backgroundsubtracted[frame_of_interest_backgroundsubtracted>0])\n",
    "plt.clim(object_median-100,object_median+100)\n",
    "#fig.savefig('calibration_object.png')"
   ]
  },
  {
   "cell_type": "code",
   "execution_count": 13,
   "metadata": {},
   "outputs": [
    {
     "data": {
      "image/png": "[encoded data removed]",
      "text/plain": [
       "<Figure size 432x288 with 2 Axes>"
      ]
     },
     "metadata": {},
     "output_type": "display_data"
    }
   ],
   "source": [
    "plt.colorbar(plt.imshow(frame_of_interest_backgroundsubtracted,cmap='gist_rainbow'))\n",
    "plt.clim(object_median-100,object_median+100)"
   ]
  },
  {
   "cell_type": "code",
   "execution_count": 14,
   "metadata": {},
   "outputs": [
    {
     "data": {
      "image/png": "[encoded data removed]",
      "text/plain": [
       "<Figure size 720x720 with 1 Axes>"
      ]
     },
     "metadata": {},
     "output_type": "display_data"
    }
   ],
   "source": [
    "#Now let's try to put this all together but in another random frame\n",
    "#pick a frame\n",
    "picked_frame=950\n",
    "frame_of_interest=frames[picked_frame]\n",
    "#know your background (I happen to know background is between frame 5250 and 5350)\n",
    "backgroundmean=np.mean(frames[0:background_chunk], axis=0)\n",
    "backgroundvariance=np.var(frames[0:background_chunk], axis=0)\n",
    "#if the difference between the background and the frame is greater than expected, it's probably our object! \n",
    "#note that I arbitrarily pick 5 stdeviations away, it's worth knowing if the noise is actually gaussian\n",
    "backgroundmultiplier=np.abs(frame_of_interest - backgroundmean) - (10*np.sqrt(backgroundvariance)) #if its 5 standard its NOISE\n",
    "#we expect positive values for high differences. make them stay by multiplying by 1\n",
    "backgroundmultiplier[backgroundmultiplier>0]=1\n",
    "#we expect negative values or no change for small differences. probably just noise, get rid of them by multiplying by 0\n",
    "backgroundmultiplier[backgroundmultiplier<=0]=0\n",
    "#apply our expectations to the matrix\n",
    "\n",
    "frame_of_interest_backgroundsubtracted=np.multiply(np.subtract(frame_of_interest,backgroundmean),-1) #subtract the background mean and then multiply result by negative 1 since the camera counts distance away \n",
    "frame_of_interest_backgroundsubtracted=np.multiply(frame_of_interest_backgroundsubtracted,backgroundmultiplier) #pixels that arent significantly different are considered background \n",
    "frame_of_interest_backgroundsubtracted[frame_of_interest_backgroundsubtracted<0]=0 #everything less than 0 IS zero\n",
    "frame_of_interest_backgroundsubtracted=np.multiply(frame_of_interest_backgroundsubtracted,10) #go from cm to mm\n",
    "frame_of_interest_backgroundsubtracted=np.rint(frame_of_interest_backgroundsubtracted) #make everything an integer\n",
    "\n",
    "\n",
    "#Plotting background-subtracted image\n",
    "plt.figure(figsize=(10,10)) #can set this equal to fig\n",
    "plt.imshow(frame_of_interest_backgroundsubtracted)\n",
    "object_median=np.median(frame_of_interest_backgroundsubtracted[frame_of_interest_backgroundsubtracted>0])\n",
    "plt.clim(object_median-100,object_median+100)\n",
    "#fig.savefig('title_of_fig.png')"
   ]
  },
  {
   "cell_type": "code",
   "execution_count": 21,
   "metadata": {},
   "outputs": [
    {
     "data": {
      "image/png": "[encoded data removed]",
      "text/plain": [
       "<Figure size 576x576 with 2 Axes>"
      ]
     },
     "metadata": {},
     "output_type": "display_data"
    }
   ],
   "source": [
    "plt.figure(figsize=(8,8)) #can set this equal to fig\n",
    "plt.colorbar(plt.imshow(frame_of_interest_backgroundsubtracted,cmap='jet'))\n",
    "plt.clim(0,object_median+100)\n",
    "#fig.savefig('tile of figure')"
   ]
  },
  {
   "cell_type": "code",
   "execution_count": 16,
   "metadata": {},
   "outputs": [],
   "source": [
    "#The two objects I used in this examples were two stack of manilla folders. One stacks was 40 folders, the other was 20 folders. I measured the heights to be 2.69875 and 1.42875 cm respectively"
   ]
  },
  {
   "cell_type": "code",
   "execution_count": 17,
   "metadata": {
    "scrolled": false
   },
   "outputs": [],
   "source": [
    "#getting a list of pixel value and frequencies\n",
    "#np.set_printoptions(threshold=np.nan) # see the entire np array\n",
    "#unique,counts=np.unique(frame_of_interest_backgroundsubtracted,return_counts=True)\n",
    "#print(np.asarray((unique,counts)).T)"
   ]
  },
  {
   "cell_type": "code",
   "execution_count": 18,
   "metadata": {},
   "outputs": [
    {
     "name": "stdout",
     "output_type": "stream",
     "text": [
      "1594.70928196\n"
     ]
    }
   ],
   "source": [
    "#objectmean=np.mean(frame_of_interest_backgroundsubtracted[frame_of_interest_backgroundsubtracted != 0])\n",
    "#objectvariance=np.var(frame_of_interest_backgroundsubtracted[frame_of_interest_backgroundsubtracted != 0])\n",
    "#objectsigma=np.sqrt(objectvariance)\n",
    "#print(objectmean)"
   ]
  },
  {
   "cell_type": "code",
   "execution_count": 19,
   "metadata": {
    "scrolled": true
   },
   "outputs": [
    {
     "data": {
      "image/png": "[encoded data removed]",
      "text/plain": [
       "<Figure size 432x288 with 1 Axes>"
      ]
     },
     "metadata": {},
     "output_type": "display_data"
    }
   ],
   "source": [
    "plt.hist(frame_of_interest_backgroundsubtracted[frame_of_interest_backgroundsubtracted != 0],bins=range(1,1000))\n",
    "plt.show()"
   ]
  }
 ],
 "metadata": {
  "kernelspec": {
   "display_name": "Python 3",
   "language": "python",
   "name": "python3"
  },
  "language_info": {
   "codemirror_mode": {
    "name": "ipython",
    "version": 3
   },
   "file_extension": ".py",
   "mimetype": "text/x-python",
   "name": "python",
   "nbconvert_exporter": "python",
   "pygments_lexer": "ipython3",
   "version": "3.6.4"
  }
 },
 "nbformat": 4,
 "nbformat_minor": 2
}
