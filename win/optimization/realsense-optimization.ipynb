{
 "metadata": {
  "kernelspec": {
   "display_name": "Python 3",
   "language": "python",
   "name": "python3"
  },
  "language_info": {
   "codemirror_mode": {
    "name": "ipython",
    "version": 3
   },
   "file_extension": ".py",
   "mimetype": "text/x-python",
   "name": "python",
   "nbconvert_exporter": "python",
   "pygments_lexer": "ipython3",
   "version": "3.6.4"
  },
  "name": "",
  "signature": "sha256:3a5e5ec6bf4cada621c76761b43f57971f28fa2fcf5e62dd31b7a9827efddd33",
  "toc": {
   "colors": {
    "hover_highlight": "#DAA520",
    "running_highlight": "#FF0000",
    "selected_highlight": "#FFD700"
   },
   "moveMenuLeft": true,
   "nav_menu": {
    "height": "30px",
    "width": "252px"
   },
   "navigate_menu": true,
   "number_sections": true,
   "sideBar": true,
   "threshold": 4,
   "toc_cell": false,
   "toc_section_display": "block",
   "toc_window_display": false,
   "widenNotebook": false
  }
 },
 "nbformat": 3,
 "nbformat_minor": 0,
 "worksheets": [
  {
   "cells": [
    {
     "cell_type": "markdown",
     "metadata": {},
     "source": [
      "# Optimizing realsense parameters for data acquisition\n",
      "\n",
      "The Intel Realsense D415 comes supplied with many parameters that affect the quality of the depth acquisition. This can be a huge pain to tune by hand.\n",
      "\n",
      "The goal of this notebook is to use python bindings to the realsense library and optimize parameters to improve the quality of our mouse recordings."
     ]
    },
    {
     "cell_type": "code",
     "collapsed": false,
     "input": [
      "# first make sure the realsense python bindings are importable by python\n",
      "# download libreasense sdk using the following instructions (For Linux):\n",
      "\n",
      "# 1. open terminal\n",
      "# 2. $ git clone https://github.com/IntelRealSense/librealsense\n",
      "# 3. $ cd librealsense\n",
      "# 4. $ mkdir build\n",
      "# 5. $ cd build\n",
      "\n",
      "# in order to get import pyrealsense2 to work you need to cmake with bindings that specify the full path of the python executable\n",
      "# in order to find the full path, open python3 in the terminal:\n",
      "\n",
      "# 6. $ python3  #this opens the python environment\n",
      "# 7. >>>import sys\n",
      "# 8. >>>print(sys.executable)\n",
      "#       /usr/bin/python\n",
      "# 9. >>>quit()\n",
      "\n",
      "# if you are working in ipython notebook, you can do the above commands right in the notebook"
     ],
     "language": "python",
     "metadata": {},
     "outputs": [],
     "prompt_number": 1
    },
    {
     "cell_type": "code",
     "collapsed": false,
     "input": [
      "import sys\n",
      "print(sys.executable)"
     ],
     "language": "python",
     "metadata": {},
     "outputs": [
      {
       "output_type": "stream",
       "stream": "stdout",
       "text": [
        "/usr/bin/python\n"
       ]
      }
     ],
     "prompt_number": 2
    },
    {
     "cell_type": "code",
     "collapsed": false,
     "input": [
      "# now, when you use cmake (remember you're still in the build directory), copy the full path after -DBUILD_PYTHON_EXECUTABLE=[full path] as follows:\n",
      "\n",
      "# 10. $ cmake ../ -DBUILD_PYTHON_BINDINGS=TRUE -DBUILD_PYTHON_EXECUTABLE=/usr/bin/python\n",
      "# 11. $ make -j4\n",
      "# 12. $ sudo make install #Optional if you want the library to be installed in your system"
     ],
     "language": "python",
     "metadata": {},
     "outputs": [],
     "prompt_number": 3
    },
    {
     "cell_type": "code",
     "collapsed": false,
     "input": [
      "sys.path.append('/usr/local/lib')"
     ],
     "language": "python",
     "metadata": {},
     "outputs": [],
     "prompt_number": 4
    },
    {
     "cell_type": "code",
     "collapsed": false,
     "input": [
      "import pyrealsense2 as rs"
     ],
     "language": "python",
     "metadata": {},
     "outputs": [],
     "prompt_number": 5
    },
    {
     "cell_type": "code",
     "collapsed": false,
     "input": [
      "import numpy as np\n",
      "import cv2"
     ],
     "language": "python",
     "metadata": {},
     "outputs": [],
     "prompt_number": 6
    },
    {
     "cell_type": "code",
     "collapsed": false,
     "input": [
      "file = open('pythondepthdata.bin', 'a+b') #open a file for apending binary data\n",
      "# with open(\"pythondepthdata.bin\", \"wb\") as f:\n",
      "# Configure depth and color streams\n",
      "pipeline = rs.pipeline()\n",
      "config = rs.config()\n",
      "config.enable_stream(rs.stream.depth, 640, 480, rs.format.z16, 30)\n",
      "config.enable_stream(rs.stream.color, 640, 480, rs.format.bgr8, 30)\n",
      "\n",
      "# Start streaming\n",
      "cfg = pipeline.start(config)\n",
      "dev = cfg.get_device()\n",
      "depth_sensor = dev.first_depth_sensor()\n",
      "depth_sensor.set_option(rs.option.visual_preset, 4)\n",
      "\n",
      "iteration = 0;\n",
      "preset = 0;\n",
      "preset_name = '';\n",
      "tick=0;\n",
      "\n",
      "with open('pythondepthdata.bin','ab') as type:\n",
      "    try:\n",
      "        while tick<2000: #aiming for 2000 frames\n",
      "            tick=tick+1 \n",
      "            # Wait for a coherent pair of frames: depth and color\n",
      "            frames = pipeline.wait_for_frames()\n",
      "            depth_frame = frames.get_depth_frame()\n",
      "            color_frame = frames.get_color_frame()\n",
      "        \n",
      "            iteration = iteration + 1\n",
      "            if iteration > 100:\n",
      "                preset = preset + 1\n",
      "                iteration = 0\n",
      "                range = depth_sensor.get_option_range(rs.option.visual_preset)\n",
      "                preset = preset % range.max\n",
      "                depth_sensor.set_option(rs.option.visual_preset, preset)\n",
      "                preset_name = depth_sensor.get_option_value_description(rs.option.visual_preset, preset)\n",
      "        \n",
      "            # Convert images to numpy arrays\n",
      "            depth_image = np.asanyarray(depth_frame.get_data())\n",
      "            color_image = np.asanyarray(color_frame.get_data())\n",
      "            #np.array.astype('int16').tofile('pythondepthdata.bin')\n",
      "            #file = write('pythondepthdata.bin', 'ab')\n",
      "            #depth_image.tofile('pythondepthdata.bin',sep=\"\",format=\"%s\")\n",
      "            depth_image.tofile(type)\n",
      "            #np.save(\"pythondepthdata.bin\",depth_image)\n",
      "        \n",
      "\n",
      "            # Apply colormap on depth image (image must be converted to 8-bit per pixel first)\n",
      "            depth_colormap = cv2.applyColorMap(cv2.convertScaleAbs(depth_image, None, 0.5, 0), cv2.COLORMAP_JET)\n",
      "\n",
      "            # Stack both images horizontally\n",
      "            images = np.hstack((color_image, depth_colormap))\n",
      "        \n",
      "            font = cv2.FONT_HERSHEY_SIMPLEX\n",
      "            cv2.putText(images, preset_name,(60,80), font, 4,(255,255,255),2,cv2.LINE_AA) \n",
      "\n",
      "            # Show images\n",
      "            cv2.namedWindow('RealSense', cv2.WINDOW_AUTOSIZE)\n",
      "            cv2.imshow('RealSense', images)\n",
      "            cv2.waitKey(1)\n",
      "\n",
      "    finally:\n",
      "\n",
      "        # Stop streaming\n",
      "        pipeline.stop()\n",
      "        print(tick)"
     ],
     "language": "python",
     "metadata": {},
     "outputs": [
      {
       "output_type": "stream",
       "stream": "stdout",
       "text": [
        "2000\n"
       ]
      }
     ],
     "prompt_number": 15
    },
    {
     "cell_type": "code",
     "collapsed": false,
     "input": [
      "!wc -c pythondepthdata.bin"
     ],
     "language": "python",
     "metadata": {},
     "outputs": [
      {
       "output_type": "stream",
       "stream": "stdout",
       "text": [
        "1641676800 pythondepthdata.bin\r\n"
       ]
      }
     ],
     "prompt_number": 16
    },
    {
     "cell_type": "code",
     "collapsed": false,
     "input": [
      "1641676800/640/480/2"
     ],
     "language": "python",
     "metadata": {},
     "outputs": [
      {
       "metadata": {},
       "output_type": "pyout",
       "prompt_number": 18,
       "text": [
        "2672"
       ]
      }
     ],
     "prompt_number": 18
    },
    {
     "cell_type": "code",
     "collapsed": false,
     "input": [
      "#um somehow I got more frames than expected..."
     ],
     "language": "python",
     "metadata": {},
     "outputs": []
    }
   ],
   "metadata": {}
  }
 ]
}