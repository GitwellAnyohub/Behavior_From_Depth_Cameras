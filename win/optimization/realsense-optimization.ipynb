{
 "metadata": {
  "kernelspec": {
   "display_name": "Python 3",
   "language": "python",
   "name": "python3"
  },
  "language_info": {
   "codemirror_mode": {
    "name": "ipython",
    "version": 3
   },
   "file_extension": ".py",
   "mimetype": "text/x-python",
   "name": "python",
   "nbconvert_exporter": "python",
   "pygments_lexer": "ipython3",
   "version": "3.6.4"
  },
  "name": "",
  "signature": "sha256:95a6a824528b88154a3592cd12f4f162a876f4a9f96121f1390dc4d750692560",
  "toc": {
   "colors": {
    "hover_highlight": "#DAA520",
    "running_highlight": "#FF0000",
    "selected_highlight": "#FFD700"
   },
   "moveMenuLeft": true,
   "nav_menu": {
    "height": "30px",
    "width": "252px"
   },
   "navigate_menu": true,
   "number_sections": true,
   "sideBar": true,
   "threshold": 4,
   "toc_cell": false,
   "toc_section_display": "block",
   "toc_window_display": false,
   "widenNotebook": false
  }
 },
 "nbformat": 3,
 "nbformat_minor": 0,
 "worksheets": [
  {
   "cells": [
    {
     "cell_type": "markdown",
     "metadata": {},
     "source": [
      "# Optimizing realsense parameters for data acquisition\n",
      "\n",
      "The Intel Realsense D415 comes supplied with many parameters that affect the quality of the depth acquisition. This can be a huge pain to tune by hand.\n",
      "\n",
      "The goal of this notebook is to use python bindings to the realsense library and optimize parameters to improve the quality of our mouse recordings."
     ]
    },
    {
     "cell_type": "code",
     "collapsed": false,
     "input": [
      "# first make sure the realsense python bindings are importable by python\n",
      "# download libreasense sdk using the following instructions (For Linux):\n",
      "\n",
      "# 1. open terminal\n",
      "# 2. $ git clone https://github.com/IntelRealSense/librealsense\n",
      "# 3. $ cd librealsense\n",
      "# 4. $ mkdir build\n",
      "# 5. $ cd build\n",
      "\n",
      "# in order to get import pyrealsense2 to work you need to cmake with bindings that specify the full path of the python executable\n",
      "# in order to find the full path, open python3 in the terminal:\n",
      "\n",
      "# 6. $ python3  #this opens the python environment\n",
      "# 7. >>>import sys\n",
      "# 8. >>>print(sys.executable)\n",
      "#       /usr/bin/python\n",
      "# 9. >>>quit()\n",
      "\n",
      "# if you are working in ipython notebook, you can do the above commands right in the notebook"
     ],
     "language": "python",
     "metadata": {},
     "outputs": [],
     "prompt_number": 1
    },
    {
     "cell_type": "code",
     "collapsed": false,
     "input": [
      "import sys\n",
      "print(sys.executable)"
     ],
     "language": "python",
     "metadata": {},
     "outputs": [
      {
       "output_type": "stream",
       "stream": "stdout",
       "text": [
        "/usr/bin/python\n"
       ]
      }
     ],
     "prompt_number": 2
    },
    {
     "cell_type": "code",
     "collapsed": false,
     "input": [
      "# now, when you use cmake (remember you're still in the build directory), copy the full path after -DBUILD_PYTHON_EXECUTABLE=[full path] as follows:\n",
      "\n",
      "# 10. $ cmake ../ -DBUILD_PYTHON_BINDINGS=TRUE -DBUILD_PYTHON_EXECUTABLE=/usr/bin/python\n",
      "# 11. $ make -j4\n",
      "# 12. $ sudo make install #Optional if you want the library to be installed in your system"
     ],
     "language": "python",
     "metadata": {},
     "outputs": [],
     "prompt_number": 3
    },
    {
     "cell_type": "code",
     "collapsed": false,
     "input": [
      "sys.path.append('/usr/local/lib')"
     ],
     "language": "python",
     "metadata": {},
     "outputs": [],
     "prompt_number": 4
    },
    {
     "cell_type": "code",
     "collapsed": false,
     "input": [
      "import pyrealsense2 as rs"
     ],
     "language": "python",
     "metadata": {},
     "outputs": [],
     "prompt_number": 5
    },
    {
     "cell_type": "code",
     "collapsed": false,
     "input": [
      "import numpy as np\n",
      "import cv2\n",
      "import json\n",
      "import time"
     ],
     "language": "python",
     "metadata": {},
     "outputs": [],
     "prompt_number": 11
    },
    {
     "cell_type": "code",
     "collapsed": false,
     "input": [
      "DS5_product_ids = [\"0AD1\", \"0AD2\", \"0AD3\", \"0AD4\", \"0AD5\", \"0AF6\", \"0AFE\", \"0AFF\", \"0B00\", \"0B01\", \"0B03\", \"0B07\"]\n",
      "\n",
      "def find_device_that_supports_advanced_mode() :\n",
      "    ctx = rs.context()\n",
      "    ds5_dev = rs.device()\n",
      "    devices = ctx.query_devices();\n",
      "    for dev in devices:\n",
      "        if dev.supports(rs.camera_info.product_id) and str(dev.get_info(rs.camera_info.product_id)) in DS5_product_ids:\n",
      "            if dev.supports(rs.camera_info.name):\n",
      "                print(\"Found device that supports advanced mode:\", dev.get_info(rs.camera_info.name))\n",
      "            return dev\n",
      "    raise Exception(\"No device that supports advanced mode was found\")\n",
      "\n",
      "try:\n",
      "    dev = find_device_that_supports_advanced_mode()\n",
      "    advnc_mode = rs.rs400_advanced_mode(dev)\n",
      "    print(\"Advanced mode is\", \"enabled\" if advnc_mode.is_enabled() else \"disabled\")\n",
      "\n",
      "    # Loop until we successfully enable advanced mode\n",
      "    while not advnc_mode.is_enabled():\n",
      "        print(\"Trying to enable advanced mode...\")\n",
      "        advnc_mode.toggle_advanced_mode(True)\n",
      "        # At this point the device will disconnect and re-connect.\n",
      "        print(\"Sleeping for 5 seconds...\")\n",
      "        time.sleep(5)\n",
      "        # The 'dev' object will become invalid and we need to initialize it again\n",
      "        dev = find_device_that_supports_advanced_mode()\n",
      "        advnc_mode = rs.rs400_advanced_mode(dev)\n",
      "        print(\"Advanced mode is\", \"enabled\" if advnc_mode.is_enabled() else \"disabled\")\n",
      "\n",
      "    # Get each control's current value\n",
      "    print(\"Depth Control: \\n\", advnc_mode.get_depth_control())\n",
      "    print(\"RSM: \\n\", advnc_mode.get_rsm())\n",
      "    print(\"RAU Support Vector Control: \\n\", advnc_mode.get_rau_support_vector_control())\n",
      "    print(\"Color Control: \\n\", advnc_mode.get_color_control())\n",
      "    print(\"RAU Thresholds Control: \\n\", advnc_mode.get_rau_thresholds_control())\n",
      "    print(\"SLO Color Thresholds Control: \\n\", advnc_mode.get_slo_color_thresholds_control())\n",
      "    print(\"SLO Penalty Control: \\n\", advnc_mode.get_slo_penalty_control())\n",
      "    print(\"HDAD: \\n\", advnc_mode.get_hdad())\n",
      "    print(\"Color Correction: \\n\", advnc_mode.get_color_correction())\n",
      "    print(\"Depth Table: \\n\", advnc_mode.get_depth_table())\n",
      "    print(\"Auto Exposure Control: \\n\", advnc_mode.get_ae_control())\n",
      "    print(\"Census: \\n\", advnc_mode.get_census())\n",
      "\n",
      "    #To get the minimum and maximum value of each control use the mode value:\n",
      "    query_min_values_mode = 1\n",
      "    query_max_values_mode = 2\n",
      "    current_std_depth_control_group = advnc_mode.get_depth_control()\n",
      "    min_std_depth_control_group = advnc_mode.get_depth_control(query_min_values_mode)\n",
      "    max_std_depth_control_group = advnc_mode.get_depth_control(query_max_values_mode)\n",
      "    print(\"Depth Control Min Values: \\n \", min_std_depth_control_group)\n",
      "    print(\"Depth Control Max Values: \\n \", max_std_depth_control_group)\n",
      "\n",
      "    # Set some control with a new (median) value\n",
      "    current_std_depth_control_group.scoreThreshA = int((max_std_depth_control_group.scoreThreshA - min_std_depth_control_group.scoreThreshA) / 2)\n",
      "    advnc_mode.set_depth_control(current_std_depth_control_group)\n",
      "    print(\"After Setting new value, Depth Control: \\n\", advnc_mode.get_depth_control())\n",
      "\n",
      "    # Serialize all controls to a Json string\n",
      "    serialized_string = advnc_mode.serialize_json()\n",
      "    print(\"Controls as JSON: \\n\", serialized_string)\n",
      "    as_json_object = json.loads(serialized_string)\n",
      "\n",
      "    # We can also load controls from a json string\n",
      "    # The C++ JSON parser requires double-quotes for the json object so we need\n",
      "    #  to replace the single quote of the pythonic json to double-quotes\n",
      "    json_string = str(as_json_object).replace(\"'\", '\\\"')\n",
      "    advnc_mode.load_json(json_string)\n",
      "\n",
      "except Exception as e:\n",
      "    print(e)\n",
      "pass"
     ],
     "language": "python",
     "metadata": {},
     "outputs": [
      {
       "output_type": "stream",
       "stream": "stdout",
       "text": [
        "('Found device that supports advanced mode:', u'Intel RealSense D415')\n",
        "('Advanced mode is', 'enabled')\n",
        "('Depth Control: \\n', minusDecrement: 10, deepSeaMedianThreshold: 500, scoreThreshA: 1, scoreThreshB: 2047, textureDifferenceThreshold: 0, textureCountThreshold: 0, deepSeaSecondPeakThreshold: 325, deepSeaNeighborThreshold: 7, lrAgreeThreshold: 24)"
       ]
      },
      {
       "output_type": "stream",
       "stream": "stdout",
       "text": [
        "\n",
        "('RSM: \\n', rsmBypass: 0, diffThresh: 4, sloRauDiffThresh: 1, removeThresh: 63)\n",
        "('RAU Support Vector Control: \\n', minWest: 1, minEast: 1, minWEsum: 3, minNorth: 1, minSouth: 1, minNSsum: 3, uShrink: 3, vShrink: 1)\n",
        "('Color Control: \\n', disableSADColor: 0, disableRAUColor: 0, disableSLORightColor: 0, disableSLOLeftColor: 0, disableSADNormalize: 0)\n",
        "('RAU Thresholds Control: \\n', rauDiffThresholdRed: 51, rauDiffThresholdGreen: 51, rauDiffThresholdBlue: 51)\n",
        "('SLO Color Thresholds Control: \\n', diffThresholdRed: 72, diffThresholdGreen: 72, diffThresholdBlue: 72)\n",
        "('SLO Penalty Control: \\n', sloK1Penalty: 60, sloK2Penalty: 342, sloK1PenaltyMod1: 105, sloK2PenaltyMod1: 190, sloK1PenaltyMod2: 70, sloK2PenaltyMod2: 130)\n",
        "('HDAD: \\n', lambdaCensus: 26, lambdaAD: 800, ignoreSAD: 0)\n",
        "('Color Correction: \\n', colorCorrection1: 0.461914, colorCorrection2: 0.540039, colorCorrection3: 0.540039, colorCorrection4: 0.208008, colorCorrection5: -0.332031, colorCorrection6: -0.212891, colorCorrection7: -0.212891, colorCorrection8: 0.68457, colorCorrection9: 0.930664, colorCorrection10: -0.553711, colorCorrection11: -0.553711, colorCorrection12: 0.0458984)"
       ]
      },
      {
       "output_type": "stream",
       "stream": "stdout",
       "text": [
        "\n",
        "('Depth Table: \\n', depthUnits: 1000, depthClampMin: 0, depthClampMax: 65536, disparityMode: 0, disparityShift: 0)\n",
        "('Auto Exposure Control: \\n', Mean Intensity Set Point: 400)\n",
        "('Census: \\n', uDiameter: 9, vDiameter: 9)\n",
        "('Depth Control Min Values: \\n ', minusDecrement: 0, deepSeaMedianThreshold: 0, scoreThreshA: 0, scoreThreshB: 0, textureDifferenceThreshold: 0, textureCountThreshold: 0, deepSeaSecondPeakThreshold: 0, deepSeaNeighborThreshold: 0, lrAgreeThreshold: 0)\n",
        "('Depth Control Max Values: \\n ', minusDecrement: 255, deepSeaMedianThreshold: 1023, scoreThreshA: 1023, scoreThreshB: 4095, textureDifferenceThreshold: 4095, textureCountThreshold: 1023, deepSeaSecondPeakThreshold: 1023, deepSeaNeighborThreshold: 1023, lrAgreeThreshold: 2047)\n",
        "('After Setting new value, Depth Control: \\n', minusDecrement: 10, deepSeaMedianThreshold: 500, scoreThreshA: 511, scoreThreshB: 2047, textureDifferenceThreshold: 0, textureCountThreshold: 0, deepSeaSecondPeakThreshold: 325, deepSeaNeighborThreshold: 7, lrAgreeThreshold: 24)"
       ]
      },
      {
       "output_type": "stream",
       "stream": "stdout",
       "text": [
        "\n",
        "('Controls as JSON: \\n', u'{\\n    \"aux-param-autoexposure-setpoint\": \"400\",\\n    \"aux-param-colorcorrection1\": \"0.461914\",\\n    \"aux-param-colorcorrection10\": \"-0.553711\",\\n    \"aux-param-colorcorrection11\": \"-0.553711\",\\n    \"aux-param-colorcorrection12\": \"0.0458984\",\\n    \"aux-param-colorcorrection2\": \"0.540039\",\\n    \"aux-param-colorcorrection3\": \"0.540039\",\\n    \"aux-param-colorcorrection4\": \"0.208008\",\\n    \"aux-param-colorcorrection5\": \"-0.332031\",\\n    \"aux-param-colorcorrection6\": \"-0.212891\",\\n    \"aux-param-colorcorrection7\": \"-0.212891\",\\n    \"aux-param-colorcorrection8\": \"0.68457\",\\n    \"aux-param-colorcorrection9\": \"0.930664\",\\n    \"aux-param-depthclampmax\": \"65536\",\\n    \"aux-param-depthclampmin\": \"0\",\\n    \"aux-param-disparityshift\": \"0\",\\n    \"controls-autoexposure-auto\": \"True\",\\n    \"controls-autoexposure-manual\": \"33000\",\\n    \"controls-color-autoexposure-auto\": \"True\",\\n    \"controls-color-autoexposure-manual\": \"166\",\\n    \"controls-color-backlight-compensation\": \"0\",\\n    \"controls-color-brightness\": \"0\",\\n    \"controls-color-contrast\": \"50\",\\n    \"controls-color-gain\": \"64\",\\n    \"controls-color-gamma\": \"300\",\\n    \"controls-color-hue\": \"0\",\\n    \"controls-color-power-line-frequency\": \"3\",\\n    \"controls-color-saturation\": \"64\",\\n    \"controls-color-sharpness\": \"50\",\\n    \"controls-color-white-balance-auto\": \"True\",\\n    \"controls-color-white-balance-manual\": \"4600\",\\n    \"controls-depth-gain\": \"16\",\\n    \"controls-depth-white-balance-auto\": \"False\",\\n    \"controls-laserpower\": \"150\",\\n    \"controls-laserstate\": \"on\",\\n    \"ignoreSAD\": \"0\",\\n    \"param-autoexposure-setpoint\": \"400\",\\n    \"param-censusenablereg-udiameter\": \"9\",\\n    \"param-censusenablereg-vdiameter\": \"9\",\\n    \"param-censususize\": \"9\",\\n    \"param-censusvsize\": \"9\",\\n    \"param-depthclampmax\": \"65536\",\\n    \"param-depthclampmin\": \"0\",\\n    \"param-depthunits\": \"1000\",\\n    \"param-disableraucolor\": \"0\",\\n    \"param-disablesadcolor\": \"0\",\\n    \"param-disablesadnormalize\": \"0\",\\n    \"param-disablesloleftcolor\": \"0\",\\n    \"param-disableslorightcolor\": \"0\",\\n    \"param-disparitymode\": \"0\",\\n    \"param-disparityshift\": \"0\",\\n    \"param-lambdaad\": \"800\",\\n    \"param-lambdacensus\": \"26\",\\n    \"param-leftrightthreshold\": \"24\",\\n    \"param-maxscorethreshb\": \"2047\",\\n    \"param-medianthreshold\": \"500\",\\n    \"param-minscorethresha\": \"511\",\\n    \"param-neighborthresh\": \"7\",\\n    \"param-raumine\": \"1\",\\n    \"param-rauminn\": \"1\",\\n    \"param-rauminnssum\": \"3\",\\n    \"param-raumins\": \"1\",\\n    \"param-rauminw\": \"1\",\\n    \"param-rauminwesum\": \"3\",\\n    \"param-regioncolorthresholdb\": \"0.0499022\",\\n    \"param-regioncolorthresholdg\": \"0.0499022\",\\n    \"param-regioncolorthresholdr\": \"0.0499022\",\\n    \"param-regionshrinku\": \"3\",\\n    \"param-regionshrinkv\": \"1\",\\n    \"param-robbinsmonrodecrement\": \"10\",\\n    \"param-robbinsmonroincrement\": \"10\",\\n    \"param-rsmdiffthreshold\": \"4\",\\n    \"param-rsmrauslodiffthreshold\": \"1\",\\n    \"param-rsmremovethreshold\": \"0.375\",\\n    \"param-scanlineedgetaub\": \"72\",\\n    \"param-scanlineedgetaug\": \"72\",\\n    \"param-scanlineedgetaur\": \"72\",\\n    \"param-scanlinep1\": \"60\",\\n    \"param-scanlinep1onediscon\": \"105\",\\n    \"param-scanlinep1twodiscon\": \"70\",\\n    \"param-scanlinep2\": \"342\",\\n    \"param-scanlinep2onediscon\": \"190\",\\n    \"param-scanlinep2twodiscon\": \"130\",\\n    \"param-secondpeakdelta\": \"325\",\\n    \"param-texturecountthresh\": \"0\",\\n    \"param-texturedifferencethresh\": \"0\",\\n    \"param-usersm\": \"1\",\\n    \"param-zunits\": \"1000\"\\n}')"
       ]
      },
      {
       "output_type": "stream",
       "stream": "stdout",
       "text": [
        "\n",
        "parse error - unexpected 'u'; expected string literal"
       ]
      },
      {
       "output_type": "stream",
       "stream": "stdout",
       "text": [
        "\n"
       ]
      }
     ],
     "prompt_number": 12
    },
    {
     "cell_type": "code",
     "collapsed": false,
     "input": [
      "file = open('pythondepthdata.bin', 'a+b') #open a file for apending binary data\n",
      "# Configure depth and color streams\n",
      "pipeline = rs.pipeline()\n",
      "config = rs.config()\n",
      "config.enable_stream(rs.stream.depth, 640, 480, rs.format.z16, 30)\n",
      "config.enable_stream(rs.stream.color, 640, 480, rs.format.bgr8, 30)\n",
      "\n",
      "# Start streaming\n",
      "cfg = pipeline.start(config)\n",
      "dev = cfg.get_device()\n",
      "depth_sensor = dev.first_depth_sensor()\n",
      "depth_sensor.set_option(rs.option.visual_preset, 4)\n",
      "\n",
      "iteration = 0;\n",
      "preset = 0;\n",
      "preset_name = '';\n",
      "tick=0;\n",
      "\n",
      "with open('pythondepthdata.bin','ab') as type: #While the file called \"pythonedpthdata.bin\" is open for appending binary, \n",
      "    try:\n",
      "        while tick<200: #aiming for 200 frames\n",
      "            tick=tick+1 \n",
      "            # Wait for a coherent pair of frames: depth and color\n",
      "            frames = pipeline.wait_for_frames()\n",
      "            depth_frame = frames.get_depth_frame()\n",
      "            color_frame = frames.get_color_frame()\n",
      "        \n",
      "            iteration = iteration + 1\n",
      "            if iteration > 100:\n",
      "                preset = preset + 1\n",
      "                iteration = 0\n",
      "                range = depth_sensor.get_option_range(rs.option.visual_preset)\n",
      "                preset = preset % range.max\n",
      "                depth_sensor.set_option(rs.option.visual_preset, preset)\n",
      "                preset_name = depth_sensor.get_option_value_description(rs.option.visual_preset, preset)\n",
      "        \n",
      "            # Convert images to numpy arrays\n",
      "            depth_image = np.asanyarray(depth_frame.get_data())\n",
      "            color_image = np.asanyarray(color_frame.get_data())\n",
      "            depth_image.tofile(type)\n",
      "        \n",
      "            # Apply colormap on depth image (image must be converted to 8-bit per pixel first)\n",
      "            depth_colormap = cv2.applyColorMap(cv2.convertScaleAbs(depth_image, None, 0.5, 0), cv2.COLORMAP_JET)\n",
      "\n",
      "            # Stack both images horizontally\n",
      "            images = np.hstack((color_image, depth_colormap))\n",
      "        \n",
      "            font = cv2.FONT_HERSHEY_SIMPLEX\n",
      "            cv2.putText(images, preset_name,(60,80), font, 4,(255,255,255),2,cv2.LINE_AA) \n",
      "\n",
      "            # Show images\n",
      "            cv2.namedWindow('RealSense', cv2.WINDOW_AUTOSIZE)\n",
      "            cv2.imshow('RealSense', images)\n",
      "            cv2.waitKey(1)\n",
      "\n",
      "    finally:\n",
      "\n",
      "        # Stop streaming\n",
      "        pipeline.stop()\n",
      "        print(tick)\n"
     ],
     "language": "python",
     "metadata": {},
     "outputs": [
      {
       "output_type": "stream",
       "stream": "stdout",
       "text": [
        "200\n"
       ]
      }
     ],
     "prompt_number": 9
    },
    {
     "cell_type": "code",
     "collapsed": false,
     "input": [
      "!wc -c pythondepthdata.bin"
     ],
     "language": "python",
     "metadata": {},
     "outputs": [
      {
       "output_type": "stream",
       "stream": "stdout",
       "text": [
        "122880000 pythondepthdata.bin\r\n"
       ]
      }
     ],
     "prompt_number": 10
    },
    {
     "cell_type": "code",
     "collapsed": false,
     "input": [
      "122880000/640/480/2"
     ],
     "language": "python",
     "metadata": {},
     "outputs": [
      {
       "metadata": {},
       "output_type": "pyout",
       "prompt_number": 9,
       "text": [
        "200"
       ]
      }
     ],
     "prompt_number": 9
    },
    {
     "cell_type": "code",
     "collapsed": false,
     "input": [
      "#NOICE"
     ],
     "language": "python",
     "metadata": {},
     "outputs": [],
     "prompt_number": 10
    },
    {
     "cell_type": "code",
     "collapsed": false,
     "input": [
      "print(serialized_string)"
     ],
     "language": "python",
     "metadata": {},
     "outputs": [
      {
       "output_type": "stream",
       "stream": "stdout",
       "text": [
        "{\n",
        "    \"aux-param-autoexposure-setpoint\": \"400\",\n",
        "    \"aux-param-colorcorrection1\": \"0.461914\",\n",
        "    \"aux-param-colorcorrection10\": \"-0.553711\",\n",
        "    \"aux-param-colorcorrection11\": \"-0.553711\",\n",
        "    \"aux-param-colorcorrection12\": \"0.0458984\",\n",
        "    \"aux-param-colorcorrection2\": \"0.540039\",\n",
        "    \"aux-param-colorcorrection3\": \"0.540039\",\n",
        "    \"aux-param-colorcorrection4\": \"0.208008\",\n",
        "    \"aux-param-colorcorrection5\": \"-0.332031\",\n",
        "    \"aux-param-colorcorrection6\": \"-0.212891\",\n",
        "    \"aux-param-colorcorrection7\": \"-0.212891\",\n",
        "    \"aux-param-colorcorrection8\": \"0.68457\",\n",
        "    \"aux-param-colorcorrection9\": \"0.930664\",\n",
        "    \"aux-param-depthclampmax\": \"65536\",\n",
        "    \"aux-param-depthclampmin\": \"0\",\n",
        "    \"aux-param-disparityshift\": \"0\",\n",
        "    \"controls-autoexposure-auto\": \"True\",\n",
        "    \"controls-autoexposure-manual\": \"33000\",\n",
        "    \"controls-color-autoexposure-auto\": \"True\",\n",
        "    \"controls-color-autoexposure-manual\": \"166\",\n",
        "    \"controls-color-backlight-compensation\": \"0\",\n",
        "    \"controls-color-brightness\": \"0\",\n",
        "    \"controls-color-contrast\": \"50\",\n",
        "    \"controls-color-gain\": \"64\",\n",
        "    \"controls-color-gamma\": \"300\",\n",
        "    \"controls-color-hue\": \"0\",\n",
        "    \"controls-color-power-line-frequency\": \"3\",\n",
        "    \"controls-color-saturation\": \"64\",\n",
        "    \"controls-color-sharpness\": \"50\",\n",
        "    \"controls-color-white-balance-auto\": \"True\",\n",
        "    \"controls-color-white-balance-manual\": \"4600\",\n",
        "    \"controls-depth-gain\": \"16\",\n",
        "    \"controls-depth-white-balance-auto\": \"False\",\n",
        "    \"controls-laserpower\": \"150\",\n",
        "    \"controls-laserstate\": \"on\",\n",
        "    \"ignoreSAD\": \"0\",\n",
        "    \"param-autoexposure-setpoint\": \"400\",\n",
        "    \"param-censusenablereg-udiameter\": \"9\",\n",
        "    \"param-censusenablereg-vdiameter\": \"9\",\n",
        "    \"param-censususize\": \"9\",\n",
        "    \"param-censusvsize\": \"9\",\n",
        "    \"param-depthclampmax\": \"65536\",\n",
        "    \"param-depthclampmin\": \"0\",\n",
        "    \"param-depthunits\": \"1000\",\n",
        "    \"param-disableraucolor\": \"0\",\n",
        "    \"param-disablesadcolor\": \"0\",\n",
        "    \"param-disablesadnormalize\": \"0\",\n",
        "    \"param-disablesloleftcolor\": \"0\",\n",
        "    \"param-disableslorightcolor\": \"0\",\n",
        "    \"param-disparitymode\": \"0\",\n",
        "    \"param-disparityshift\": \"0\",\n",
        "    \"param-lambdaad\": \"800\",\n",
        "    \"param-lambdacensus\": \"26\",\n",
        "    \"param-leftrightthreshold\": \"24\",\n",
        "    \"param-maxscorethreshb\": \"2047\",\n",
        "    \"param-medianthreshold\": \"500\",\n",
        "    \"param-minscorethresha\": \"511\",\n",
        "    \"param-neighborthresh\": \"7\",\n",
        "    \"param-raumine\": \"1\",\n",
        "    \"param-rauminn\": \"1\",\n",
        "    \"param-rauminnssum\": \"3\",\n",
        "    \"param-raumins\": \"1\",\n",
        "    \"param-rauminw\": \"1\",\n",
        "    \"param-rauminwesum\": \"3\",\n",
        "    \"param-regioncolorthresholdb\": \"0.0499022\",\n",
        "    \"param-regioncolorthresholdg\": \"0.0499022\",\n",
        "    \"param-regioncolorthresholdr\": \"0.0499022\",\n",
        "    \"param-regionshrinku\": \"3\",\n",
        "    \"param-regionshrinkv\": \"1\",\n",
        "    \"param-robbinsmonrodecrement\": \"10\",\n",
        "    \"param-robbinsmonroincrement\": \"10\",\n",
        "    \"param-rsmdiffthreshold\": \"4\",\n",
        "    \"param-rsmrauslodiffthreshold\": \"1\",\n",
        "    \"param-rsmremovethreshold\": \"0.375\",\n",
        "    \"param-scanlineedgetaub\": \"72\",\n",
        "    \"param-scanlineedgetaug\": \"72\",\n",
        "    \"param-scanlineedgetaur\": \"72\",\n",
        "    \"param-scanlinep1\": \"60\",\n",
        "    \"param-scanlinep1onediscon\": \"105\",\n",
        "    \"param-scanlinep1twodiscon\": \"70\",\n",
        "    \"param-scanlinep2\": \"342\",\n",
        "    \"param-scanlinep2onediscon\": \"190\",\n",
        "    \"param-scanlinep2twodiscon\": \"130\",\n",
        "    \"param-secondpeakdelta\": \"325\",\n",
        "    \"param-texturecountthresh\": \"0\",\n",
        "    \"param-texturedifferencethresh\": \"0\",\n",
        "    \"param-usersm\": \"1\",\n",
        "    \"param-zunits\": \"1000\"\n",
        "}\n"
       ]
      }
     ],
     "prompt_number": 13
    },
    {
     "cell_type": "code",
     "collapsed": false,
     "input": [
      "with open(\"d415paramset_1.json\") as json_data:\n",
      "    J = json.load(json_data)\n",
      "    print(J)"
     ],
     "language": "python",
     "metadata": {},
     "outputs": [
      {
       "output_type": "stream",
       "stream": "stdout",
       "text": [
        "{u'param-scanlineedgetaub': u'72', u'param-regioncolorthresholdb': u'0.05', u'param-regioncolorthresholdg': u'0.05', u'param-robbinsmonroincrement': u'10', u'param-rsmremovethreshold': u'0.375', u'param-texturecountthresh': u'0', u'aux-param-colorcorrection11': u'-0.554', u'aux-param-colorcorrection12': u'0.046', u'controls-depth-gain': u'16', u'param-robbinsmonrodecrement': u'10', u'param-regioncolorthresholdr': u'0.05', u'param-secondpeakdelta': u'325', u'controls-laserstate': u'on', u'param-scanlineedgetaur': u'72', u'param-leftrightthreshold': u'24', u'param-lambdacensus': u'26', u'param-rauminnssum': u'3', u'param-raumins': u'1', u'param-disableraucolor': u'0', u'controls-laserpower': u'150', u'param-disableslorightcolor': u'0', u'param-raumine': u'1', u'param-scanlinep2twodiscon': u'130', u'param-zunits': u'1000', u'param-scanlineedgetaug': u'72', u'param-scanlinep1onediscon': u'105', u'param-rauminn': u'1', u'param-rauminwesum': u'3', u'controls-autoexposure-auto': u'True', u'aux-param-disparityshift': u'0', u'aux-param-autoexposure-setpoint': u'400', u'param-minscorethresha': u'1', u'param-lambdaad': u'800', u'param-rsmrauslodiffthreshold': u'1', u'param-rsmdiffthreshold': u'4', u'param-censusvsize': u'9', u'param-rauminw': u'1', u'param-disparitymode': u'0', u'aux-param-colorcorrection6': u'-0.213', u'aux-param-colorcorrection7': u'-0.213', u'aux-param-depthclampmin': u'0', u'param-censususize': u'9', u'aux-param-colorcorrection2': u'0.540', u'aux-param-colorcorrection3': u'0.540', u'aux-param-colorcorrection1': u'0.462', u'param-maxscorethreshb': u'2047', u'aux-param-colorcorrection9': u'0.931', u'param-regionshrinkv': u'1', u'aux-param-depthclampmax': u'65536', u'aux-param-colorcorrection8': u'0.685', u'param-regionshrinku': u'3', u'aux-param-colorcorrection10': u'-0.554', u'param-scanlinep1twodiscon': u'70', u'param-scanlinep1': u'60', u'param-scanlinep2': u'342', u'param-scanlinep2onediscon': u'190', u'param-medianthreshold': u'500', u'param-disablesadnormalize': u'0', u'param-usersm': u'1', u'aux-param-colorcorrection5': u'-0.332', u'param-disablesloleftcolor': u'0', u'param-neighborthresh': u'7', u'controls-autoexposure-manual': u'33000', u'param-disablesadcolor': u'0', u'aux-param-colorcorrection4': u'0.208', u'param-texturedifferencethresh': u'0'}\n"
       ]
      }
     ],
     "prompt_number": 22
    },
    {
     "cell_type": "code",
     "collapsed": false,
     "input": [
      "#need to get \"d415paramset_1.json\" to look like serialized string"
     ],
     "language": "python",
     "metadata": {},
     "outputs": []
    }
   ],
   "metadata": {}
  }
 ]
}