{
 "metadata": {
  "kernelspec": {
   "display_name": "Python 3",
   "language": "python",
   "name": "python3"
  },
  "language_info": {
   "codemirror_mode": {
    "name": "ipython",
    "version": 3
   },
   "file_extension": ".py",
   "mimetype": "text/x-python",
   "name": "python",
   "nbconvert_exporter": "python",
   "pygments_lexer": "ipython3",
   "version": "3.6.4"
  },
  "name": "",
  "signature": "sha256:13016471d5dc8804fc88e08f043751cbe5f07150915735fdd4bce51c53f2929f",
  "toc": {
   "colors": {
    "hover_highlight": "#DAA520",
    "running_highlight": "#FF0000",
    "selected_highlight": "#FFD700"
   },
   "moveMenuLeft": true,
   "nav_menu": {
    "height": "30px",
    "width": "252px"
   },
   "navigate_menu": true,
   "number_sections": true,
   "sideBar": true,
   "threshold": 4,
   "toc_cell": false,
   "toc_section_display": "block",
   "toc_window_display": false,
   "widenNotebook": false
  }
 },
 "nbformat": 3,
 "nbformat_minor": 0,
 "worksheets": [
  {
   "cells": [
    {
     "cell_type": "markdown",
     "metadata": {},
     "source": [
      "# Optimizing realsense parameters for data acquisition\n",
      "\n",
      "The Intel Realsense D415 comes supplied with many parameters that affect the quality of the depth acquisition. This can be a huge pain to tune by hand.\n",
      "\n",
      "The goal of this notebook is to use python bindings to the realsense library and optimize parameters to improve the quality of our mouse recordings."
     ]
    },
    {
     "cell_type": "code",
     "collapsed": false,
     "input": [
      "# first make sure the realsense python bindings are importable by python\n",
      "# download libreasense sdk using the following instructions (For Linux):\n",
      "\n",
      "# 1. open terminal\n",
      "# 2. $ git clone https://github.com/IntelRealSense/librealsense\n",
      "# 3. $ cd librealsense\n",
      "# 4. $ mkdir build\n",
      "# 5. $ cd build\n",
      "\n",
      "# in order to get import pyrealsense2 to work you need to cmake with bindings that specify the full path of the python executable\n",
      "# in order to find the full path, open python3 in the terminal:\n",
      "\n",
      "# 6. $ python3  #this opens the python environment\n",
      "# 7. >>>import sys\n",
      "# 8. >>>print(sys.executable)\n",
      "#       /usr/bin/python\n",
      "# 9. >>>quit()\n",
      "\n",
      "# if you are working in ipython notebook, you can do the above commands right in the notebook"
     ],
     "language": "python",
     "metadata": {},
     "outputs": [],
     "prompt_number": 1
    },
    {
     "cell_type": "code",
     "collapsed": false,
     "input": [
      "import sys\n",
      "print(sys.executable)"
     ],
     "language": "python",
     "metadata": {},
     "outputs": [
      {
       "output_type": "stream",
       "stream": "stdout",
       "text": [
        "/usr/bin/python\n"
       ]
      }
     ],
     "prompt_number": 2
    },
    {
     "cell_type": "code",
     "collapsed": false,
     "input": [
      "# now, when you use cmake (remember you're still in the build directory), copy the full path after -DBUILD_PYTHON_EXECUTABLE=[full path] as follows:\n",
      "\n",
      "# 10. $ cmake ../ -DBUILD_PYTHON_BINDINGS=TRUE -DBUILD_PYTHON_EXECUTABLE=/usr/bin/python\n",
      "# 11. $ make -j4\n",
      "# 12. $ sudo make install #Optional if you want the library to be installed in your system"
     ],
     "language": "python",
     "metadata": {},
     "outputs": [],
     "prompt_number": 3
    },
    {
     "cell_type": "code",
     "collapsed": false,
     "input": [
      "sys.path.append('/usr/local/lib')"
     ],
     "language": "python",
     "metadata": {},
     "outputs": [],
     "prompt_number": 4
    },
    {
     "cell_type": "code",
     "collapsed": false,
     "input": [
      "import pyrealsense2 as rs"
     ],
     "language": "python",
     "metadata": {},
     "outputs": [],
     "prompt_number": 5
    },
    {
     "cell_type": "code",
     "collapsed": false,
     "input": [],
     "language": "python",
     "metadata": {},
     "outputs": []
    }
   ],
   "metadata": {}
  }
 ]
}