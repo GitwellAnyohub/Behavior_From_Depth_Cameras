{
 "cells": [
  {
   "cell_type": "code",
   "execution_count": 1,
   "metadata": {},
   "outputs": [],
   "source": [
    "import sys\n",
    "sys.path.append('/usr/local/lib')"
   ]
  },
  {
   "cell_type": "code",
   "execution_count": 2,
   "metadata": {},
   "outputs": [],
   "source": [
    "import matplotlib.pyplot as plt\n",
    "import numpy as np\n",
    "import random\n",
    "import matplotlib.colors as mcol\n",
    "import matplotlib.cm as cm\n",
    "import math\n",
    "import time\n",
    "import pandas as pd\n",
    "import json\n",
    "import pyrealsense2 as rs\n",
    "import cv2\n",
    "from scipy import stats\n",
    "from itertools import cycle\n",
    "cycol = cycle('bgrcmk') #here I'm generating a list of colors I can plot"
   ]
  },
  {
   "cell_type": "code",
   "execution_count": 3,
   "metadata": {},
   "outputs": [
    {
     "name": "stdout",
     "output_type": "stream",
     "text": [
      "Found device that supports advanced mode: Intel RealSense D415\n",
      "Advanced mode is enabled\n"
     ]
    }
   ],
   "source": [
    "# Enabling Advanced Mode\n",
    "\n",
    "DS5_product_ids = [\"0AD1\", \"0AD2\", \"0AD3\", \"0AD4\", \"0AD5\", \"0AF6\", \"0AFE\", \"0AFF\", \"0B00\", \"0B01\", \"0B03\", \"0B07\"]\n",
    "\n",
    "def find_device_that_supports_advanced_mode() :\n",
    "    ctx = rs.context()\n",
    "    ds5_dev = rs.device()\n",
    "    devices = ctx.query_devices();\n",
    "    for dev in devices:\n",
    "        if dev.supports(rs.camera_info.product_id) and str(dev.get_info(rs.camera_info.product_id)) in DS5_product_ids:\n",
    "            if dev.supports(rs.camera_info.name):\n",
    "                print(\"Found device that supports advanced mode:\", dev.get_info(rs.camera_info.name))\n",
    "            return dev\n",
    "    raise Exception(\"No device that supports advanced mode was found\")\n",
    "\n",
    "try:\n",
    "    dev = find_device_that_supports_advanced_mode()\n",
    "    advnc_mode = rs.rs400_advanced_mode(dev)\n",
    "    print(\"Advanced mode is\", \"enabled\" if advnc_mode.is_enabled() else \"disabled\")\n",
    "\n",
    "    # Loop until we successfully enable advanced mode\n",
    "    while not advnc_mode.is_enabled():\n",
    "        print(\"Trying to enable advanced mode...\")\n",
    "        advnc_mode.toggle_advanced_mode(True)\n",
    "        # At this point the device will disconnect and re-connect.\n",
    "        print(\"Sleeping for 5 seconds...\")\n",
    "        time.sleep(5)\n",
    "        # The 'dev' object will become invalid and we need to initialize it again\n",
    "        dev = find_device_that_supports_advanced_mode()\n",
    "        advnc_mode = rs.rs400_advanced_mode(dev)\n",
    "        print(\"Advanced mode is\", \"enabled\" if advnc_mode.is_enabled() else \"disabled\")\n",
    "\n",
    "    \n",
    "except Exception as e:\n",
    "    print(e)\n",
    "pass"
   ]
  },
  {
   "cell_type": "code",
   "execution_count": 4,
   "metadata": {},
   "outputs": [],
   "source": [
    "# Function for Saving Parameters into a JSON file\n",
    "def writeD415Json(path,filename,values):\n",
    "    filepathname= './' + path + filename + '.json'\n",
    "    parameters={}\n",
    "    parameters[\"aux-param-autoexposure-setpoint\"]=str(values[0])\n",
    "    parameters[\"aux-param-colorcorrection1\"]=str(values[1])\n",
    "    parameters[\"aux-param-colorcorrection10\"]=str(values[2])\n",
    "    parameters[\"aux-param-colorcorrection11\"]=str(values[3])\n",
    "    parameters[\"aux-param-colorcorrection12\"]=str(values[4]) \n",
    "    parameters[\"aux-param-colorcorrection2\"]=str(values[5])\n",
    "    parameters[\"aux-param-colorcorrection3\"]=str(values[6])\n",
    "    parameters[\"aux-param-colorcorrection4\"]=str(values[7]) \n",
    "    parameters[\"aux-param-colorcorrection5\"]=str(values[8])\n",
    "    parameters[\"aux-param-colorcorrection6\"]=str(values[9])\n",
    "    parameters[\"aux-param-colorcorrection7\"]=str(values[10])\n",
    "    parameters[\"aux-param-colorcorrection8\"]=str(values[11])\n",
    "    parameters[\"aux-param-colorcorrection9\"]=str(values[12])\n",
    "    parameters[\"aux-param-depthclampmax\"]=str(values[13])\n",
    "    parameters[\"aux-param-depthclampmin\"]=str(values[14])\n",
    "    parameters[\"aux-param-disparityshift\"]=str(values[15])\n",
    "    parameters[\"controls-autoexposure-auto\"]=str(values[16])\n",
    "    parameters[\"controls-autoexposure-manual\"]=str(values[17])\n",
    "    parameters[\"controls-color-autoexposure-auto\"]=str(values[18])\n",
    "    parameters[\"controls-color-autoexposure-manual\"]=str(values[19])\n",
    "    parameters[\"controls-color-backlight-compensation\"]=str(values[20])\n",
    "    parameters[\"controls-color-brightness\"]=str(values[21])\n",
    "    parameters[\"controls-color-contrast\"]=str(values[22])\n",
    "    parameters[\"controls-color-gain\"]=str(values[23])\n",
    "    parameters[\"controls-color-gamma\"]=str(values[24])\n",
    "    parameters[\"controls-color-hue\"]=str(values[25])\n",
    "    parameters[\"controls-color-power-line-frequency\"]=str(values[26])\n",
    "    parameters[\"controls-color-saturation\"]=str(values[27])\n",
    "    parameters[\"controls-color-sharpness\"]=str(values[28])\n",
    "    parameters[\"controls-color-white-balance-auto\"]=str(values[29])\n",
    "    parameters[\"controls-color-white-balance-manual\"]=str(values[30])\n",
    "    parameters[\"controls-depth-gain\"]=str(values[31])\n",
    "    parameters[\"controls-depth-white-balance-auto\"]=str(values[32])\n",
    "    parameters[\"controls-laserpower\"]=str(values[33])\n",
    "    parameters[\"controls-laserstate\"]=str(values[34])\n",
    "    parameters[\"ignoreSAD\"]=str(values[35])\n",
    "    parameters[\"param-autoexposure-setpoint\"]=str(values[36])\n",
    "    parameters[\"param-censusenablereg-udiameter\"]=str(values[37])\n",
    "    parameters[\"param-censusenablereg-vdiameter\"]=str(values[38])\n",
    "    parameters[\"param-censususize\"]=str(values[39])\n",
    "    parameters[\"param-censusvsize\"]=str(values[40])\n",
    "    parameters[\"param-depthclampmax\"]=str(values[41]) \n",
    "    parameters[\"param-depthclampmin\"]=str(values[42]) \n",
    "    parameters[\"param-depthunits\"]=str(values[43])\n",
    "    parameters[\"param-disableraucolor\"]=str(values[44])\n",
    "    parameters[\"param-disablesadcolor\"]=str(values[45])\n",
    "    parameters[\"param-disablesadnormalize\"]=str(values[46])\n",
    "    parameters[\"param-disablesloleftcolor\"]=str(values[47])\n",
    "    parameters[\"param-disableslorightcolor\"]=str(values[48]) \n",
    "    parameters[\"param-disparitymode\"]=str(values[49])\n",
    "    parameters[\"param-disparityshift\"]=str(values[50])\n",
    "    parameters[\"param-lambdaad\"]=str(values[51])\n",
    "    parameters[\"param-lambdacensus\"]=str(values[52])\n",
    "    parameters[\"param-leftrightthreshold\"]=str(values[53])\n",
    "    parameters[\"param-maxscorethreshb\"]=str(values[54])\n",
    "    parameters[\"param-medianthreshold\"]=str(values[55])\n",
    "    parameters[\"param-minscorethresha\"]=str(values[56])\n",
    "    parameters[\"param-neighborthresh\"]=str(values[57])\n",
    "    parameters[\"param-raumine\"]=str(values[58])\n",
    "    parameters[\"param-rauminn\"]=str(values[59])\n",
    "    parameters[\"param-rauminnssum\"]=str(values[60])\n",
    "    parameters[\"param-raumins\"]=str(values[61])\n",
    "    parameters[\"param-rauminw\"]=str(values[62])\n",
    "    parameters[\"param-rauminwesum\"]=str(values[63])\n",
    "    parameters[\"param-regioncolorthresholdb\"]=str(values[64])\n",
    "    parameters[\"param-regioncolorthresholdg\"]=str(values[65])\n",
    "    parameters[\"param-regioncolorthresholdr\"]=str(values[66]) \n",
    "    parameters[\"param-regionshrinku\"]=str(values[67])\n",
    "    parameters[\"param-regionshrinkv\"]=str(values[68])\n",
    "    parameters[\"param-robbinsmonrodecrement\"]=str(values[69])\n",
    "    parameters[\"param-robbinsmonroincrement\"]=str(values[70])\n",
    "    parameters[\"param-rsmdiffthreshold\"]=str(values[71])\n",
    "    parameters[\"param-rsmrauslodiffthreshold\"]=str(values[72]) \n",
    "    parameters[\"param-rsmremovethreshold\"]=str(values[73]) \n",
    "    parameters[\"param-scanlineedgetaub\"]=str(values[74])\n",
    "    parameters[\"param-scanlineedgetaug\"]=str(values[75]) \n",
    "    parameters[\"param-scanlineedgetaur\"]=str(values[76]) \n",
    "    parameters[\"param-scanlinep1\"]=str(values[77]) \n",
    "    parameters[\"param-scanlinep1onediscon\"]=str(values[78]) \n",
    "    parameters[\"param-scanlinep1twodiscon\"]=str(values[79])\n",
    "    parameters[\"param-scanlinep2\"]=str(values[80])\n",
    "    parameters[\"param-scanlinep2onediscon\"]=str(values[81])\n",
    "    parameters[\"param-scanlinep2twodiscon\"]=str(values[82])\n",
    "    parameters[\"param-secondpeakdelta\"]=str(values[83])\n",
    "    parameters[\"param-texturecountthresh\"]=str(values[84])\n",
    "    parameters[\"param-texturedifferencethresh\"]=str(values[85])\n",
    "    parameters[\"param-usersm\"]=str(values[86]) \n",
    "    parameters[\"param-zunits\"]=str(values[87])\n",
    "    \n",
    "    with open(filepathname, 'w') as fp: #open file to write parameters\n",
    "        json.dump(parameters, fp) # dump parameters into json\n"
   ]
  },
  {
   "cell_type": "code",
   "execution_count": 5,
   "metadata": {},
   "outputs": [],
   "source": [
    "#values of some preset parameters. This is the list that will change in very loop of the SGD\n",
    "values= [400, 0.461914, -0.553711, -0.553711, 0.0458984, 0.540039, 0.540039, 0.208008, -0.332031, -0.212891, -0.212891, 0.68457, 0.930664, 65536, 624, 53, \"True\", 33000, \"True\", 166, 0, 0 , 50, 64, 300, 0, 3, 64, 50, \"True\", 4600, 16, \"False\", 150, \"on\", 0, 400, 9, 9, 9, 9, 65536, 624, 901, 0, 0, 0, 0, 0, 0, 53, 800, 26, 24, 2047, 500, 1, 7, 1, 1, 3, 1, 1, 3, 0.0499022, 0.0499022, 0.0499022, 3, 1, 10, 10, 4, 1, 0.375, 72, 72, 72, 60, 105, 70, 342, 190, 130, 325, 0, 0, 1, 901] "
   ]
  },
  {
   "cell_type": "code",
   "execution_count": 6,
   "metadata": {},
   "outputs": [],
   "source": [
    "# Create file named D415_params.json and write the parameter values into that json file (Saved in the current path) \n",
    "filename='D415_params' \n",
    "path='./'\n",
    "writeD415Json(path,filename,values)"
   ]
  },
  {
   "cell_type": "code",
   "execution_count": 7,
   "metadata": {},
   "outputs": [
    {
     "name": "stdout",
     "output_type": "stream",
     "text": [
      "{\"param-disablesloleftcolor\": \"0\", \"controls-depth-gain\": \"16\", \"controls-color-white-balance-manual\": \"4600\", \"aux-param-colorcorrection8\": \"0.68457\", \"stream-height\": \"480\", \"param-rauminnssum\": \"3\", \"controls-color-sharpness\": \"50\", \"aux-param-colorcorrection12\": \"0.0458984\", \"param-censusenablereg-udiameter\": \"9\", \"param-minscorethresha\": \"1\", \"param-medianthreshold\": \"500\", \"stream-fps\": \"90\", \"param-censususize\": \"9\", \"aux-param-colorcorrection1\": \"0.461914\", \"controls-color-gain\": \"64\", \"param-rauminwesum\": \"3\", \"param-scanlinep2twodiscon\": \"130\", \"param-raumine\": \"1\", \"param-scanlinep1twodiscon\": \"70\", \"aux-param-colorcorrection10\": \"-0.553711\", \"aux-param-colorcorrection11\": \"-0.553711\", \"controls-color-brightness\": \"0\", \"controls-color-white-balance-auto\": \"True\", \"aux-param-colorcorrection9\": \"0.930664\", \"controls-color-backlight-compensation\": \"0\", \"param-disparityshift\": \"0\", \"param-rauminn\": \"1\", \"param-disablesadcolor\": \"0\", \"aux-param-autoexposure-setpoint\": \"400\", \"controls-depth-white-balance-auto\": \"False\", \"param-scanlinep2\": \"342\", \"param-censusvsize\": \"9\", \"controls-color-power-line-frequency\": \"3\", \"param-scanlinep1onediscon\": \"105\", \"param-regioncolorthresholdg\": \"0.0499022\", \"aux-param-depthclampmax\": \"65536\", \"param-texturedifferencethresh\": \"0\", \"param-scanlineedgetaur\": \"72\", \"aux-param-depthclampmin\": \"0\", \"param-robbinsmonroincrement\": \"10\", \"controls-laserstate\": \"on\", \"controls-color-hue\": \"0\", \"aux-param-colorcorrection6\": \"-0.212891\", \"param-rsmremovethreshold\": \"0.375\", \"aux-param-colorcorrection4\": \"0.208008\", \"param-secondpeakdelta\": \"325\", \"controls-autoexposure-auto\": \"False\", \"aux-param-colorcorrection7\": \"-0.212891\", \"param-disparitymode\": \"0\", \"param-regionshrinkv\": \"1\", \"param-depthunits\": \"1000\", \"param-regionshrinku\": \"3\", \"stream-depth-format\": \"Z16\", \"stream-ir-format\": \"Y8\", \"param-depthclampmin\": \"0\", \"param-censusenablereg-vdiameter\": \"9\", \"param-disablesadnormalize\": \"0\", \"controls-autoexposure-manual\": \"33000\", \"param-leftrightthreshold\": \"24\", \"param-scanlineedgetaug\": \"72\", \"aux-param-colorcorrection2\": \"0.540039\", \"param-robbinsmonrodecrement\": \"10\", \"ignoreSAD\": \"0\", \"param-usersm\": \"1\", \"param-neighborthresh\": \"7\", \"param-rsmdiffthreshold\": \"4\", \"param-autoexposure-setpoint\": \"400\", \"param-texturecountthresh\": \"0\", \"aux-param-colorcorrection3\": \"0.540039\", \"controls-color-contrast\": \"50\", \"param-raumins\": \"1\", \"controls-color-autoexposure-auto\": \"True\", \"controls-laserpower\": \"150\", \"param-rauminw\": \"1\", \"param-rsmrauslodiffthreshold\": \"1\", \"param-disableraucolor\": \"0\", \"param-zunits\": \"1000\", \"aux-param-disparityshift\": \"0\", \"stream-width\": \"848\", \"controls-color-saturation\": \"64\", \"param-scanlinep1\": \"60\", \"param-disableslorightcolor\": \"0\", \"param-scanlineedgetaub\": \"72\", \"param-regioncolorthresholdb\": \"0.0499022\", \"aux-param-colorcorrection5\": \"-0.332031\", \"param-regioncolorthresholdr\": \"0.0499022\", \"param-scanlinep2onediscon\": \"190\", \"controls-color-autoexposure-manual\": \"166\", \"param-maxscorethreshb\": \"2047\", \"param-lambdacensus\": \"26\", \"controls-color-gamma\": \"300\", \"param-depthclampmax\": \"65536\", \"param-lambdaad\": \"800\"}\n"
     ]
    }
   ],
   "source": [
    "# Loading presaved parameters \n",
    "# If I have another set of parameters I'd like to use already in the json format, I can skip the previous three blocks of code\n",
    "    \n",
    "with open(\"d415_default.json\") as json_data: #Json file to be loaded #NOTE im using default NOT the json that I just created above\n",
    "    starting_params = json.load(json_data)\n",
    "    starting_params=str(starting_params).replace(\"'\", '\\\"') #IF YOU DON't DO THIS IT WILL NOT WORK with the librealsense sdk\n",
    "    print(starting_params)"
   ]
  },
  {
   "cell_type": "code",
   "execution_count": 8,
   "metadata": {},
   "outputs": [],
   "source": [
    "#Experimental Loop\n",
    "\n",
    "frame_width=848\n",
    "frame_height=480\n",
    "fps=90\n",
    "number_of_frames_to_record=200\n",
    "file = open('pythondepthdata.bin', 'a+b') #open a file for apending binary data\n",
    "# Configure depth and color streams\n",
    "pipeline = rs.pipeline()\n",
    "config = rs.config()\n",
    "config.enable_stream(rs.stream.depth, frame_width, frame_height, rs.format.z16, fps)\n",
    "#config.enable_stream(rs.stream.color, frame_width, frame_height, rs.format.bgr8, fps)\n",
    "advnc_mode.load_json(starting_params) #this is where I start with the Defualt Json\n",
    "# Start streaming\n",
    "cfg = pipeline.start(config)\n",
    "dev = cfg.get_device()\n",
    "depth_sensor = dev.first_depth_sensor()\n",
    "#depth_sensor.set_option(rs.option.visual_preset, 2)\n",
    "\n",
    "\n",
    "iteration = 0;\n",
    "#preset = 0;\n",
    "#preset_name = '';\n",
    "tick=0; #keeping track of the number of loops the experiment has gone through \n",
    "background_chunk=100 #I want to use 500 frames for recording the background"
   ]
  },
  {
   "cell_type": "code",
   "execution_count": 9,
   "metadata": {},
   "outputs": [
    {
     "name": "stdout",
     "output_type": "stream",
     "text": [
      "please insert calibration object  mouse\n",
      "Time Elapsed =  13.432204484939575\n",
      "Final Parameters =  {\"param-disablesloleftcolor\": \"0\", \"controls-depth-gain\": \"16\", \"controls-color-white-balance-manual\": \"4600\", \"aux-param-colorcorrection8\": \"0.68457\", \"param-rauminnssum\": \"3\", \"controls-color-sharpness\": \"50\", \"aux-param-colorcorrection12\": \"0.0458984\", \"param-censusenablereg-udiameter\": \"9\", \"param-minscorethresha\": \"1\", \"param-medianthreshold\": \"500\", \"param-censususize\": \"9\", \"aux-param-colorcorrection1\": \"0.461914\", \"controls-color-gain\": \"64\", \"param-rauminwesum\": \"3\", \"param-scanlinep2twodiscon\": \"130\", \"param-raumine\": \"1\", \"param-scanlinep1twodiscon\": \"70\", \"aux-param-colorcorrection10\": \"-0.553711\", \"aux-param-colorcorrection11\": \"-0.553711\", \"controls-color-brightness\": \"0\", \"controls-color-white-balance-auto\": \"True\", \"aux-param-colorcorrection9\": \"0.930664\", \"controls-color-backlight-compensation\": \"0\", \"param-disparityshift\": \"0\", \"param-rauminn\": \"1\", \"param-disablesadcolor\": \"0\", \"aux-param-autoexposure-setpoint\": \"400\", \"controls-depth-white-balance-auto\": \"False\", \"param-scanlinep2\": \"342\", \"param-censusvsize\": \"9\", \"controls-color-power-line-frequency\": \"3\", \"param-scanlinep1onediscon\": \"105\", \"param-regioncolorthresholdg\": \"0.0499022\", \"aux-param-depthclampmax\": \"65536\", \"param-texturedifferencethresh\": \"0\", \"param-scanlineedgetaur\": \"72\", \"aux-param-depthclampmin\": \"0\", \"param-robbinsmonroincrement\": \"10\", \"controls-laserstate\": \"on\", \"controls-color-hue\": \"0\", \"aux-param-colorcorrection6\": \"-0.212891\", \"param-rsmremovethreshold\": \"0.375\", \"aux-param-colorcorrection4\": \"0.208008\", \"param-secondpeakdelta\": \"325\", \"controls-autoexposure-auto\": \"False\", \"aux-param-colorcorrection7\": \"-0.212891\", \"param-disparitymode\": \"0\", \"param-regionshrinkv\": \"1\", \"param-depthunits\": \"1000\", \"param-regionshrinku\": \"3\", \"param-depthclampmin\": \"0\", \"param-censusenablereg-vdiameter\": \"9\", \"param-disablesadnormalize\": \"0\", \"controls-autoexposure-manual\": \"33000\", \"param-leftrightthreshold\": \"24\", \"param-scanlineedgetaug\": \"72\", \"aux-param-colorcorrection2\": \"0.540039\", \"param-robbinsmonrodecrement\": \"10\", \"ignoreSAD\": \"0\", \"param-usersm\": \"1\", \"param-neighborthresh\": \"7\", \"param-rsmdiffthreshold\": \"4\", \"param-autoexposure-setpoint\": \"400\", \"param-texturecountthresh\": \"0\", \"aux-param-colorcorrection3\": \"0.540039\", \"controls-color-contrast\": \"50\", \"param-raumins\": \"1\", \"controls-color-autoexposure-auto\": \"True\", \"controls-laserpower\": \"150\", \"param-rauminw\": \"1\", \"param-rsmrauslodiffthreshold\": \"1\", \"param-disableraucolor\": \"0\", \"param-zunits\": \"1000\", \"aux-param-disparityshift\": \"0\", \"controls-color-saturation\": \"64\", \"param-scanlinep1\": \"60\", \"param-disableslorightcolor\": \"0\", \"param-scanlineedgetaub\": \"72\", \"param-regioncolorthresholdb\": \"0.0499022\", \"aux-param-colorcorrection5\": \"-0.332031\", \"param-regioncolorthresholdr\": \"0.0499022\", \"param-scanlinep2onediscon\": \"190\", \"controls-color-autoexposure-manual\": \"166\", \"param-maxscorethreshb\": \"2047\", \"param-lambdacensus\": \"26\", \"controls-color-gamma\": \"300\", \"param-depthclampmax\": \"65536\", \"param-lambdaad\": \"800\"}\n"
     ]
    }
   ],
   "source": [
    "start_of_loop=time.time()\n",
    "with open('pythondepthdata.bin','ab') as binarydata: #While the file called \"pythonedpthdata.bin\" is open for appending binary, \n",
    "    try:\n",
    "        while tick<number_of_frames_to_record: #aiming for 2000 frames\n",
    "            tick=tick+1 \n",
    "            \n",
    "            # Wait for a coherent pair of frames: depth and color\n",
    "            frames = pipeline.wait_for_frames()\n",
    "            depth_frame = frames.get_depth_frame()\n",
    "            #color_frame = frames.get_color_frame()\n",
    "        \n",
    "            #iteration = iteration + 1\n",
    "            #if iteration > 100:\n",
    "               #preset = preset + 1\n",
    "               #iteration = 0\n",
    "               #range = depth_sensor.get_option_range(rs.option.visual_preset)\n",
    "               #preset = preset % range.max\n",
    "               #depth_sensor.set_option(rs.option.visual_preset, preset)\n",
    "               #preset_name = depth_sensor.get_option_value_description(rs.option.visual_preset, preset)\n",
    "        \n",
    "            # Convert images to numpy arrays\n",
    "            depth_image = np.asanyarray(depth_frame.get_data())\n",
    "            #color_image = np.asanyarray(color_frame.get_data())\n",
    "            depth_image.tofile(binarydata) #save data as binarydata (specified by the with open as line)\n",
    "            \n",
    "            if tick==background_chunk:\n",
    "                output=input(\"please insert calibration object  \")\n",
    "        \n",
    "            # Apply colormap on depth image (image must be converted to 8-bit per pixel first)\n",
    "            #depth_colormap = cv2.applyColorMap(cv2.convertScaleAbs(depth_image, None, 0.5, 0), cv2.COLORMAP_JET)\n",
    "\n",
    "            # Stack both images horizontally\n",
    "            #images = np.hstack((color_image, depth_colormap))\n",
    "        \n",
    "            #font = cv2.FONT_HERSHEY_SIMPLEX\n",
    "            #cv2.putText(images, preset_name,(60,80), font, 4,(255,255,255),2,cv2.LINE_AA) \n",
    "\n",
    "            # Show images\n",
    "            #cv2.namedWindow('RealSense', cv2.WINDOW_AUTOSIZE)\n",
    "            #cv2.imshow('RealSense', images)\n",
    "            #cv2.waitKey(1)\n",
    "\n",
    "    finally:\n",
    "\n",
    "        # Stop streaming\n",
    "        pipeline.stop()\n",
    "        end_of_loop=time.time() #end timer\n",
    "        print(\"Time Elapsed = \", end_of_loop - start_of_loop)\n",
    "        serialized_string = advnc_mode.serialize_json() #getting the current parameters as a serialized string\n",
    "        as_json_object = json.loads(serialized_string) #loading the json object from the serialized string\n",
    "        json_used_in_experiment = str(as_json_object).replace(\"'\", '\\\"') #converting object into string that can be printed\n",
    "        print(\"Final Parameters = \", json_used_in_experiment)"
   ]
  },
  {
   "cell_type": "code",
   "execution_count": 10,
   "metadata": {},
   "outputs": [],
   "source": [
    "height=480\n",
    "width=848\n",
    "rawframes = np.fromfile('pythondepthdata.bin', dtype=np.uint16) #A highly efficient way of reading binary data with a known data-type, as well as parsing simply formatted text files. Data written using the tofile method can be read using this function.\n",
    "frames = rawframes.reshape(-1, height, width) #.reshape simply restructures data into dimensions of your choosing. -1 means find the number of segments that structures the data into the dimnesions shown afterwards"
   ]
  },
  {
   "cell_type": "code",
   "execution_count": 11,
   "metadata": {},
   "outputs": [
    {
     "name": "stdout",
     "output_type": "stream",
     "text": [
      "The shape of the video is 480 by 848 and it has 200 frames\n"
     ]
    }
   ],
   "source": [
    "number_of_frames,video_height,video_width=frames.shape[0],frames.shape[1],frames.shape[2];\n",
    "#set number of frames equal to the first element in reshaped.shape\n",
    "#set video height to the second element in reshaped.shape\n",
    "#set video width to the third element in reshaped.shape\n",
    "print('The shape of the video is {0} by {1} and it has {2} frames'.format(video_height,video_width,number_of_frames))\n",
    "#note that the nubmers below are one greater than the actual indices that exist\n",
    "#there is no reshaped[number_of_frames,height,width], the last frame is reshaped[number_of_frames-1,height-1,width-1]"
   ]
  },
  {
   "cell_type": "code",
   "execution_count": 12,
   "metadata": {},
   "outputs": [
    {
     "data": {
      "image/png": "[encoded data removed]",
      "text/plain": [
       "<Figure size 720x720 with 1 Axes>"
      ]
     },
     "metadata": {},
     "output_type": "display_data"
    }
   ],
   "source": [
    "#Now let's try to put this all together but in another random frame\n",
    "#pick a frame\n",
    "picked_frame=150\n",
    "frame_of_interest=frames[picked_frame] \n",
    "#know your background (I happen to know background is between frame 5250 and 5350)\n",
    "backgroundmean=np.mean(frames[0:background_chunk], axis=0)\n",
    "backgroundvariance=np.var(frames[0:background_chunk], axis=0)\n",
    "#if the difference between the background and the frame is greater than expected, it's probably our object! \n",
    "#note that I arbitrarily pick 5 stdeviations away, it's worth knowing if the noise is actually gaussian\n",
    "backgroundmultiplier=np.abs(frame_of_interest - backgroundmean) - (9*np.sqrt(backgroundvariance)) #if its 5 standard its NOISE\n",
    "#we expect positive values for high differences. make them stay by multiplying by 1\n",
    "backgroundmultiplier[backgroundmultiplier>0]=1\n",
    "#we expect negative values or no change for small differences. probably just noise, get rid of them by multiplying by 0\n",
    "backgroundmultiplier[backgroundmultiplier<=0]=0\n",
    "#apply our expectations to the matrix\n",
    "frame_of_interest_backgroundsubtracted=np.multiply(frame_of_interest,backgroundmultiplier)\n",
    "\n",
    "#I can plot the background subtracted image\n",
    "fig=plt.figure(figsize=(10,10))\n",
    "plt.imshow(frame_of_interest_backgroundsubtracted)\n",
    "object_median=np.median(frame_of_interest_backgroundsubtracted[frame_of_interest_backgroundsubtracted>0])\n",
    "plt.clim(object_median-100,object_median+100)\n",
    "fig.savefig('calibration_object.png')"
   ]
  },
  {
   "cell_type": "code",
   "execution_count": 13,
   "metadata": {},
   "outputs": [
    {
     "data": {
      "image/png": "[encoded data removed]",
      "text/plain": [
       "<Figure size 432x288 with 2 Axes>"
      ]
     },
     "metadata": {},
     "output_type": "display_data"
    }
   ],
   "source": [
    "plt.colorbar(plt.imshow(frame_of_interest_backgroundsubtracted,cmap='gist_rainbow'))\n",
    "plt.clim(object_median-100,object_median+100)"
   ]
  },
  {
   "cell_type": "code",
   "execution_count": 14,
   "metadata": {},
   "outputs": [],
   "source": [
    "#np.nonzero(frame_of_interest_backgroundsubtracted==np.max(frame_of_interest_backgroundsubtracted))"
   ]
  },
  {
   "cell_type": "code",
   "execution_count": 15,
   "metadata": {},
   "outputs": [],
   "source": [
    "#list of pixel value and counts\n",
    "#unique,counts=np.unique(frame_of_interest_backgroundsubtracted,return_counts=True)\n",
    "#print(np.asarray((unique,counts)).T)"
   ]
  },
  {
   "cell_type": "code",
   "execution_count": 16,
   "metadata": {},
   "outputs": [
    {
     "data": {
      "image/png": "[encoded data removed]",
      "text/plain": [
       "<Figure size 720x720 with 1 Axes>"
      ]
     },
     "metadata": {},
     "output_type": "display_data"
    }
   ],
   "source": [
    "#Now let's try to put this all together but in another random frame\n",
    "#pick a frame\n",
    "picked_frame=150\n",
    "frame_of_interest=frames[picked_frame]\n",
    "#know your background (I happen to know background is between frame 5250 and 5350)\n",
    "backgroundmean=np.mean(frames[0:background_chunk], axis=0)\n",
    "backgroundvariance=np.var(frames[0:background_chunk], axis=0)\n",
    "#if the difference between the background and the frame is greater than expected, it's probably our object! \n",
    "#note that I arbitrarily pick 5 stdeviations away, it's worth knowing if the noise is actually gaussian\n",
    "backgroundmultiplier=np.abs(frame_of_interest - backgroundmean) - (10*np.sqrt(backgroundvariance)) #if its 5 standard its NOISE\n",
    "#we expect positive values for high differences. make them stay by multiplying by 1\n",
    "backgroundmultiplier[backgroundmultiplier>0]=1\n",
    "#we expect negative values or no change for small differences. probably just noise, get rid of them by multiplying by 0\n",
    "backgroundmultiplier[backgroundmultiplier<=0]=0\n",
    "#apply our expectations to the matrix\n",
    "\n",
    "frame_of_interest_backgroundsubtracted=np.multiply(np.subtract(frame_of_interest,backgroundmean),-1) #subtract the background mean and then multiply result by negative 1 since the camera counts distance away \n",
    "frame_of_interest_backgroundsubtracted=np.multiply(frame_of_interest_backgroundsubtracted,backgroundmultiplier) #pixels that arent significantly different are considered background \n",
    "frame_of_interest_backgroundsubtracted[frame_of_interest_backgroundsubtracted<0]=0 #everything less than 0 IS zero\n",
    "frame_of_interest_backgroundsubtracted=np.multiply(frame_of_interest_backgroundsubtracted,10) #go from cm to mm\n",
    "frame_of_interest_backgroundsubtracted=np.rint(frame_of_interest_backgroundsubtracted) #make everything an integer\n",
    "\n",
    "\n",
    "#Plotting background-subtracted image\n",
    "fig=plt.figure(figsize=(10,10))\n",
    "plt.imshow(frame_of_interest_backgroundsubtracted)\n",
    "object_median=np.median(frame_of_interest_backgroundsubtracted[frame_of_interest_backgroundsubtracted>0])\n",
    "plt.clim(object_median-100,object_median+100)\n",
    "fig.savefig('calibration_object.png')"
   ]
  },
  {
   "cell_type": "code",
   "execution_count": 17,
   "metadata": {},
   "outputs": [
    {
     "data": {
      "image/png": "[encoded data removed]",
      "text/plain": [
       "<Figure size 576x576 with 2 Axes>"
      ]
     },
     "metadata": {},
     "output_type": "display_data"
    }
   ],
   "source": [
    "fig2=plt.figure(figsize=(8,8))\n",
    "plt.colorbar(plt.imshow(frame_of_interest_backgroundsubtracted,cmap='jet'))\n",
    "plt.clim(0,object_median+100)\n",
    "fig2.savefig('two_manilla_folders_jet')"
   ]
  },
  {
   "cell_type": "code",
   "execution_count": 18,
   "metadata": {},
   "outputs": [],
   "source": [
    "#The two objects I used in this examples were two stack of manilla folders. One stacks was 40 folders, the other was 20 folders. I measured the heights to be 2.69875 and 1.42875 cm respectively"
   ]
  },
  {
   "cell_type": "code",
   "execution_count": 19,
   "metadata": {
    "scrolled": false
   },
   "outputs": [],
   "source": [
    "#getting a list of pixel value and frequencies\n",
    "#np.set_printoptions(threshold=np.nan) # see the entire np array\n",
    "#unique,counts=np.unique(frame_of_interest_backgroundsubtracted,return_counts=True)\n",
    "#print(np.asarray((unique,counts)).T)"
   ]
  },
  {
   "cell_type": "code",
   "execution_count": 20,
   "metadata": {},
   "outputs": [
    {
     "name": "stdout",
     "output_type": "stream",
     "text": [
      "271.2032076136764\n"
     ]
    }
   ],
   "source": [
    "objectmean=np.mean(frame_of_interest_backgroundsubtracted[frame_of_interest_backgroundsubtracted != 0])\n",
    "objectvariance=np.var(frame_of_interest_backgroundsubtracted[frame_of_interest_backgroundsubtracted != 0])\n",
    "objectsigma=np.sqrt(objectvariance)\n",
    "print(objectmean)"
   ]
  },
  {
   "cell_type": "code",
   "execution_count": 21,
   "metadata": {
    "scrolled": true
   },
   "outputs": [
    {
     "data": {
      "image/png": "[encoded data removed]",
      "text/plain": [
       "<Figure size 432x288 with 1 Axes>"
      ]
     },
     "metadata": {},
     "output_type": "display_data"
    }
   ],
   "source": [
    "plt.hist(frame_of_interest_backgroundsubtracted[frame_of_interest_backgroundsubtracted != 0],bins=range(1,1000))\n",
    "plt.show()"
   ]
  }
 ],
 "metadata": {
  "kernelspec": {
   "display_name": "Python 3",
   "language": "python",
   "name": "python3"
  },
  "language_info": {
   "codemirror_mode": {
    "name": "ipython",
    "version": 3
   },
   "file_extension": ".py",
   "mimetype": "text/x-python",
   "name": "python",
   "nbconvert_exporter": "python",
   "pygments_lexer": "ipython3",
   "version": "3.5.2"
  }
 },
 "nbformat": 4,
 "nbformat_minor": 2
}
