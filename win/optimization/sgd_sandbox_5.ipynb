{
 "cells": [
  {
   "cell_type": "code",
   "execution_count": 1,
   "metadata": {},
   "outputs": [],
   "source": [
    "#For this demonstration I use a lab notebook measured to be 12.7mm thick "
   ]
  },
  {
   "cell_type": "code",
   "execution_count": 2,
   "metadata": {},
   "outputs": [],
   "source": [
    "import sys\n",
    "sys.path.append('/usr/local/lib')"
   ]
  },
  {
   "cell_type": "code",
   "execution_count": 3,
   "metadata": {},
   "outputs": [],
   "source": [
    "import matplotlib.pyplot as plt\n",
    "import numpy as np\n",
    "import random\n",
    "import matplotlib.colors as mcol\n",
    "import matplotlib.cm as cm\n",
    "import math\n",
    "import time\n",
    "import pandas as pd\n",
    "import json\n",
    "import pyrealsense2 as rs\n",
    "import cv2\n",
    "from scipy import stats\n",
    "from itertools import cycle\n",
    "cycol = cycle('bgrcmk') #here I'm generating a list of colors I can plot"
   ]
  },
  {
   "cell_type": "code",
   "execution_count": 4,
   "metadata": {},
   "outputs": [
    {
     "name": "stdout",
     "output_type": "stream",
     "text": [
      "Found device that supports advanced mode: Intel RealSense D415\n",
      "Advanced mode is enabled\n"
     ]
    }
   ],
   "source": [
    "# Enabling Advanced Mode\n",
    "\n",
    "DS5_product_ids = [\"0AD1\", \"0AD2\", \"0AD3\", \"0AD4\", \"0AD5\", \"0AF6\", \"0AFE\", \"0AFF\", \"0B00\", \"0B01\", \"0B03\", \"0B07\"]\n",
    "\n",
    "def find_device_that_supports_advanced_mode() :\n",
    "    ctx = rs.context()\n",
    "    ds5_dev = rs.device()\n",
    "    devices = ctx.query_devices();\n",
    "    for dev in devices:\n",
    "        if dev.supports(rs.camera_info.product_id) and str(dev.get_info(rs.camera_info.product_id)) in DS5_product_ids:\n",
    "            if dev.supports(rs.camera_info.name):\n",
    "                print(\"Found device that supports advanced mode:\", dev.get_info(rs.camera_info.name))\n",
    "            return dev\n",
    "    raise Exception(\"No device that supports advanced mode was found\")\n",
    "\n",
    "try:\n",
    "    dev = find_device_that_supports_advanced_mode()\n",
    "    advnc_mode = rs.rs400_advanced_mode(dev)\n",
    "    print(\"Advanced mode is\", \"enabled\" if advnc_mode.is_enabled() else \"disabled\")\n",
    "\n",
    "    # Loop until we successfully enable advanced mode\n",
    "    while not advnc_mode.is_enabled():\n",
    "        print(\"Trying to enable advanced mode...\")\n",
    "        advnc_mode.toggle_advanced_mode(True)\n",
    "        # At this point the device will disconnect and re-connect.\n",
    "        print(\"Sleeping for 5 seconds...\")\n",
    "        time.sleep(5)\n",
    "        # The 'dev' object will become invalid and we need to initialize it again\n",
    "        dev = find_device_that_supports_advanced_mode()\n",
    "        advnc_mode = rs.rs400_advanced_mode(dev)\n",
    "        print(\"Advanced mode is\", \"enabled\" if advnc_mode.is_enabled() else \"disabled\")\n",
    "\n",
    "    \n",
    "except Exception as e:\n",
    "    print(e)\n",
    "pass"
   ]
  },
  {
   "cell_type": "code",
   "execution_count": 5,
   "metadata": {},
   "outputs": [
    {
     "name": "stdout",
     "output_type": "stream",
     "text": [
      "{\"param-disableraucolor\": \"0\", \"param-disablesadcolor\": \"0\", \"param-disablesadnormalize\": \"0\", \"param-disablesloleftcolor\": \"0\", \"param-disableslorightcolor\": \"0\", \"param-lambdaad\": \"800\", \"param-lambdacensus\": \"26\", \"param-leftrightthreshold\": \"24\", \"param-maxscorethreshb\": \"2047\", \"param-medianthreshold\": \"500\", \"param-minscorethresha\": \"1\", \"param-neighborthresh\": \"7\", \"param-robbinsmonrodecrement\": \"10\", \"param-robbinsmonroincrement\": \"10\", \"param-secondpeakdelta\": \"325\", \"param-texturecountthresh\": \"0\", \"param-texturedifferencethresh\": \"0\", \"param-raumine\": \"1\", \"param-rauminn\": \"1\", \"param-rauminnssum\": \"3\", \"param-raumins\": \"1\", \"param-rauminw\": \"1\", \"param-rauminwesum\": \"3\", \"param-regionshrinku\": \"3\", \"param-regionshrinkv\": \"1\", \"param-regioncolorthresholdr\": \"0.05\", \"param-regioncolorthresholdg\": \"0.05\", \"param-regioncolorthresholdb\": \"0.05\", \"param-rsmdiffthreshold\": \"4\", \"param-rsmrauslodiffthreshold\": \"1\", \"param-rsmremovethreshold\": \"0.375\", \"param-usersm\": \"1\", \"param-scanlineedgetaub\": \"72\", \"param-scanlineedgetaug\": \"72\", \"param-scanlineedgetaur\": \"72\", \"param-scanlinep1\": \"60\", \"param-scanlinep1onediscon\": \"105\", \"param-scanlinep1twodiscon\": \"70\", \"param-scanlinep2\": \"342\", \"param-scanlinep2onediscon\": \"190\", \"param-scanlinep2twodiscon\": \"130\", \"param-censususize\": \"9\", \"param-censusvsize\": \"9\", \"param-zunits\": \"1000\", \"aux-param-depthclampmin\": \"0\", \"aux-param-depthclampmax\": \"65536\", \"param-disparitymode\": \"0\", \"aux-param-disparityshift\": \"0\", \"aux-param-autoexposure-setpoint\": \"400\", \"aux-param-colorcorrection1\": \"0.462\", \"aux-param-colorcorrection2\": \"0.540\", \"aux-param-colorcorrection3\": \"0.540\", \"aux-param-colorcorrection4\": \"0.208\", \"aux-param-colorcorrection5\": \"-0.332\", \"aux-param-colorcorrection6\": \"-0.213\", \"aux-param-colorcorrection7\": \"-0.213\", \"aux-param-colorcorrection8\": \"0.685\", \"aux-param-colorcorrection9\": \"0.931\", \"aux-param-colorcorrection10\": \"-0.554\", \"aux-param-colorcorrection11\": \"-0.554\", \"aux-param-colorcorrection12\": \"0.046\", \"controls-laserstate\": \"on\", \"controls-laserpower\": \"150\", \"controls-autoexposure-auto\": \"True\", \"controls-autoexposure-manual\": \"33000\", \"controls-depth-gain\": \"16\"}\n"
     ]
    }
   ],
   "source": [
    "# Loading presaved parameters \n",
    "# If I have another set of parameters I'd like to use already in the json format, I can skip the previous three blocks of code\n",
    "#called d415_default.json on my laptop \n",
    "#called d415paramset_1.json on my desktop\n",
    "with open(\"d415paramset_1.json\") as json_data: #Json file to be loaded #notice How I am NOT using D415_params.json that I just created\n",
    "    starting_params = json.load(json_data)\n",
    "    starting_params=str(starting_params).replace(\"'\", '\\\"') #IF YOU DON't DO THIS IT WILL NOT WORK with the librealsense sdk\n",
    "    print(starting_params)"
   ]
  },
  {
   "cell_type": "code",
   "execution_count": 6,
   "metadata": {},
   "outputs": [],
   "source": [
    "#Here I am getting the current values of all of the camera controls\n",
    "current_ae_control=advnc_mode.get_ae_control()\n",
    "current_census=advnc_mode.get_census()\n",
    "current_color_control=advnc_mode.get_color_control()\n",
    "current_color_correction=advnc_mode.get_color_correction()\n",
    "current_depth_control=advnc_mode.get_depth_control()\n",
    "current_depth_table=advnc_mode.get_depth_table()\n",
    "current_hdad=advnc_mode.get_hdad()\n",
    "current_rau_support_vector_control=advnc_mode.get_rau_support_vector_control()\n",
    "current_rau_thresholds_control=advnc_mode.get_rau_thresholds_control()\n",
    "current_rsm=advnc_mode.get_rsm()\n",
    "current_slo_color_thresholds_control=advnc_mode.get_slo_color_thresholds_control()\n",
    "current_slo_penalty_control=advnc_mode.get_slo_penalty_control()"
   ]
  },
  {
   "cell_type": "code",
   "execution_count": 7,
   "metadata": {},
   "outputs": [],
   "source": [
    "#Here are some important parameters values\n",
    "\n",
    "#Decent Defaults\n",
    "paramvector=[400,9,9,0,0,0,0,0,.461914,.540039,.540039,.208008,-.332031,-.212891,-.212891,.68457,.930664,-.553711,-.553711,.458984,500,7,325,2,10,1,2047,0,0,65536,0,1000,0,0,0,800,26,1,1,3,1,1,3,0,0,51,51,51,4,63,0,1,72,72,72,60,105,70]\n",
    "#Min Values\n",
    "minparams=[400,1,1,0,0,0,0,0,-2,-2,-2,-2,-2,-2,-2,-2,-2,-2,-2,-2,0,0,0,0,0,0,0,0,0,0,0,100,0,0,0,800,26,0,0,0,0,0,0,0,0,1,1,1,0,0,0,0,1,1,1,1,1,1]\n",
    "#Max Values\n",
    "maxparams=[400,9,9,1,1,1,1,1,-1.99902,-1.99902,-1.99902,-1.99902,-1.99902,-1.99902,-1.99902,-1.99902,-1.99902,-1.99902,-1.99902,-1.99902,1023,1023,1023,2047,255,1023,4095,1023,4095,65536,65536,10000,1,512,0,800,26,7,3,7,3,7,15,4,4,1022,1022,1022,7.96875,168,1,3.96875,1022,1022,1022,511,511,511]"
   ]
  },
  {
   "cell_type": "code",
   "execution_count": 8,
   "metadata": {},
   "outputs": [],
   "source": [
    "#I can set the value of any of the parametes by first changing a value within the advnc_mode.get object\n",
    "current_ae_control.meanIntensitySetPoint=paramvector[0]\n",
    "\n",
    "current_census.uDiameter=paramvector[1]\n",
    "current_census.vDiameter=paramvector[2]\n",
    "\n",
    "current_color_control.disableRAUColor=paramvector[3]\n",
    "current_color_control.disableSADColor=paramvector[4]\n",
    "current_color_control.disableSADNormalize=paramvector[5]\n",
    "current_color_control.disableSLOLeftColor=paramvector[6]\n",
    "current_color_control.disableSLORightColor=paramvector[7]\n",
    "\n",
    "current_color_correction.colorCorrection1=paramvector[8]\n",
    "current_color_correction.colorCorrection2=paramvector[9]\n",
    "current_color_correction.colorCorrection3=paramvector[10]\n",
    "current_color_correction.colorCorrection4=paramvector[11]\n",
    "current_color_correction.colorCorrection5=paramvector[12]\n",
    "current_color_correction.colorCorrection6=paramvector[13]\n",
    "current_color_correction.colorCorrection7=paramvector[14]\n",
    "current_color_correction.colorCorrection8=paramvector[15]\n",
    "current_color_correction.colorCorrection9=paramvector[16]\n",
    "current_color_correction.colorCorrection10=paramvector[17]\n",
    "current_color_correction.colorCorrection11=paramvector[18]\n",
    "current_color_correction.colorCorrection12=paramvector[19]\n",
    "\n",
    "current_depth_control.deepSeaMedianThreshold=paramvector[20]\n",
    "current_depth_control.deepSeaNeighborThreshold=paramvector[21]\n",
    "current_depth_control.deepSeaSecondPeakThreshold=paramvector[22]\n",
    "current_depth_control.lrAgreeThreshold=paramvector[23]\n",
    "current_depth_control.minusDecrement=paramvector[24]\n",
    "#current_depth_control.plusIncrement\n",
    "current_depth_control.scoreThreshA=paramvector[25]\n",
    "current_depth_control.scoreThreshB=paramvector[26]\n",
    "current_depth_control.textureCountThreshold=paramvector[27]\n",
    "current_depth_control.textureDifferenceThreshold=paramvector[28]\n",
    "\n",
    "current_depth_table.depthClampMax=paramvector[29]\n",
    "current_depth_table.depthClampMin=paramvector[30]\n",
    "current_depth_table.depthUnits=paramvector[31]\n",
    "current_depth_table.disparityMode=paramvector[32]\n",
    "current_depth_table.disparityShift=paramvector[33]\n",
    "\n",
    "current_hdad.ignoreSAD=paramvector[34]\n",
    "current_hdad.lambdaAD=paramvector[35]\n",
    "current_hdad.lambdaCensus=paramvector[36]\n",
    "\n",
    "current_rau_support_vector_control.minEast=paramvector[37]\n",
    "current_rau_support_vector_control.minNorth=paramvector[38]\n",
    "current_rau_support_vector_control.minNSsum=paramvector[39]\n",
    "current_rau_support_vector_control.minSouth=paramvector[40]\n",
    "current_rau_support_vector_control.minWest=paramvector[41]\n",
    "current_rau_support_vector_control.minWEsum=paramvector[42]\n",
    "current_rau_support_vector_control.uShrink=paramvector[43]\n",
    "current_rau_support_vector_control.vShrink=paramvector[44]\n",
    "\n",
    "current_rau_thresholds_control.rauDiffThresholdBlue=paramvector[45]\n",
    "current_rau_thresholds_control.rauDiffThresholdGreen=paramvector[46]\n",
    "current_rau_thresholds_control.rauDiffThresholdRed=paramvector[47]\n",
    "\n",
    "current_rsm.diffThresh=paramvector[48]\n",
    "current_rsm.removeThresh=paramvector[49]\n",
    "current_rsm.rsmBypass=paramvector[50]\n",
    "current_rsm.sloRauDiffThresh=paramvector[51]\n",
    "\n",
    "current_slo_color_thresholds_control.diffThresholdBlue=paramvector[52]\n",
    "current_slo_color_thresholds_control.diffThresholdGreen=paramvector[53]\n",
    "current_slo_color_thresholds_control.diffThresholdRed=paramvector[54]\n",
    "\n",
    "current_slo_penalty_control.sloK1Penalty=paramvector[55]\n",
    "current_slo_penalty_control.sloK1PenaltyMod1=paramvector[56]\n",
    "current_slo_penalty_control.sloK1PenaltyMod2=paramvector[57]\n"
   ]
  },
  {
   "cell_type": "code",
   "execution_count": 9,
   "metadata": {},
   "outputs": [
    {
     "name": "stdout",
     "output_type": "stream",
     "text": [
      "[500, 7, 325, 2, 10, 1, 2047, 0, 0]\n",
      "[0, 0, 0, 0, 0, 0, 0, 0, 0]\n",
      "[1023, 1023, 1023, 2047, 255, 1023, 4095, 1023, 4095]\n"
     ]
    }
   ],
   "source": [
    "#depth specific parameters\n",
    "print(paramvector[20:29])\n",
    "print(minparams[20:29])\n",
    "print(maxparams[20:29])"
   ]
  },
  {
   "cell_type": "code",
   "execution_count": 10,
   "metadata": {},
   "outputs": [],
   "source": [
    "#constraining the parameter search around the default values yields greater percentage (several maginitudes) of reasonable images\n",
    "def randomize_depth_control():\n",
    "    set=[random.randint(450,550),random.randint(0,20),random.randint(300,350),random.randint(10,50),random.randint(0,20),random.randint(0,5),random.randint(1500,2500),random.randint(0,5),random.randint(0,5)]\n",
    "    \n",
    "    current_depth_control.deepSeaMedianThreshold=set[0]\n",
    "    current_depth_control.deepSeaNeighborThreshold=set[1]\n",
    "    current_depth_control.deepSeaSecondPeakThreshold=set[2]\n",
    "    current_depth_control.lrAgreeThreshold=set[3]\n",
    "    current_depth_control.minusDecrement=set[4]\n",
    "    current_depth_control.scoreThreshA=set[5]\n",
    "    current_depth_control.scoreThreshB=set[6]\n",
    "    current_depth_control.textureCountThreshold=set[7]\n",
    "    current_depth_control.textureDifferenceThreshold=set[8]\n",
    "    advnc_mode.set_depth_control(current_depth_control)\n",
    "    return set"
   ]
  },
  {
   "cell_type": "code",
   "execution_count": 11,
   "metadata": {},
   "outputs": [],
   "source": [
    "# Function for Saving Parameters into a JSON file\n",
    "def writeD415Json(path,filename,values):\n",
    "    filepathname= './' + path + filename + '.json'\n",
    "    parameters={}\n",
    "    parameters[\"aux-param-autoexposure-setpoint\"]=str(values[0])\n",
    "    parameters[\"aux-param-colorcorrection1\"]=str(values[1])\n",
    "    parameters[\"aux-param-colorcorrection10\"]=str(values[2])\n",
    "    parameters[\"aux-param-colorcorrection11\"]=str(values[3])\n",
    "    parameters[\"aux-param-colorcorrection12\"]=str(values[4]) \n",
    "    parameters[\"aux-param-colorcorrection2\"]=str(values[5])\n",
    "    parameters[\"aux-param-colorcorrection3\"]=str(values[6])\n",
    "    parameters[\"aux-param-colorcorrection4\"]=str(values[7]) \n",
    "    parameters[\"aux-param-colorcorrection5\"]=str(values[8])\n",
    "    parameters[\"aux-param-colorcorrection6\"]=str(values[9])\n",
    "    parameters[\"aux-param-colorcorrection7\"]=str(values[10])\n",
    "    parameters[\"aux-param-colorcorrection8\"]=str(values[11])\n",
    "    parameters[\"aux-param-colorcorrection9\"]=str(values[12])\n",
    "    parameters[\"aux-param-depthclampmax\"]=str(values[13])\n",
    "    parameters[\"aux-param-depthclampmin\"]=str(values[14])\n",
    "    parameters[\"aux-param-disparityshift\"]=str(values[15])\n",
    "    parameters[\"controls-autoexposure-auto\"]=str(values[16])\n",
    "    parameters[\"controls-autoexposure-manual\"]=str(values[17])\n",
    "    parameters[\"controls-color-autoexposure-auto\"]=str(values[18])\n",
    "    parameters[\"controls-color-autoexposure-manual\"]=str(values[19])\n",
    "    parameters[\"controls-color-backlight-compensation\"]=str(values[20])\n",
    "    parameters[\"controls-color-brightness\"]=str(values[21])\n",
    "    parameters[\"controls-color-contrast\"]=str(values[22])\n",
    "    parameters[\"controls-color-gain\"]=str(values[23])\n",
    "    parameters[\"controls-color-gamma\"]=str(values[24])\n",
    "    parameters[\"controls-color-hue\"]=str(values[25])\n",
    "    parameters[\"controls-color-power-line-frequency\"]=str(values[26])\n",
    "    parameters[\"controls-color-saturation\"]=str(values[27])\n",
    "    parameters[\"controls-color-sharpness\"]=str(values[28])\n",
    "    parameters[\"controls-color-white-balance-auto\"]=str(values[29])\n",
    "    parameters[\"controls-color-white-balance-manual\"]=str(values[30])\n",
    "    parameters[\"controls-depth-gain\"]=str(values[31])\n",
    "    parameters[\"controls-depth-white-balance-auto\"]=str(values[32])\n",
    "    parameters[\"controls-laserpower\"]=str(values[33])\n",
    "    parameters[\"controls-laserstate\"]=str(values[34])\n",
    "    parameters[\"ignoreSAD\"]=str(values[35])\n",
    "    parameters[\"param-autoexposure-setpoint\"]=str(values[36])\n",
    "    parameters[\"param-censusenablereg-udiameter\"]=str(values[37])\n",
    "    parameters[\"param-censusenablereg-vdiameter\"]=str(values[38])\n",
    "    parameters[\"param-censususize\"]=str(values[39])\n",
    "    parameters[\"param-censusvsize\"]=str(values[40])\n",
    "    parameters[\"param-depthclampmax\"]=str(values[41]) \n",
    "    parameters[\"param-depthclampmin\"]=str(values[42]) \n",
    "    parameters[\"param-depthunits\"]=str(values[43])\n",
    "    parameters[\"param-disableraucolor\"]=str(values[44])\n",
    "    parameters[\"param-disablesadcolor\"]=str(values[45])\n",
    "    parameters[\"param-disablesadnormalize\"]=str(values[46])\n",
    "    parameters[\"param-disablesloleftcolor\"]=str(values[47])\n",
    "    parameters[\"param-disableslorightcolor\"]=str(values[48]) \n",
    "    parameters[\"param-disparitymode\"]=str(values[49])\n",
    "    parameters[\"param-disparityshift\"]=str(values[50])\n",
    "    parameters[\"param-lambdaad\"]=str(values[51])\n",
    "    parameters[\"param-lambdacensus\"]=str(values[52])\n",
    "    parameters[\"param-leftrightthreshold\"]=str(values[53]) \n",
    "    parameters[\"param-maxscorethreshb\"]=str(values[54])\n",
    "    parameters[\"param-medianthreshold\"]=str(values[55])\n",
    "    parameters[\"param-minscorethresha\"]=str(values[56])\n",
    "    parameters[\"param-neighborthresh\"]=str(values[57])\n",
    "    parameters[\"param-raumine\"]=str(values[58])\n",
    "    parameters[\"param-rauminn\"]=str(values[59])\n",
    "    parameters[\"param-rauminnssum\"]=str(values[60])\n",
    "    parameters[\"param-raumins\"]=str(values[61])\n",
    "    parameters[\"param-rauminw\"]=str(values[62])\n",
    "    parameters[\"param-rauminwesum\"]=str(values[63])\n",
    "    parameters[\"param-regioncolorthresholdb\"]=str(values[64])\n",
    "    parameters[\"param-regioncolorthresholdg\"]=str(values[65])\n",
    "    parameters[\"param-regioncolorthresholdr\"]=str(values[66]) \n",
    "    parameters[\"param-regionshrinku\"]=str(values[67])\n",
    "    parameters[\"param-regionshrinkv\"]=str(values[68])\n",
    "    parameters[\"param-robbinsmonrodecrement\"]=str(values[69])\n",
    "    parameters[\"param-robbinsmonroincrement\"]=str(values[70])\n",
    "    parameters[\"param-rsmdiffthreshold\"]=str(values[71])\n",
    "    parameters[\"param-rsmrauslodiffthreshold\"]=str(values[72]) \n",
    "    parameters[\"param-rsmremovethreshold\"]=str(values[73]) \n",
    "    parameters[\"param-scanlineedgetaub\"]=str(values[74])\n",
    "    parameters[\"param-scanlineedgetaug\"]=str(values[75]) \n",
    "    parameters[\"param-scanlineedgetaur\"]=str(values[76]) \n",
    "    parameters[\"param-scanlinep1\"]=str(values[77]) \n",
    "    parameters[\"param-scanlinep1onediscon\"]=str(values[78]) \n",
    "    parameters[\"param-scanlinep1twodiscon\"]=str(values[79])\n",
    "    parameters[\"param-scanlinep2\"]=str(values[80])\n",
    "    parameters[\"param-scanlinep2onediscon\"]=str(values[81])\n",
    "    parameters[\"param-scanlinep2twodiscon\"]=str(values[82])\n",
    "    parameters[\"param-secondpeakdelta\"]=str(values[83])\n",
    "    parameters[\"param-texturecountthresh\"]=str(values[84])\n",
    "    parameters[\"param-texturedifferencethresh\"]=str(values[85])\n",
    "    parameters[\"param-usersm\"]=str(values[86]) \n",
    "    parameters[\"param-zunits\"]=str(values[87])\n",
    "    \n",
    "    with open(filepathname, 'w') as fp: #open file to write parameters\n",
    "        json.dump(parameters, fp) # dump parameters into json\n"
   ]
  },
  {
   "cell_type": "code",
   "execution_count": 12,
   "metadata": {},
   "outputs": [],
   "source": [
    "#values of some preset parameters.\n",
    "values= [400, 0.461914, -0.553711, -0.553711, 0.0458984, 0.540039, 0.540039, 0.208008, -0.332031, -0.212891, -0.212891, 0.68457, 0.930664, 65536, 624, 53, \"True\", 33000, \"True\", 166, 0, 0 , 50, 64, 300, 0, 3, 64, 50, \"True\", 4600, 16, \"False\", 150, \"on\", 0, 400, 9, 9, 9, 9, 65536, 624, 901, 0, 0, 0, 0, 0, 0, 53, 800, 26, 24, 2047, 500, 1, 7, 1, 1, 3, 1, 1, 3, 0.0499022, 0.0499022, 0.0499022, 3, 1, 10, 10, 4, 1, 0.375, 72, 72, 72, 60, 105, 70, 342, 190, 130, 325, 0, 0, 1, 901] "
   ]
  },
  {
   "cell_type": "code",
   "execution_count": 13,
   "metadata": {},
   "outputs": [],
   "source": [
    "# Create file named D415_params.json and write the parameter values into that json file (Saved in the current path) \n",
    "filename='D415_params' \n",
    "path='./'\n",
    "writeD415Json(path,filename,values)"
   ]
  },
  {
   "cell_type": "code",
   "execution_count": 14,
   "metadata": {},
   "outputs": [],
   "source": [
    "#Recording Loop Initializations \n",
    "\n",
    "#camera specications\n",
    "frame_width=848\n",
    "frame_height=480\n",
    "fps=90\n",
    "\n",
    "#optimization specifications\n",
    "number_of_frames_to_record=12000\n",
    "background_length=50\n",
    "background_chunk=int(number_of_frames_to_record/2) #I want to use 500 frames for recording the background\n",
    "\n",
    "#open a file for apending binary data\n",
    "file = open('pythondepthdata.bin', 'a+b')\n",
    "\n",
    "# Configure depth stream\n",
    "pipeline = rs.pipeline()\n",
    "config = rs.config()\n",
    "config.enable_stream(rs.stream.depth, frame_width, frame_height, rs.format.z16, fps)\n",
    "#config.enable_stream(rs.stream.color, frame_width, frame_height, rs.format.bgr8, fps)\n",
    "advnc_mode.load_json(starting_params) #this is where I start with the Defualt Json\n",
    "\n",
    "# Start streaming\n",
    "cfg = pipeline.start(config)\n",
    "dev = cfg.get_device()\n",
    "depth_sensor = dev.first_depth_sensor()"
   ]
  },
  {
   "cell_type": "code",
   "execution_count": 15,
   "metadata": {
    "scrolled": true
   },
   "outputs": [
    {
     "name": "stdout",
     "output_type": "stream",
     "text": [
      "randomized background 50\n",
      "randomized background 100\n",
      "randomized background 150\n",
      "randomized background 200\n",
      "randomized background 250\n",
      "randomized background 300\n",
      "randomized background 350\n",
      "randomized background 400\n",
      "randomized background 450\n",
      "randomized background 500\n",
      "randomized background 550\n",
      "randomized background 600\n",
      "randomized background 650\n",
      "randomized background 700\n",
      "randomized background 750\n",
      "randomized background 800\n",
      "randomized background 850\n",
      "randomized background 900\n",
      "randomized background 950\n",
      "randomized background 1000\n",
      "randomized background 1050\n",
      "randomized background 1100\n",
      "randomized background 1150\n",
      "randomized background 1200\n",
      "randomized background 1250\n",
      "randomized background 1300\n",
      "randomized background 1350\n",
      "randomized background 1400\n",
      "randomized background 1450\n",
      "randomized background 1500\n",
      "randomized background 1550\n",
      "randomized background 1600\n",
      "randomized background 1650\n",
      "randomized background 1700\n",
      "randomized background 1750\n",
      "randomized background 1800\n",
      "randomized background 1850\n",
      "randomized background 1900\n",
      "randomized background 1950\n",
      "randomized background 2000\n",
      "randomized background 2050\n",
      "randomized background 2100\n",
      "randomized background 2150\n",
      "randomized background 2200\n",
      "randomized background 2250\n",
      "randomized background 2300\n",
      "randomized background 2350\n",
      "randomized background 2400\n",
      "randomized background 2450\n",
      "randomized background 2500\n",
      "randomized background 2550\n",
      "randomized background 2600\n",
      "randomized background 2650\n",
      "randomized background 2700\n",
      "randomized background 2750\n",
      "randomized background 2800\n",
      "randomized background 2850\n",
      "randomized background 2900\n",
      "randomized background 2950\n",
      "randomized background 3000\n",
      "randomized background 3050\n",
      "randomized background 3100\n",
      "randomized background 3150\n",
      "randomized background 3200\n",
      "randomized background 3250\n",
      "randomized background 3300\n",
      "randomized background 3350\n",
      "randomized background 3400\n",
      "randomized background 3450\n",
      "randomized background 3500\n",
      "randomized background 3550\n",
      "randomized background 3600\n",
      "randomized background 3650\n",
      "randomized background 3700\n",
      "randomized background 3750\n",
      "randomized background 3800\n",
      "randomized background 3850\n",
      "randomized background 3900\n",
      "randomized background 3950\n",
      "randomized background 4000\n",
      "randomized background 4050\n",
      "randomized background 4100\n",
      "randomized background 4150\n",
      "randomized background 4200\n",
      "randomized background 4250\n",
      "randomized background 4300\n",
      "randomized background 4350\n",
      "randomized background 4400\n",
      "randomized background 4450\n",
      "randomized background 4500\n",
      "randomized background 4550\n",
      "randomized background 4600\n",
      "randomized background 4650\n",
      "randomized background 4700\n",
      "randomized background 4750\n",
      "randomized background 4800\n",
      "randomized background 4850\n",
      "randomized background 4900\n",
      "randomized background 4950\n",
      "randomized background 5000\n",
      "randomized background 5050\n",
      "randomized background 5100\n",
      "randomized background 5150\n",
      "randomized background 5200\n",
      "randomized background 5250\n",
      "randomized background 5300\n",
      "randomized background 5350\n",
      "randomized background 5400\n",
      "randomized background 5450\n",
      "randomized background 5500\n",
      "randomized background 5550\n",
      "randomized background 5600\n",
      "randomized background 5650\n",
      "randomized background 5700\n",
      "randomized background 5750\n",
      "randomized background 5800\n",
      "randomized background 5850\n",
      "randomized background 5900\n",
      "randomized background 5950\n",
      "Insert calibration object and enter data followed by the name of the object (format: YYMMDD_object)  180621_labnotebook\n",
      "Changed object recording parameters to that of background-1\n",
      "Changed object recording parameters to that of background-2\n",
      "Changed object recording parameters to that of background-3\n",
      "Changed object recording parameters to that of background-4\n",
      "Changed object recording parameters to that of background-5\n",
      "Changed object recording parameters to that of background-6\n",
      "Changed object recording parameters to that of background-7\n",
      "Changed object recording parameters to that of background-8\n",
      "Changed object recording parameters to that of background-9\n",
      "Changed object recording parameters to that of background-10\n",
      "Changed object recording parameters to that of background-11\n",
      "Changed object recording parameters to that of background-12\n",
      "Changed object recording parameters to that of background-13\n",
      "Changed object recording parameters to that of background-14\n",
      "Changed object recording parameters to that of background-15\n",
      "Changed object recording parameters to that of background-16\n",
      "Changed object recording parameters to that of background-17\n",
      "Changed object recording parameters to that of background-18\n",
      "Changed object recording parameters to that of background-19\n",
      "Changed object recording parameters to that of background-20\n",
      "Changed object recording parameters to that of background-21\n",
      "Changed object recording parameters to that of background-22\n",
      "Changed object recording parameters to that of background-23\n",
      "Changed object recording parameters to that of background-24\n",
      "Changed object recording parameters to that of background-25\n",
      "Changed object recording parameters to that of background-26\n",
      "Changed object recording parameters to that of background-27\n",
      "Changed object recording parameters to that of background-28\n",
      "Changed object recording parameters to that of background-29\n",
      "Changed object recording parameters to that of background-30\n",
      "Changed object recording parameters to that of background-31\n",
      "Changed object recording parameters to that of background-32\n",
      "Changed object recording parameters to that of background-33\n",
      "Changed object recording parameters to that of background-34\n",
      "Changed object recording parameters to that of background-35\n",
      "Changed object recording parameters to that of background-36\n",
      "Changed object recording parameters to that of background-37\n",
      "Changed object recording parameters to that of background-38\n",
      "Changed object recording parameters to that of background-39\n",
      "Changed object recording parameters to that of background-40\n",
      "Changed object recording parameters to that of background-41\n",
      "Changed object recording parameters to that of background-42\n",
      "Changed object recording parameters to that of background-43\n",
      "Changed object recording parameters to that of background-44\n",
      "Changed object recording parameters to that of background-45\n",
      "Changed object recording parameters to that of background-46\n",
      "Changed object recording parameters to that of background-47\n",
      "Changed object recording parameters to that of background-48\n",
      "Changed object recording parameters to that of background-49\n",
      "Changed object recording parameters to that of background-50\n",
      "Changed object recording parameters to that of background-51\n",
      "Changed object recording parameters to that of background-52\n",
      "Changed object recording parameters to that of background-53\n",
      "Changed object recording parameters to that of background-54\n",
      "Changed object recording parameters to that of background-55\n",
      "Changed object recording parameters to that of background-56\n",
      "Changed object recording parameters to that of background-57\n",
      "Changed object recording parameters to that of background-58\n",
      "Changed object recording parameters to that of background-59\n",
      "Changed object recording parameters to that of background-60\n",
      "Changed object recording parameters to that of background-61\n",
      "Changed object recording parameters to that of background-62\n",
      "Changed object recording parameters to that of background-63\n",
      "Changed object recording parameters to that of background-64\n",
      "Changed object recording parameters to that of background-65\n",
      "Changed object recording parameters to that of background-66\n",
      "Changed object recording parameters to that of background-67\n",
      "Changed object recording parameters to that of background-68\n",
      "Changed object recording parameters to that of background-69\n",
      "Changed object recording parameters to that of background-70\n",
      "Changed object recording parameters to that of background-71\n",
      "Changed object recording parameters to that of background-72\n",
      "Changed object recording parameters to that of background-73\n",
      "Changed object recording parameters to that of background-74\n",
      "Changed object recording parameters to that of background-75\n",
      "Changed object recording parameters to that of background-76\n",
      "Changed object recording parameters to that of background-77\n",
      "Changed object recording parameters to that of background-78\n",
      "Changed object recording parameters to that of background-79\n",
      "Changed object recording parameters to that of background-80\n",
      "Changed object recording parameters to that of background-81\n"
     ]
    },
    {
     "name": "stdout",
     "output_type": "stream",
     "text": [
      "Changed object recording parameters to that of background-82\n",
      "Changed object recording parameters to that of background-83\n",
      "Changed object recording parameters to that of background-84\n",
      "Changed object recording parameters to that of background-85\n",
      "Changed object recording parameters to that of background-86\n",
      "Changed object recording parameters to that of background-87\n",
      "Changed object recording parameters to that of background-88\n",
      "Changed object recording parameters to that of background-89\n",
      "Changed object recording parameters to that of background-90\n",
      "Changed object recording parameters to that of background-91\n",
      "Changed object recording parameters to that of background-92\n",
      "Changed object recording parameters to that of background-93\n",
      "Changed object recording parameters to that of background-94\n",
      "Changed object recording parameters to that of background-95\n",
      "Changed object recording parameters to that of background-96\n",
      "Changed object recording parameters to that of background-97\n",
      "Changed object recording parameters to that of background-98\n",
      "Changed object recording parameters to that of background-99\n",
      "Changed object recording parameters to that of background-100\n",
      "Changed object recording parameters to that of background-101\n",
      "Changed object recording parameters to that of background-102\n",
      "Changed object recording parameters to that of background-103\n",
      "Changed object recording parameters to that of background-104\n",
      "Changed object recording parameters to that of background-105\n",
      "Changed object recording parameters to that of background-106\n",
      "Changed object recording parameters to that of background-107\n",
      "Changed object recording parameters to that of background-108\n",
      "Changed object recording parameters to that of background-109\n",
      "Changed object recording parameters to that of background-110\n",
      "Changed object recording parameters to that of background-111\n",
      "Changed object recording parameters to that of background-112\n",
      "Changed object recording parameters to that of background-113\n",
      "Changed object recording parameters to that of background-114\n",
      "Changed object recording parameters to that of background-115\n",
      "Changed object recording parameters to that of background-116\n",
      "Changed object recording parameters to that of background-117\n",
      "Changed object recording parameters to that of background-118\n",
      "Changed object recording parameters to that of background-119\n",
      "Changed object recording parameters to that of background-120\n",
      "Time Elapsed =  183.57959365844727\n"
     ]
    }
   ],
   "source": [
    "start_of_loop=time.time()\n",
    "saveddepthparams=[]\n",
    "organizeddepthparams=[]\n",
    "saveddepthparams.append(advnc_mode.get_depth_control())\n",
    "organizeddepthparams.append(paramvector[20:29])\n",
    "objectparamindex=0 #used to index the background parameters used in saveddepthparams list\n",
    "tick=0; #keeping track of the number of loops the experiment has gone through \n",
    "\n",
    "#Main Recording Loop \n",
    "\n",
    "with open('pythondepthdata.bin','ab') as binarydata: #While the file called \"pythonedpthdata.bin\" is open for appending binary, \n",
    "    try:\n",
    "        while tick<number_of_frames_to_record: \n",
    "            \n",
    "            # Wait for a coherent pair of frames: depth and color\n",
    "            frames=pipeline.wait_for_frames()\n",
    "            depth_frame = frames.get_depth_frame()\n",
    "        \n",
    "            #First I want to record just the background with random params\n",
    "            if (tick != 0) and tick<background_chunk: #avoid division by zero\n",
    "                if tick%background_length==0: #every 100 frames I want to randomize the current depth control\n",
    "                    cps=randomize_depth_control()\n",
    "                    organizeddepthparams.append(cps)\n",
    "                    saveddepthparams.append(advnc_mode.get_depth_control())\n",
    "                    print(\"randomized background \" + str(tick))\n",
    "            \n",
    "            # This is where I prompt the user to insert a calibration object\n",
    "            if tick==background_chunk:\n",
    "                object_id=input(\"Insert calibration object and enter data followed by the name of the object (format: YYMMDD_object)  \")\n",
    "                \n",
    "                \n",
    "            #Next, I want to record an object in the same set of background parameters (that were randomly generated)        \n",
    "            if background_chunk<=tick<=number_of_frames_to_record and tick%background_length==0:\n",
    "                    advnc_mode.set_depth_control(saveddepthparams[objectparamindex])\n",
    "                    saveddepthparams.append(advnc_mode.get_depth_control())\n",
    "                    objectparamindex=objectparamindex+1\n",
    "                    print(\"Changed object recording parameters to that of background-\" + str(objectparamindex))             \n",
    "            \n",
    "            # Convert images to numpy arrays\n",
    "            depth_image = np.asanyarray(depth_frame.get_data())\n",
    "            #color_image = np.asanyarray(color_frame.get_data())\n",
    "            depth_image.tofile(binarydata) #save data as binarydata (specified by the with open as line)\n",
    "            \n",
    "                \n",
    "            tick=tick+1 \n",
    "\n",
    "    finally:\n",
    "\n",
    "        # Stop streaming\n",
    "        pipeline.stop()\n",
    "        end_of_loop=time.time() #end timer\n",
    "        print(\"Time Elapsed = \", end_of_loop - start_of_loop)\n",
    "        #serialized_string = advnc_mode.serialize_json() #getting the current parameters as a serialized string\n",
    "        #as_json_object = json.loads(serialized_string) #loading the json object from the serialized string\n",
    "        #json_used_in_experiment = str(as_json_object).replace(\"'\", '\\\"') #converting object into string that can be printed\n",
    "        #print(\"Final Parameters = \", json_used_in_experiment)"
   ]
  },
  {
   "cell_type": "code",
   "execution_count": 16,
   "metadata": {},
   "outputs": [],
   "source": [
    "#This is where I load the raw data and convert it into a numpy array\n",
    "rawframes = np.fromfile('pythondepthdata.bin', dtype=np.uint16) #A highly efficient way of reading binary data with a known data-type, as well as parsing simply formatted text files. Data written using the tofile method can be read using this function.\n",
    "frames = rawframes.reshape(-1, frame_height, frame_width) #.reshape simply restructures data into dimensions of your choosing. -1 means find the number of segments that structures the data into the dimnesions shown afterwards"
   ]
  },
  {
   "cell_type": "code",
   "execution_count": 17,
   "metadata": {},
   "outputs": [
    {
     "name": "stdout",
     "output_type": "stream",
     "text": [
      "The shape of the video is 480 by 848 and it has 12000 frames\n"
     ]
    }
   ],
   "source": [
    "number_of_frames,video_height,video_width=frames.shape[0],frames.shape[1],frames.shape[2];\n",
    "#set number of frames equal to the first element in reshaped.shape\n",
    "#set video height to the second element in reshaped.shape\n",
    "#set video width to the third element in reshaped.shape\n",
    "print('The shape of the video is {0} by {1} and it has {2} frames'.format(video_height,video_width,number_of_frames))\n",
    "#note that the nubmers below are one greater than the actual indices that exist\n",
    "#there is no reshaped[number_of_frames,height,width], the last frame is reshaped[number_of_frames-1,height-1,width-1]"
   ]
  },
  {
   "cell_type": "code",
   "execution_count": 18,
   "metadata": {},
   "outputs": [
    {
     "name": "stdout",
     "output_type": "stream",
     "text": [
      "mean is 12.806546\n",
      "median is 13.000000\n",
      "variance is 89.169111\n",
      "mean is 13.043683\n",
      "median is 13.000000\n",
      "variance is 187.353694\n",
      "mean is 12.960214\n",
      "median is 13.000000\n",
      "variance is 24.922021\n",
      "mean is 13.219221\n",
      "median is 13.000000\n",
      "variance is 143.373361\n",
      "mean is 13.236608\n",
      "median is 13.000000\n",
      "variance is 151.924535\n",
      "mean is 13.157614\n",
      "median is 13.000000\n",
      "variance is 65.767564\n",
      "mean is 13.344128\n",
      "median is 13.000000\n",
      "variance is 155.994141\n",
      "mean is 13.291732\n",
      "median is 13.000000\n",
      "variance is 64.864046\n",
      "mean is 13.618963\n",
      "median is 13.000000\n",
      "variance is 318.742973\n",
      "mean is 13.634976\n",
      "median is 14.000000\n",
      "variance is 876.646099\n",
      "mean is 13.311917\n",
      "median is 14.000000\n",
      "variance is 59.477041\n",
      "mean is 13.616410\n",
      "median is 14.000000\n",
      "variance is 1585.727100\n",
      "mean is 13.384372\n",
      "median is 14.000000\n",
      "variance is 46.543380\n",
      "mean is 13.523756\n",
      "median is 14.000000\n",
      "variance is 122.895854\n",
      "mean is 13.845124\n",
      "median is 14.000000\n",
      "variance is 304.999968\n",
      "mean is 13.715632\n",
      "median is 14.000000\n",
      "variance is 1259.176399\n",
      "mean is 13.815042\n",
      "median is 14.000000\n",
      "variance is 2794.803633\n",
      "mean is 13.641951\n",
      "median is 14.000000\n",
      "variance is 163.914941\n",
      "mean is 14.094404\n",
      "median is 14.000000\n",
      "variance is 456.996103\n",
      "mean is 14.014239\n",
      "median is 14.000000\n",
      "variance is 2276.083301\n",
      "mean is 13.718056\n",
      "median is 14.000000\n",
      "variance is 177.438382\n",
      "mean is 13.692305\n",
      "median is 14.000000\n",
      "variance is 169.247513\n",
      "mean is 13.630118\n",
      "median is 14.000000\n",
      "variance is 143.453660\n",
      "mean is 14.168792\n",
      "median is 14.000000\n",
      "variance is 484.687296\n",
      "mean is 13.661269\n",
      "median is 14.000000\n",
      "variance is 115.710214\n",
      "mean is 13.924973\n",
      "median is 14.000000\n",
      "variance is 286.901932\n",
      "mean is 13.711039\n",
      "median is 14.000000\n",
      "variance is 210.524149\n",
      "mean is 13.713992\n",
      "median is 14.000000\n",
      "variance is 177.050600\n",
      "mean is 13.637900\n",
      "median is 14.000000\n",
      "variance is 115.263593\n",
      "mean is 13.681628\n",
      "median is 14.000000\n",
      "variance is 159.030115\n",
      "mean is 13.685238\n",
      "median is 14.000000\n",
      "variance is 164.087343\n",
      "mean is 13.955424\n",
      "median is 14.000000\n",
      "variance is 320.853055\n",
      "mean is 17.851295\n",
      "median is 14.000000\n",
      "variance is 53059.991867\n",
      "mean is 13.580903\n",
      "median is 14.000000\n",
      "variance is 115.072778\n",
      "mean is 13.487560\n",
      "median is 14.000000\n",
      "variance is 46.184051\n",
      "mean is 13.779415\n",
      "median is 14.000000\n",
      "variance is 1517.426594\n",
      "mean is 13.574956\n",
      "median is 14.000000\n",
      "variance is 66.898611\n",
      "mean is 13.648744\n",
      "median is 14.000000\n",
      "variance is 149.169709\n",
      "mean is 13.610466\n",
      "median is 14.000000\n",
      "variance is 93.349900\n",
      "mean is 13.763830\n",
      "median is 14.000000\n",
      "variance is 212.407334\n",
      "mean is 14.050864\n",
      "median is 14.000000\n",
      "variance is 2853.340611\n",
      "mean is 13.757950\n",
      "median is 14.000000\n",
      "variance is 162.432242\n",
      "mean is 13.889449\n",
      "median is 14.000000\n",
      "variance is 251.733210\n",
      "mean is 13.835686\n",
      "median is 14.000000\n",
      "variance is 240.029767\n",
      "mean is 13.613564\n",
      "median is 14.000000\n",
      "variance is 74.363276\n",
      "mean is 13.624464\n",
      "median is 14.000000\n",
      "variance is 101.402931\n",
      "mean is 13.598121\n",
      "median is 14.000000\n",
      "variance is 73.064286\n",
      "mean is 13.790861\n",
      "median is 14.000000\n",
      "variance is 228.651134\n",
      "mean is 13.802409\n",
      "median is 14.000000\n",
      "variance is 2660.743658\n",
      "mean is 13.762921\n",
      "median is 14.000000\n",
      "variance is 2070.229858\n",
      "mean is 13.569489\n",
      "median is 14.000000\n",
      "variance is 45.455512\n",
      "mean is 13.868571\n",
      "median is 14.000000\n",
      "variance is 259.095591\n",
      "mean is 13.590724\n",
      "median is 14.000000\n",
      "variance is 60.076714\n",
      "mean is 13.563886\n",
      "median is 14.000000\n",
      "variance is 80.907438\n",
      "mean is 14.480856\n",
      "median is 14.000000\n",
      "variance is 5501.565056\n",
      "mean is 13.547298\n",
      "median is 14.000000\n",
      "variance is 59.743840\n",
      "mean is 13.675954\n",
      "median is 14.000000\n",
      "variance is 127.648839\n",
      "mean is 13.594134\n",
      "median is 14.000000\n",
      "variance is 73.379838\n",
      "mean is 13.531580\n",
      "median is 14.000000\n",
      "variance is 32.519751\n",
      "mean is 14.037300\n",
      "median is 14.000000\n",
      "variance is 379.066636\n",
      "mean is 13.688795\n",
      "median is 14.000000\n",
      "variance is 2037.001649\n",
      "mean is 13.495664\n",
      "median is 14.000000\n",
      "variance is 32.438953\n",
      "mean is 13.558016\n",
      "median is 14.000000\n",
      "variance is 81.479252\n",
      "mean is 13.503673\n",
      "median is 14.000000\n",
      "variance is 52.661003\n",
      "mean is 13.654492\n",
      "median is 14.000000\n",
      "variance is 756.716667\n",
      "mean is 13.447056\n",
      "median is 14.000000\n",
      "variance is 31.981581\n",
      "mean is 13.489154\n",
      "median is 14.000000\n",
      "variance is 25.603881\n",
      "mean is 13.562787\n",
      "median is 14.000000\n",
      "variance is 93.933246\n",
      "mean is 13.494579\n",
      "median is 14.000000\n",
      "variance is 18.526699\n",
      "mean is 13.583697\n",
      "median is 14.000000\n",
      "variance is 73.987640\n",
      "mean is 13.667841\n",
      "median is 14.000000\n",
      "variance is 134.560284\n",
      "mean is 14.229937\n",
      "median is 14.000000\n",
      "variance is 524.829530\n",
      "mean is 13.764937\n",
      "median is 14.000000\n",
      "variance is 191.157912\n",
      "mean is 13.586786\n",
      "median is 14.000000\n",
      "variance is 94.182950\n",
      "mean is 13.516707\n",
      "median is 14.000000\n",
      "variance is 80.945418\n",
      "mean is 13.438264\n",
      "median is 14.000000\n",
      "variance is 45.212428\n",
      "mean is 13.923414\n",
      "median is 14.000000\n",
      "variance is 2111.987729\n",
      "mean is 13.588843\n",
      "median is 14.000000\n",
      "variance is 59.587168\n",
      "mean is 13.526040\n",
      "median is 14.000000\n",
      "variance is 31.932110\n",
      "mean is 14.376230\n",
      "median is 14.000000\n",
      "variance is 8662.864841\n",
      "mean is 13.712643\n",
      "median is 14.000000\n",
      "variance is 1035.312130\n",
      "mean is 13.502275\n",
      "median is 14.000000\n",
      "variance is 18.110458\n",
      "mean is 13.730755\n",
      "median is 14.000000\n",
      "variance is 893.033484\n",
      "mean is 13.768393\n",
      "median is 14.000000\n",
      "variance is 176.282310\n",
      "mean is 13.591956\n",
      "median is 14.000000\n",
      "variance is 865.092951\n",
      "mean is 13.477598\n",
      "median is 14.000000\n",
      "variance is 17.934544\n",
      "mean is 13.675922\n",
      "median is 14.000000\n",
      "variance is 1010.956288\n",
      "mean is 13.443464\n",
      "median is 14.000000\n",
      "variance is 11.245384\n",
      "mean is 13.494124\n",
      "median is 14.000000\n",
      "variance is 31.735447\n",
      "mean is 13.652124\n",
      "median is 14.000000\n",
      "variance is 107.892370\n",
      "mean is 13.433656\n",
      "median is 14.000000\n",
      "variance is 24.603919\n",
      "mean is 13.634981\n",
      "median is 14.000000\n",
      "variance is 135.931006\n",
      "mean is 13.665713\n",
      "median is 14.000000\n",
      "variance is 171.006235\n",
      "mean is 13.366315\n",
      "median is 14.000000\n",
      "variance is 25.257019\n",
      "mean is 14.165677\n",
      "median is 14.000000\n",
      "variance is 4390.832148\n",
      "mean is 13.629394\n",
      "median is 14.000000\n",
      "variance is 210.133107\n",
      "mean is 13.903697\n",
      "median is 14.000000\n",
      "variance is 369.186994\n",
      "mean is 13.453104\n",
      "median is 14.000000\n",
      "variance is 94.865662\n",
      "mean is 13.602557\n",
      "median is 14.000000\n",
      "variance is 169.439593\n",
      "mean is 13.436280\n",
      "median is 14.000000\n",
      "variance is 59.095228\n",
      "mean is 13.791123\n",
      "median is 14.000000\n",
      "variance is 1381.171293\n",
      "mean is 13.443109\n",
      "median is 14.000000\n",
      "variance is 93.359629\n",
      "mean is 13.496535\n",
      "median is 14.000000\n",
      "variance is 1168.980152\n",
      "mean is 13.595424\n",
      "median is 14.000000\n",
      "variance is 205.872172\n",
      "mean is 13.476293\n",
      "median is 14.000000\n",
      "variance is 94.090522\n",
      "mean is 13.441460\n",
      "median is 14.000000\n",
      "variance is 51.998015\n",
      "mean is 13.545754\n",
      "median is 14.000000\n",
      "variance is 163.660344\n",
      "mean is 13.409390\n",
      "median is 14.000000\n",
      "variance is 66.558187\n",
      "mean is 13.633596\n",
      "median is 14.000000\n",
      "variance is 247.210324\n",
      "mean is 13.497846\n",
      "median is 14.000000\n",
      "variance is 109.353099\n",
      "mean is 13.588476\n",
      "median is 14.000000\n",
      "variance is 1607.033289\n",
      "mean is 13.550506\n",
      "median is 14.000000\n",
      "variance is 183.031182\n",
      "mean is 13.716551\n",
      "median is 14.000000\n",
      "variance is 266.596438\n",
      "mean is 13.307452\n",
      "median is 14.000000\n",
      "variance is 18.191815\n",
      "mean is 13.471624\n",
      "median is 14.000000\n",
      "variance is 72.977912\n",
      "mean is 13.339383\n",
      "median is 14.000000\n",
      "variance is 25.277432\n",
      "mean is 13.472662\n",
      "median is 14.000000\n",
      "variance is 121.919309\n",
      "mean is 13.556539\n",
      "median is 14.000000\n",
      "variance is 988.475600\n",
      "mean is 13.503347\n",
      "median is 14.000000\n",
      "variance is 143.530954\n",
      "mean is 13.329653\n",
      "median is 14.000000\n",
      "variance is 60.321245\n"
     ]
    }
   ],
   "source": [
    "#Testing Analysis For Every Parameter Set\n",
    "\n",
    "mean_results=[]\n",
    "median_results=[]\n",
    "variance_results=[]\n",
    "\n",
    "for i in range(int(number_of_frames/int(2*background_length))):\n",
    "\n",
    "    picked_frame=int(((background_length*i)+background_chunk+(background_length/2))) #Picked frames greater than the background chunk should show image of object,every 100 frames use different parameters\n",
    "    frame_of_interest=frames[picked_frame]\n",
    "    #know your background \n",
    "    background_low_bounds=int(((picked_frame-(picked_frame%background_length))-background_chunk))\n",
    "    background_high_bounds=int(((picked_frame-(picked_frame%background_length))-background_chunk)+(background_length-1))\n",
    "    backgroundmean=np.median(frames[background_low_bounds:background_high_bounds], axis=0) #probably safer to do median since the noise is known to mean gaussian\n",
    "    backgroundvariance=np.var(frames[background_low_bounds:background_high_bounds], axis=0)\n",
    "\n",
    "    #if the difference between the background and the frame is greater than expected, it's probably our object! \n",
    "    #note that I arbitrarily pick 5 stdeviations away, it's worth knowing if the noise is actually gaussian\n",
    "    backgroundmultiplier=np.abs(frame_of_interest - backgroundmean) - (10*np.sqrt(backgroundvariance)) #if its 5 standard its NOISE\n",
    "    #we expect positive values for high differences. make them stay by multiplying by 1\n",
    "    backgroundmultiplier[backgroundmultiplier>0]=1\n",
    "    #we expect negative values or no change for small differences. probably just noise, get rid of them by multiplying by 0\n",
    "    backgroundmultiplier[backgroundmultiplier<=0]=0\n",
    "    #apply our expectations to the matrix\n",
    "\n",
    "    frame_of_interest_backgroundsubtracted=np.multiply(np.subtract(frame_of_interest,backgroundmean),-1) #subtract the background mean and then multiply result by negative 1 since the camera counts distance away \n",
    "    frame_of_interest_backgroundsubtracted=np.multiply(frame_of_interest_backgroundsubtracted,backgroundmultiplier) #pixels that arent significantly different are considered background \n",
    "    frame_of_interest_backgroundsubtracted[frame_of_interest_backgroundsubtracted<0]=0 #everything less than 0 IS zero\n",
    "    #frame_of_interest_backgroundsubtracted=np.multiply(frame_of_interest_backgroundsubtracted,1) #go from mm to something else by mlitplying by something other than 1\n",
    "    frame_of_interest_backgroundsubtracted=np.rint(frame_of_interest_backgroundsubtracted) #makes everything an integer\n",
    "\n",
    "    #basic stats\n",
    "    object_median=np.median(frame_of_interest_backgroundsubtracted[frame_of_interest_backgroundsubtracted>0])\n",
    "    object_mean=np.mean(frame_of_interest_backgroundsubtracted[frame_of_interest_backgroundsubtracted != 0])\n",
    "    object_variance=np.var(frame_of_interest_backgroundsubtracted[frame_of_interest_backgroundsubtracted != 0])\n",
    "    #objectsigma=np.sqrt(objectvariance)\n",
    "    \n",
    "    mean_results.append(object_mean)\n",
    "    median_results.append(object_median)\n",
    "    variance_results.append(object_variance)\n",
    "\n",
    "    #Plotting background-subtracted image\n",
    "    #fig=plt.figure(figsize=(10,10))\n",
    "    #plt.imshow(frame_of_interest_backgroundsubtracted)\n",
    "    #plt.clim(object_median-100,object_median+100)\n",
    "    #fig.savefig(object_id + '_%d.png'%i)\n",
    "\n",
    "    #same image with jet color bar\n",
    "    fig2=plt.figure(figsize=(8,8))\n",
    "    plt.colorbar(plt.imshow(frame_of_interest_backgroundsubtracted,cmap='jet'))\n",
    "    plt.clim(0,object_median+100) #starting at 0 instead of -100\n",
    "    fig2.savefig(object_id + '_jet_%d.png'%i)\n",
    "\n",
    "    #show the stats\n",
    "    print('mean is %f' %object_mean)\n",
    "    print('median is %f' %object_median)\n",
    "    print('variance is %f' %object_variance)\n",
    "    \n",
    "    #plt.close(fig)\n",
    "    plt.close(fig2)\n",
    "    \n"
   ]
  },
  {
   "cell_type": "code",
   "execution_count": 19,
   "metadata": {},
   "outputs": [
    {
     "name": "stdout",
     "output_type": "stream",
     "text": [
      "13.443463791050133\n",
      "14.0\n",
      "11.245384338024442\n"
     ]
    },
    {
     "data": {
      "image/png": "[encoded data removed]",
      "text/plain": [
       "<Figure size 432x288 with 1 Axes>"
      ]
     },
     "metadata": {},
     "output_type": "display_data"
    },
    {
     "name": "stdout",
     "output_type": "stream",
     "text": [
      "minusDecrement: 16, deepSeaMedianThreshold: 489, scoreThreshA: 3, scoreThreshB: 2311, textureDifferenceThreshold: 5, textureCountThreshold: 1, deepSeaSecondPeakThreshold: 318, deepSeaNeighborThreshold: 8, lrAgreeThreshold: 47\n"
     ]
    }
   ],
   "source": [
    "#plot histogram of the pixels with least variance\n",
    "minvarindex=variance_results.index(min(variance_results)) #index of min variance image\n",
    "\n",
    "picked_frame=int(((background_length*minvarindex)+background_chunk+(background_length/2))) #Picked frames greater than the background chunk should show image of object,every 100 frames use different parameters\n",
    "frame_of_interest=frames[picked_frame]\n",
    "#know your background \n",
    "background_low_bounds=int(((picked_frame-(picked_frame%background_length))-background_chunk))\n",
    "background_high_bounds=int(((picked_frame-(picked_frame%background_length))-background_chunk)+(background_length-1))\n",
    "backgroundmean=np.median(frames[background_low_bounds:background_high_bounds], axis=0) #probably safer to do median since the noise is known to mean gaussian\n",
    "backgroundvariance=np.var(frames[background_low_bounds:background_high_bounds], axis=0)\n",
    "\n",
    "#if the difference between the background and the frame is greater than expected, it's probably our object! \n",
    "#note that I arbitrarily pick 5 stdeviations away, it's worth knowing if the noise is actually gaussian\n",
    "backgroundmultiplier=np.abs(frame_of_interest - backgroundmean) - (10*np.sqrt(backgroundvariance)) #if its 5 standard its NOISE\n",
    "#we expect positive values for high differences. make them stay by multiplying by 1\n",
    "backgroundmultiplier[backgroundmultiplier>0]=1\n",
    "#we expect negative values or no change for small differences. probably just noise, get rid of them by multiplying by 0\n",
    "backgroundmultiplier[backgroundmultiplier<=0]=0\n",
    "#apply our expectations to the matrix\n",
    "\n",
    "frame_of_interest_backgroundsubtracted=np.multiply(np.subtract(frame_of_interest,backgroundmean),-1) #subtract the background mean and then multiply result by negative 1 since the camera counts distance away \n",
    "frame_of_interest_backgroundsubtracted=np.multiply(frame_of_interest_backgroundsubtracted,backgroundmultiplier) #pixels that arent significantly different are considered background \n",
    "frame_of_interest_backgroundsubtracted[frame_of_interest_backgroundsubtracted<0]=0 #everything less than 0 IS zero\n",
    "#frame_of_interest_backgroundsubtracted=np.multiply(frame_of_interest_backgroundsubtracted,1) #go from mm to something else by mlitplying by something other than 1\n",
    "frame_of_interest_backgroundsubtracted=np.rint(frame_of_interest_backgroundsubtracted) #makes everything an integer\n",
    "\n",
    "#basic stats\n",
    "object_median=np.median(frame_of_interest_backgroundsubtracted[frame_of_interest_backgroundsubtracted>0])\n",
    "object_mean=np.mean(frame_of_interest_backgroundsubtracted[frame_of_interest_backgroundsubtracted != 0])\n",
    "object_variance=np.var(frame_of_interest_backgroundsubtracted[frame_of_interest_backgroundsubtracted != 0])\n",
    "print(object_mean)\n",
    "print(object_median)\n",
    "print(object_variance)\n",
    "plt.hist(frame_of_interest_backgroundsubtracted[frame_of_interest_backgroundsubtracted != 0],bins=range(1,100))\n",
    "plt.show()\n",
    "print(saveddepthparams[int((background_low_bounds/background_length))]) #print the depth parameters that led to this histogram"
   ]
  },
  {
   "cell_type": "code",
   "execution_count": 20,
   "metadata": {},
   "outputs": [
    {
     "data": {
      "image/png": "[encoded data removed]",
      "text/plain": [
       "<Figure size 576x576 with 2 Axes>"
      ]
     },
     "metadata": {},
     "output_type": "display_data"
    }
   ],
   "source": [
    "plt.figure(figsize=(8,8))\n",
    "plt.colorbar(plt.imshow(frame_of_interest_backgroundsubtracted,cmap='jet'))\n",
    "plt.clim(0,object_median+100) #starting at 0 instead of -100"
   ]
  },
  {
   "cell_type": "code",
   "execution_count": 21,
   "metadata": {},
   "outputs": [
    {
     "name": "stdout",
     "output_type": "stream",
     "text": [
      "[89.16911137804283, 187.3536944564254, 24.922020521912813, 143.3733607707606, 151.92453541174697, 65.76756435828361, 155.99414067376034, 64.86404621971977, 318.7429731949451, 876.6460989388994, 59.47704076846767, 1585.7270998410936, 46.54338036803778, 122.89585393257434, 304.999968124563, 1259.1763991864786, 2794.8036330468626, 163.91494093979654, 456.99610260929234, 2276.08330105719, 177.43838197240322, 169.2475126254635, 143.45366001078995, 484.68729579976275, 115.71021422342848, 286.9019321638307, 210.52414884096564, 177.05060007629038, 115.26359254743065, 159.03011533148774, 164.08734329253429, 320.85305480337877, 53059.9918671779, 115.07277838481598, 46.18405109232159, 1517.4265943696557, 66.89861127066385, 149.16970856226715, 93.34990040539206, 212.40733364883673, 2853.340610623361, 162.43224234830214, 251.7332100690585, 240.02976746964598, 74.36327602349867, 101.40293051714512, 73.0642860614061, 228.65113398035277, 2660.7436576372133, 2070.2298584034493, 45.45551232166911, 259.0955911564514, 60.07671356116074, 80.90743755663549, 5501.565055810366, 59.743839741380896, 127.64883916007123, 73.37983825588587, 32.51975104288429, 379.0666363847538, 2037.0016485372214, 32.43895270662173, 81.47925199973561, 52.66100297735376, 756.7166670470353, 31.981580553806303, 25.60388096259551, 93.93324611145265, 18.526698527398345, 73.98763967006693, 134.5602843909985, 524.8295296890393, 191.15791238388252, 94.18294969631515, 80.94541839600886, 45.21242841245893, 2111.987729369565, 59.587167640307044, 31.932109972319843, 8662.864840731372, 1035.3121304022106, 18.110457664738945, 893.0334839167547, 176.28231033359603, 865.0929506187792, 17.93454417544525, 1010.9562877763686, 11.245384338024442, 31.735447247558184, 107.89237006899629, 24.60391863194042, 135.93100579614352, 171.00623498362063, 25.257019279319554, 4390.832148135054, 210.13310654577452, 369.1869943202314, 94.86566160578593, 169.43959252590898, 59.09522813311118, 1381.171292690764, 93.3596292397962, 1168.9801523922263, 205.87217196553686, 94.09052209747198, 51.99801523007737, 163.66034363887482, 66.5581868495748, 247.210323557303, 109.35309937297215, 1607.0332885478056, 183.03118197782845, 266.5964378841693, 18.191814810630763, 72.977912478507, 25.277432454609404, 121.91930882123236, 988.4756001820349, 143.53095408406654, 60.32124532171701]\n"
     ]
    }
   ],
   "source": [
    "print(variance_results)"
   ]
  },
  {
   "cell_type": "code",
   "execution_count": 22,
   "metadata": {},
   "outputs": [
    {
     "name": "stdout",
     "output_type": "stream",
     "text": [
      "[[500, 7, 325, 2, 10, 1, 2047, 0, 0], [514, 10, 321, 35, 20, 2, 1623, 1, 2], [495, 3, 349, 25, 7, 3, 2324, 5, 2], [535, 7, 316, 37, 20, 0, 2145, 0, 3], [515, 18, 335, 45, 11, 4, 1890, 1, 3], [527, 15, 342, 28, 6, 0, 2056, 1, 4], [465, 19, 310, 48, 0, 1, 1838, 5, 1], [469, 0, 328, 40, 17, 5, 2105, 0, 4], [500, 18, 318, 32, 14, 2, 1833, 5, 4], [496, 0, 348, 28, 12, 2, 1550, 4, 1], [520, 5, 327, 25, 16, 4, 1620, 1, 3], [471, 19, 337, 33, 5, 2, 1929, 2, 3], [507, 5, 301, 34, 6, 4, 2462, 0, 3], [545, 11, 344, 19, 19, 5, 1955, 4, 4], [524, 13, 304, 10, 20, 3, 2240, 5, 0], [547, 3, 336, 19, 8, 1, 2073, 1, 1], [451, 14, 339, 23, 20, 4, 1856, 4, 5], [513, 1, 336, 14, 13, 2, 2384, 2, 0], [517, 19, 334, 19, 7, 0, 1845, 3, 5], [492, 4, 335, 18, 9, 1, 1647, 2, 4], [477, 18, 317, 26, 0, 5, 1668, 3, 4], [501, 17, 304, 28, 10, 2, 2331, 1, 2], [473, 13, 346, 23, 20, 0, 1970, 5, 5], [523, 14, 300, 18, 15, 0, 1735, 5, 2], [493, 13, 344, 25, 0, 0, 1792, 0, 1], [539, 5, 336, 12, 19, 2, 2020, 3, 0], [454, 15, 342, 38, 16, 2, 2005, 4, 4], [481, 19, 317, 48, 1, 0, 1945, 0, 1], [452, 1, 305, 40, 7, 2, 1961, 1, 5], [532, 8, 326, 39, 18, 5, 1626, 2, 1], [455, 18, 321, 33, 15, 3, 1788, 2, 1], [495, 0, 330, 46, 13, 0, 1625, 4, 0], [493, 18, 331, 39, 7, 1, 2273, 5, 1], [512, 18, 341, 30, 17, 4, 2011, 5, 2], [526, 4, 322, 37, 9, 3, 1778, 3, 4], [547, 18, 336, 31, 10, 3, 1820, 2, 4], [492, 4, 300, 49, 9, 2, 1984, 2, 1], [454, 5, 334, 18, 7, 3, 2012, 4, 1], [521, 6, 323, 17, 12, 5, 2086, 0, 5], [547, 2, 320, 35, 20, 4, 2183, 4, 0], [516, 1, 317, 11, 16, 2, 1577, 5, 3], [470, 20, 330, 21, 6, 2, 2404, 3, 0], [483, 14, 334, 14, 6, 4, 2279, 2, 0], [470, 1, 341, 20, 20, 4, 2262, 4, 3], [495, 18, 335, 19, 11, 1, 2226, 3, 2], [522, 2, 317, 17, 18, 1, 2013, 0, 1], [483, 5, 337, 37, 16, 5, 2215, 5, 0], [484, 16, 313, 10, 15, 0, 1833, 3, 2], [450, 3, 335, 21, 14, 1, 1978, 0, 2], [465, 19, 331, 40, 3, 2, 1637, 2, 5], [545, 5, 318, 50, 4, 3, 1935, 0, 4], [471, 17, 311, 11, 20, 0, 1723, 2, 0], [472, 20, 308, 47, 13, 0, 2190, 4, 2], [524, 19, 309, 31, 3, 4, 2265, 5, 4], [486, 7, 330, 38, 3, 3, 1947, 1, 0], [511, 11, 340, 20, 4, 5, 1807, 0, 4], [471, 8, 332, 17, 16, 5, 2186, 0, 3], [539, 11, 308, 12, 16, 1, 2211, 4, 1], [510, 17, 343, 39, 2, 1, 2274, 2, 0], [472, 11, 320, 10, 6, 3, 1580, 0, 1], [481, 6, 311, 37, 8, 3, 1680, 0, 2], [546, 7, 316, 19, 18, 3, 1526, 3, 3], [475, 19, 301, 20, 10, 0, 1893, 3, 4], [478, 9, 304, 16, 1, 0, 1713, 5, 5], [501, 6, 334, 42, 12, 5, 2241, 0, 2], [513, 4, 340, 37, 2, 1, 1758, 0, 1], [453, 18, 334, 37, 14, 1, 1591, 0, 0], [510, 3, 338, 37, 13, 5, 2044, 2, 3], [535, 20, 349, 34, 4, 1, 1684, 0, 3], [541, 17, 339, 21, 3, 5, 2461, 3, 4], [531, 2, 348, 29, 14, 4, 1971, 5, 0], [520, 16, 314, 24, 1, 5, 2301, 1, 4], [525, 1, 328, 50, 16, 3, 1779, 3, 2], [527, 19, 331, 13, 16, 1, 2174, 5, 2], [542, 17, 347, 33, 3, 5, 2257, 3, 0], [496, 7, 318, 38, 20, 2, 1678, 2, 0], [540, 9, 307, 25, 17, 3, 2091, 0, 4], [548, 9, 304, 13, 3, 0, 1614, 3, 4], [459, 6, 312, 47, 11, 0, 2030, 5, 3], [541, 14, 332, 23, 11, 0, 2103, 5, 2], [517, 5, 321, 15, 15, 2, 2420, 4, 5], [478, 13, 305, 17, 10, 5, 1515, 0, 1], [546, 0, 303, 17, 15, 4, 1722, 3, 1], [497, 3, 313, 23, 12, 0, 2356, 4, 0], [487, 17, 341, 40, 3, 4, 2209, 1, 1], [531, 0, 339, 47, 17, 4, 1923, 3, 5], [536, 20, 334, 15, 15, 2, 1740, 3, 3], [489, 8, 318, 47, 16, 3, 2311, 1, 5], [545, 3, 324, 47, 14, 0, 2460, 0, 1], [540, 1, 300, 12, 20, 4, 2334, 1, 0], [512, 11, 350, 35, 1, 0, 1779, 0, 3], [549, 6, 348, 22, 0, 2, 1657, 2, 3], [463, 16, 303, 11, 10, 5, 2330, 0, 3], [515, 2, 311, 22, 8, 1, 2266, 5, 5], [526, 6, 325, 22, 10, 1, 1791, 0, 0], [498, 10, 322, 18, 20, 0, 2307, 1, 5], [515, 12, 310, 28, 0, 5, 2041, 3, 3], [515, 0, 348, 14, 13, 4, 2257, 1, 5], [507, 19, 321, 50, 6, 4, 1578, 4, 3], [464, 12, 302, 13, 11, 3, 1609, 0, 1], [481, 12, 315, 12, 19, 3, 2187, 0, 0], [527, 11, 304, 19, 20, 1, 1606, 4, 1], [461, 1, 327, 37, 3, 3, 2178, 1, 2], [520, 7, 300, 26, 12, 1, 2488, 2, 5], [452, 0, 306, 50, 10, 4, 2482, 0, 2], [521, 20, 326, 23, 1, 0, 2175, 1, 3], [456, 13, 338, 43, 19, 1, 1687, 0, 0], [475, 16, 313, 39, 3, 1, 2362, 5, 5], [483, 0, 309, 12, 5, 2, 2189, 2, 4], [498, 4, 331, 50, 19, 5, 2371, 4, 4], [452, 7, 312, 40, 15, 1, 1935, 4, 0], [465, 19, 346, 11, 10, 3, 1753, 2, 0], [469, 5, 330, 22, 6, 2, 1900, 4, 3], [517, 15, 350, 25, 1, 5, 2083, 1, 1], [510, 16, 302, 48, 14, 5, 1757, 5, 1], [481, 20, 334, 39, 19, 5, 2373, 1, 0], [459, 3, 315, 37, 12, 4, 1956, 5, 2], [505, 13, 343, 42, 1, 5, 2154, 5, 0], [518, 20, 339, 11, 8, 2, 2433, 2, 5], [545, 16, 304, 50, 4, 5, 2072, 0, 3]]\n"
     ]
    }
   ],
   "source": [
    "print(organizeddepthparams)"
   ]
  },
  {
   "cell_type": "code",
   "execution_count": 23,
   "metadata": {},
   "outputs": [],
   "source": [
    "#correlation between parameter a and variance. a is the 3rd depth parameter\n",
    "a=[]\n",
    "for x in range(len(organizeddepthparams)):\n",
    "    a.append(organizeddepthparams[x][0])\n",
    "b=[]\n",
    "for x in range(len(organizeddepthparams)):\n",
    "    b.append(organizeddepthparams[x][1])\n",
    "c=[]\n",
    "for x in range(len(organizeddepthparams)):\n",
    "    c.append(organizeddepthparams[x][2])\n",
    "d=[]\n",
    "for x in range(len(organizeddepthparams)):\n",
    "    d.append(organizeddepthparams[x][3])\n",
    "e=[]\n",
    "for x in range(len(organizeddepthparams)):\n",
    "    e.append(organizeddepthparams[x][4])\n",
    "f=[]\n",
    "for x in range(len(organizeddepthparams)):\n",
    "    f.append(organizeddepthparams[x][5])\n",
    "g=[]\n",
    "for x in range(len(organizeddepthparams)):\n",
    "    g.append(organizeddepthparams[x][6])\n",
    "h=[]\n",
    "for x in range(len(organizeddepthparams)):\n",
    "    h.append(organizeddepthparams[x][7])\n",
    "i=[]\n",
    "for x in range(len(organizeddepthparams)):\n",
    "    i.append(organizeddepthparams[x][8])"
   ]
  },
  {
   "cell_type": "code",
   "execution_count": 24,
   "metadata": {},
   "outputs": [],
   "source": [
    "a=np.divide(np.subtract(a,450),(550-450))\n",
    "b=np.divide(np.subtract(b,0),20)\n",
    "c=np.divide(np.subtract(c,300),(350-300))\n",
    "d=np.divide(np.subtract(d,10),(50-10))\n",
    "e=np.divide(np.subtract(e,0),20)\n",
    "f=np.divide(np.subtract(f,0),5)\n",
    "g=np.divide(np.subtract(g,1500),(2500-1500))\n",
    "h=np.divide(np.subtract(h,0),5)\n",
    "i=np.divide(np.subtract(i,0),5)"
   ]
  },
  {
   "cell_type": "code",
   "execution_count": 25,
   "metadata": {},
   "outputs": [],
   "source": [
    "mask=np.isfinite(variance_results) #find the nans\n",
    "variance_results=np.sqrt(variance_results) #square root variance"
   ]
  },
  {
   "cell_type": "code",
   "execution_count": 26,
   "metadata": {},
   "outputs": [
    {
     "data": {
      "image/png": "[encoded data removed]",
      "text/plain": [
       "<Figure size 432x288 with 1 Axes>"
      ]
     },
     "metadata": {},
     "output_type": "display_data"
    }
   ],
   "source": [
    "plt.scatter(a[mask],variance_results[mask])\n",
    "plt.scatter(b[mask],variance_results[mask])\n",
    "plt.scatter(c[mask],variance_results[mask])\n",
    "plt.scatter(d[mask],variance_results[mask])\n",
    "plt.scatter(e[mask],variance_results[mask])\n",
    "plt.scatter(f[mask],variance_results[mask])\n",
    "plt.scatter(g[mask],variance_results[mask])\n",
    "plt.scatter(h[mask],variance_results[mask])\n",
    "plt.scatter(i[mask],variance_results[mask])\n",
    "\n",
    "plt.plot(a[mask],variance_results[mask])\n",
    "plt.plot(b[mask],variance_results[mask])\n",
    "plt.plot(c[mask],variance_results[mask])\n",
    "plt.plot(d[mask],variance_results[mask])\n",
    "plt.plot(e[mask],variance_results[mask])\n",
    "plt.plot(f[mask],variance_results[mask])\n",
    "plt.plot(g[mask],variance_results[mask])\n",
    "plt.plot(h[mask],variance_results[mask])\n",
    "plt.plot(i[mask],variance_results[mask])\n",
    "\n",
    "plt.show()"
   ]
  },
  {
   "cell_type": "code",
   "execution_count": 27,
   "metadata": {},
   "outputs": [
    {
     "data": {
      "image/png": "[encoded data removed]",
      "text/plain": [
       "<Figure size 576x576 with 1 Axes>"
      ]
     },
     "metadata": {},
     "output_type": "display_data"
    },
    {
     "name": "stdout",
     "output_type": "stream",
     "text": [
      "[-3.86682469 20.99312932]\n"
     ]
    }
   ],
   "source": [
    "paramplt=plt.figure(figsize=(8,8))\n",
    "plt.scatter(a[mask],variance_results[mask])\n",
    "plt.show()\n",
    "paramplt.savefig(\"param20.png\")\n",
    "print(np.polyfit(a[mask],variance_results[mask],1))"
   ]
  },
  {
   "cell_type": "code",
   "execution_count": 28,
   "metadata": {},
   "outputs": [
    {
     "data": {
      "image/png": "[encoded data removed]",
      "text/plain": [
       "<Figure size 576x576 with 1 Axes>"
      ]
     },
     "metadata": {},
     "output_type": "display_data"
    },
    {
     "name": "stdout",
     "output_type": "stream",
     "text": [
      "[ 4.01712894 16.94949688]\n"
     ]
    }
   ],
   "source": [
    "paramplt=plt.figure(figsize=(8,8))\n",
    "plt.scatter(b[mask],variance_results[mask])\n",
    "plt.show()\n",
    "paramplt.savefig(\"param21.png\")\n",
    "print(np.polyfit(b[mask],variance_results[mask],1))"
   ]
  },
  {
   "cell_type": "code",
   "execution_count": 29,
   "metadata": {},
   "outputs": [
    {
     "data": {
      "image/png": "[encoded data removed]",
      "text/plain": [
       "<Figure size 576x576 with 1 Axes>"
      ]
     },
     "metadata": {},
     "output_type": "display_data"
    },
    {
     "name": "stdout",
     "output_type": "stream",
     "text": [
      "[ 5.85003207 16.09299292]\n"
     ]
    }
   ],
   "source": [
    "paramplt=plt.figure(figsize=(8,8))\n",
    "plt.scatter(c[mask],variance_results[mask])\n",
    "plt.show()\n",
    "paramplt.savefig(\"param22.png\")\n",
    "print(np.polyfit(c[mask],variance_results[mask],1))"
   ]
  },
  {
   "cell_type": "code",
   "execution_count": 30,
   "metadata": {},
   "outputs": [
    {
     "data": {
      "image/png": "[encoded data removed]",
      "text/plain": [
       "<Figure size 576x576 with 1 Axes>"
      ]
     },
     "metadata": {},
     "output_type": "display_data"
    },
    {
     "name": "stdout",
     "output_type": "stream",
     "text": [
      "[-0.6563733  19.29698637]\n"
     ]
    }
   ],
   "source": [
    "paramplt=plt.figure(figsize=(8,8))\n",
    "plt.scatter(d[mask],variance_results[mask])\n",
    "plt.show()\n",
    "paramplt.savefig(\"param23.png\")\n",
    "print(np.polyfit(d[mask],variance_results[mask],1))"
   ]
  },
  {
   "cell_type": "code",
   "execution_count": 31,
   "metadata": {},
   "outputs": [
    {
     "data": {
      "image/png": "[encoded data removed]",
      "text/plain": [
       "<Figure size 576x576 with 1 Axes>"
      ]
     },
     "metadata": {},
     "output_type": "display_data"
    },
    {
     "name": "stdout",
     "output_type": "stream",
     "text": [
      "[-2.89115642 20.55176007]\n"
     ]
    }
   ],
   "source": [
    "paramplt=plt.figure(figsize=(8,8))\n",
    "plt.scatter(e[mask],variance_results[mask])\n",
    "plt.show()\n",
    "paramplt.savefig(\"param24.png\")\n",
    "print(np.polyfit(e[mask],variance_results[mask],1))"
   ]
  },
  {
   "cell_type": "code",
   "execution_count": 32,
   "metadata": {},
   "outputs": [
    {
     "data": {
      "image/png": "[encoded data removed]",
      "text/plain": [
       "<Figure size 576x576 with 1 Axes>"
      ]
     },
     "metadata": {},
     "output_type": "display_data"
    },
    {
     "name": "stdout",
     "output_type": "stream",
     "text": [
      "[-8.09126155 23.00173331]\n"
     ]
    }
   ],
   "source": [
    "paramplt=plt.figure(figsize=(8,8))\n",
    "plt.scatter(f[mask],variance_results[mask])\n",
    "plt.show()\n",
    "paramplt.savefig(\"param25.png\")\n",
    "print(np.polyfit(f[mask],variance_results[mask],1))"
   ]
  },
  {
   "cell_type": "code",
   "execution_count": 33,
   "metadata": {},
   "outputs": [
    {
     "data": {
      "image/png": "[encoded data removed]",
      "text/plain": [
       "<Figure size 576x576 with 1 Axes>"
      ]
     },
     "metadata": {},
     "output_type": "display_data"
    },
    {
     "name": "stdout",
     "output_type": "stream",
     "text": [
      "[-0.65028667 19.3212253 ]\n"
     ]
    }
   ],
   "source": [
    "paramplt=plt.figure(figsize=(8,8))\n",
    "plt.scatter(g[mask],variance_results[mask])\n",
    "plt.show()\n",
    "paramplt.savefig(\"param26.png\")\n",
    "print(np.polyfit(g[mask],variance_results[mask],1))"
   ]
  },
  {
   "cell_type": "code",
   "execution_count": 34,
   "metadata": {},
   "outputs": [
    {
     "data": {
      "image/png": "[encoded data removed]",
      "text/plain": [
       "<Figure size 576x576 with 1 Axes>"
      ]
     },
     "metadata": {},
     "output_type": "display_data"
    },
    {
     "name": "stdout",
     "output_type": "stream",
     "text": [
      "[ 8.16099627 15.21529724]\n"
     ]
    }
   ],
   "source": [
    "paramplt=plt.figure(figsize=(8,8))\n",
    "plt.scatter(h[mask],variance_results[mask])\n",
    "plt.show()\n",
    "paramplt.savefig(\"param27.png\")\n",
    "print(np.polyfit(h[mask],variance_results[mask],1))"
   ]
  },
  {
   "cell_type": "code",
   "execution_count": 35,
   "metadata": {
    "scrolled": true
   },
   "outputs": [
    {
     "data": {
      "image/png": "[encoded data removed]",
      "text/plain": [
       "<Figure size 576x576 with 1 Axes>"
      ]
     },
     "metadata": {},
     "output_type": "display_data"
    },
    {
     "name": "stdout",
     "output_type": "stream",
     "text": [
      "[-6.18808467 21.83276431]\n"
     ]
    }
   ],
   "source": [
    "paramplt=plt.figure(figsize=(8,8))\n",
    "plt.scatter(i[mask],variance_results[mask])\n",
    "plt.show()\n",
    "paramplt.savefig(\"param28.png\")\n",
    "print(np.polyfit(i[mask],variance_results[mask],1))"
   ]
  },
  {
   "cell_type": "code",
   "execution_count": 36,
   "metadata": {},
   "outputs": [],
   "source": [
    "import pickle\n",
    "\n",
    "x=open(\"sgd_results\",'wb')\n",
    "pickle.dump([mean_results,median_results,variance_results],x)\n",
    "x.close()"
   ]
  },
  {
   "cell_type": "code",
   "execution_count": 37,
   "metadata": {},
   "outputs": [],
   "source": [
    "#already looks like parameters d, h and i effect the variance!"
   ]
  }
 ],
 "metadata": {
  "kernelspec": {
   "display_name": "Python 3",
   "language": "python",
   "name": "python3"
  },
  "language_info": {
   "codemirror_mode": {
    "name": "ipython",
    "version": 3
   },
   "file_extension": ".py",
   "mimetype": "text/x-python",
   "name": "python",
   "nbconvert_exporter": "python",
   "pygments_lexer": "ipython3",
   "version": "3.6.4"
  }
 },
 "nbformat": 4,
 "nbformat_minor": 2
}
