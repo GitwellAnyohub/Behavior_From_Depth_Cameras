{
 "cells": [
  {
   "cell_type": "markdown",
   "metadata": {},
   "source": [
    "# This notebook teaches you how to extract data using moseq2"
   ]
  },
  {
   "cell_type": "code",
   "execution_count": 10,
   "metadata": {},
   "outputs": [],
   "source": [
    "# Talk to me on how to navigate to the `config` git branch that contains the latest and greatest updates"
   ]
  },
  {
   "cell_type": "code",
   "execution_count": 11,
   "metadata": {},
   "outputs": [
    {
     "name": "stdout",
     "output_type": "stream",
     "text": [
      "Saving default configuration file\r\n",
      "Complete: saved to:\r\n",
      "    /Users/wgillis/Desktop/moseq-default-config.yaml\r\n"
     ]
    }
   ],
   "source": [
    "# if this is your first time running moseq2, you need to generate a default configuration file:\n",
    "# specify the path you want the config file to be saved to\n",
    "!moseq2 gen-config '/Users/wgillis/Desktop/'"
   ]
  },
  {
   "cell_type": "code",
   "execution_count": 12,
   "metadata": {},
   "outputs": [
    {
     "name": "stdout",
     "output_type": "stream",
     "text": [
      "background:\r\n",
      "  roi_dilate: !!python/tuple [10, 10]\r\n",
      "  roi_index: 0\r\n",
      "  roi_shape: ellipse\r\n",
      "  roi_weights: !!python/tuple [1, 0.1, 1]\r\n",
      "  use_plane_bground: false\r\n",
      "cables: {}\r\n",
      "extract:\r\n",
      "  chunk_overlap: 60\r\n",
      "  chunk_size: 1000\r\n",
      "  crop_size: !!python/tuple [80, 80]\r\n",
      "  em_tracking: false\r\n",
      "  flip_file: null\r\n",
      "  fps: 30\r\n",
      "  max_height: 100\r\n",
      "  min_height: 10\r\n",
      "  output_dir: proc\r\n",
      "  prefilter_space: !!python/tuple [3]\r\n",
      "  prefilter_time: !!python/tuple []\r\n",
      "  write_movie: true\r\n"
     ]
    }
   ],
   "source": [
    "# These are the default parameters for a moseq extraction\n",
    "!cat /Users/wgillis/Desktop/moseq-default-config.yaml"
   ]
  },
  {
   "cell_type": "code",
   "execution_count": 13,
   "metadata": {},
   "outputs": [
    {
     "name": "stdout",
     "output_type": "stream",
     "text": [
      "\u001b[1m\u001b[31mdepth.bin\u001b[m\u001b[m*           intel-realsense.mp4\r\n"
     ]
    }
   ],
   "source": [
    "# first, specify the directory your data resides in:\n",
    "%ls /Volumes/Data2/intel-realsense/"
   ]
  },
  {
   "cell_type": "code",
   "execution_count": 14,
   "metadata": {},
   "outputs": [
    {
     "name": "stdout",
     "output_type": "stream",
     "text": [
      "/Volumes/Data2/intel-realsense\n"
     ]
    }
   ],
   "source": [
    "# navigate to that directory\n",
    "%cd /Volumes/Data2/intel-realsense/"
   ]
  },
  {
   "cell_type": "code",
   "execution_count": null,
   "metadata": {},
   "outputs": [],
   "source": [
    "# then, in the terminal run the moseq2 extraction\n",
    "# I don't recommend running this in the notebook, because there is a lot of output that will freeze the notebook\n",
    "!moseq2 extract depth.bin --config=/Users/wgillis/Desktop/moseq-default-config.yaml"
   ]
  },
  {
   "cell_type": "markdown",
   "metadata": {},
   "source": [
    "if you're interested in understanding what the config parameters mean, navigate to the moseq2 codebase and open the `config.py` file. Under the `create_config()` function, there will be a description of each parameter."
   ]
  }
 ],
 "metadata": {
  "kernelspec": {
   "display_name": "Python 3",
   "language": "python",
   "name": "python3"
  },
  "language_info": {
   "codemirror_mode": {
    "name": "ipython",
    "version": 3
   },
   "file_extension": ".py",
   "mimetype": "text/x-python",
   "name": "python",
   "nbconvert_exporter": "python",
   "pygments_lexer": "ipython3",
   "version": "3.6.3"
  },
  "toc": {
   "nav_menu": {},
   "number_sections": true,
   "sideBar": true,
   "skip_h1_title": false,
   "toc_cell": false,
   "toc_position": {},
   "toc_section_display": "block",
   "toc_window_display": false
  }
 },
 "nbformat": 4,
 "nbformat_minor": 2
}
